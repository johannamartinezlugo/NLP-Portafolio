{
 "cells": [
  {
   "cell_type": "markdown",
   "metadata": {},
   "source": [
    "<img src='https://encrypted-tbn0.gstatic.com/images?q=tbn%3AANd9GcQ-VfNtOyJbsaxu43Kztf_cv1mgBG6ZIQZEVw&usqp=CAU'>\n",
    "\n",
    "# Procesamiento de Lenguaje Natural\n",
    "\n",
    "## Proyecto Final"
   ]
  },
  {
   "cell_type": "markdown",
   "metadata": {},
   "source": [
    "## Liga de fútbol femenina. Una mirada desde las redes sociales, con perspectiva de género."
   ]
  },
  {
   "cell_type": "markdown",
   "metadata": {},
   "source": [
    "<img src='https://i.pinimg.com/564x/ed/3b/4e/ed3b4e1a2f4dfa805a8442607229e9cd.jpg'>"
   ]
  },
  {
   "cell_type": "markdown",
   "metadata": {},
   "source": [
    "#### Como el deporte más popular alrededor del mundo, el fútbol puede ser el ejemplo más grande de las disparidades actuales en el deporte. A pesar de la presencia de las mujeres en las canchas desde principios del siglo XX, los gobiernos y las asociaciones de fútbol han eliminado de manera proactiva su capacidad de participar en el juego bonito a través de estereotipos de género, poca inversión, oportunidades profesionales precarias y faltas de respeto."
   ]
  },
  {
   "cell_type": "markdown",
   "metadata": {},
   "source": [
    "# Contenido\n",
    "\n",
    "## 1: Obtención de los datos por medio de web scrapping en Twitter \n",
    "## 2: Limpieza de los datos \n",
    "## 3: Modelo LDA\n",
    "## 4: Nubes de palabras\n",
    "## 5: Análisis de sentimientos\n",
    "## 6: Visualización de los datos"
   ]
  },
  {
   "cell_type": "code",
   "execution_count": 1,
   "metadata": {},
   "outputs": [],
   "source": [
    "import snscrape.modules.twitter as sntwitter\n",
    "import pandas as pd\n",
    "import matplotlib.pyplot as plt\n",
    "import PIL.Image\n",
    "from IPython.display import display\n",
    "from nltk.corpus import words\n",
    "import nltk\n",
    "import numpy as np\n",
    "from wordcloud import WordCloud\n",
    "from wordcloud import ImageColorGenerator\n",
    "from nltk.corpus import stopwords\n",
    "stopwords = stopwords.words('spanish')\n",
    "from dfply import *\n",
    "import re"
   ]
  },
  {
   "cell_type": "markdown",
   "metadata": {},
   "source": [
    "## 1: Obtención de los datos por medio de web scrapping en Twitter "
   ]
  },
  {
   "cell_type": "code",
   "execution_count": 4,
   "metadata": {},
   "outputs": [
    {
     "name": "stdout",
     "output_type": "stream",
     "text": [
      "https://twitter.com/ElCapo711/status/1369076941962280962\n",
      "2021-03-09 00:05:53+00:00\n",
      "@WinSportsTV #LigaFemeninaXWin @JFCadavid Juan no podemos olvidar  Luz Aydee \"LaTotona\" Grisales en bello mucho tiempo trabajando con @FormasIntimas y ma mejor guardameta Sandra Sepulveda del @DIMFI_Oficial saludos desde Medellín Colegas!! \n",
      "😎👍🇰🇭\n",
      "*******************************************************************************************************************************\n",
      "\n",
      "https://twitter.com/FlorOlarte10/status/1368315263695941643\n",
      "2021-03-06 21:39:15+00:00\n",
      "#ligafemeninaxwin la mejor  jugadora femenina es LEICY SANTOS\n",
      "*******************************************************************************************************************************\n",
      "\n",
      "https://twitter.com/LucenErnesto/status/1338283291791732737\n",
      "2020-12-14 00:42:55+00:00\n",
      "¡Felicitaciones campeonas! Todo el reconocimiento para @SantaFe por conseguir el título de la #LIGAFEMENINAxWIN 👏🏼🇨🇴 gran trabajo del @AmericaCaliFem por competir al más alto nivel. ¡Seguiremos apoyando el deporte femenino en nuestra #ColombiaTierraDeAtletas! https://t.co/SPNumqyjnq\n",
      "*******************************************************************************************************************************\n",
      "\n",
      "https://twitter.com/conroca20c09/status/1338282712671641600\n",
      "2020-12-14 00:40:37+00:00\n",
      "@AmericaCaliFem Para Eso Le Robaron El Partido a @MFCFem en Cali?\n",
      "#Karma #LIGAFEMENINAxWIN\n",
      "*******************************************************************************************************************************\n",
      "\n",
      "https://twitter.com/hatedlifedie/status/1338282492294533125\n",
      "2020-12-14 00:39:44+00:00\n",
      "#lopagarasumadre #lopagarasumadre #lopagarasumadre #lopagarasumadre #lopagarasumadre #lopagarasumadre #lopagarasumadre #LIGAFEMENINAxWIN #LigaFemenina\n",
      "*******************************************************************************************************************************\n",
      "\n",
      "https://twitter.com/Lidamaur/status/1338280566848937985\n",
      "2020-12-14 00:32:05+00:00\n",
      "Felicitaciones a  Santa fe #LIGAFEMENINAxWIN son unas berracas\n",
      "*******************************************************************************************************************************\n",
      "\n",
      "https://twitter.com/PacoMrPhoto/status/1338280484628025349\n",
      "2020-12-14 00:31:46+00:00\n",
      "Que linda es la #LigaFemenina2020 #LIGAFEMENINAxWIN gracias a nuestras guerreras @AmericadeCali por darnos la alegría @catausme @tulioagomez\n",
      "*******************************************************************************************************************************\n",
      "\n",
      "https://twitter.com/CaroLG1994/status/1338280432174067716\n",
      "2020-12-14 00:31:33+00:00\n",
      "Palo palo palo, palo bonito palo he, he, he somos Campeonas otra vez🎶\n",
      "#SantaFeCampeón\n",
      "\n",
      "#LIGAFEMENINAxWIN https://t.co/WsXxCmEILJ\n",
      "*******************************************************************************************************************************\n",
      "\n",
      "https://twitter.com/issa_ave/status/1338279904060858368\n",
      "2020-12-14 00:29:27+00:00\n",
      "Yo te quiero @SantaFe ♥️🦁🔥 #LIGAFEMENINAxWIN https://t.co/dOoJA6YxJn\n",
      "*******************************************************************************************************************************\n",
      "\n",
      "https://twitter.com/Salua_96/status/1338279447137542145\n",
      "2020-12-14 00:27:38+00:00\n",
      "Increíble @SheylaGarcia07  el comentario binario y machista en #LIGAFEMENINAxWIN lo lindo del fútbol femenino por la \"sensibilidad de la mujer\"... Cualquier persona, humana, sin necesidad de género, estaría emocionada tener un logro tan grande en su carrera profesional.\n",
      "*******************************************************************************************************************************\n",
      "\n",
      "https://twitter.com/GonzaDeFeliche/status/1338279288685137921\n",
      "2020-12-14 00:27:01+00:00\n",
      "Ha sido un placer hacer parte de la #LIGAFEMENINAxWIN. Muy feliz por haber compartido transmisiones con @SheylaGarcia07, que se perfila como grandísima comentarista. Felicitaciones Shey, a todas las compañeras del canal y, por supuesto, a cada periodista dedicada al fút fem. ⚽ https://t.co/eooWepK8SB\n",
      "*******************************************************************************************************************************\n",
      "\n",
      "https://twitter.com/Miss_Athenea/status/1338277846284955648\n",
      "2020-12-14 00:21:17+00:00\n",
      "#LIGAFEMENINAxWIN  #Leonas  #SantaFe https://t.co/UHgyWI04PA\n",
      "*******************************************************************************************************************************\n",
      "\n",
      "https://twitter.com/DaniSoloFoot/status/1338277368784429057\n",
      "2020-12-14 00:19:23+00:00\n",
      "Santafe campeón de la #LIGAFEMENINAxWIN y fue justo porque fue el mejor , felicitaciones para todos sus hinchas que en 15 días pueden celebrar también con el equipo masculino https://t.co/Q3AXMnstiB\n",
      "*******************************************************************************************************************************\n",
      "\n",
      "https://twitter.com/samalobe/status/1338277012016947200\n",
      "2020-12-14 00:17:58+00:00\n",
      "Felicitaciones @SantaFe por la segunda ⭐  #VamosLeonas 🦁🦁🇵🇱 #LIGAFEMENINAxWIN\n",
      "*******************************************************************************************************************************\n",
      "\n",
      "https://twitter.com/DeportesTotal8/status/1338276639650811904\n",
      "2020-12-14 00:16:29+00:00\n",
      "🥳🥳🥳CAMPEONAS🥳🥳🥳\n",
      "Independiente Santa Fe femenino es la nueva campeona del futbol colombiano, después de ganar hoy 2-0 al América y en el global quedo 4-1.\n",
      "Merecido triunfo para el equipo bogotano que mostro un gran futbol durante todo el campeonato\n",
      " #LIGAFEMENINAxWIN https://t.co/4t4FBIDJzp\n",
      "*******************************************************************************************************************************\n",
      "\n",
      "https://twitter.com/CaoValencia/status/1338276164633325569\n",
      "2020-12-14 00:14:36+00:00\n",
      "#LIGAFEMENINAxWIN Las primeras campeonas del fútbol profesional femenino (2017) repiten título: 👏 @SantaFe (2020) ⚽. Resultado del apoyo y proceso serio #FinalSantaFeAmerica, los dos mejores equipos de la #LigaBetPlayFemenina https://t.co/JSWCa4bfNJ\n",
      "*******************************************************************************************************************************\n",
      "\n",
      "https://twitter.com/AsiesMariaC/status/1338276032638558210\n",
      "2020-12-14 00:14:04+00:00\n",
      "Porque ROJO solo hay uno y se llama @SantaFe, rugeeen las leonas en la #LIGAFEMENINAxWIN. campeonas merecidas https://t.co/qBwEC5Vgst\n",
      "*******************************************************************************************************************************\n",
      "\n",
      "https://twitter.com/Jaylopezr/status/1338275847749439489\n",
      "2020-12-14 00:13:20+00:00\n",
      "@AmericaCaliFem infinitas gracias! Son unas guerreras, dejaron todo en la cancha.  Nos dieron la alegría de estar en la final. #LIGAFEMENINAxWIN\n",
      "*******************************************************************************************************************************\n",
      "\n",
      "https://twitter.com/Ocelopilli7913/status/1338275671064326146\n",
      "2020-12-14 00:12:38+00:00\n",
      "@WinSportsTV #LIGAFEMENINAxWIN ¡Muy bien @SantaFe! ¡Leonas campeonas!\n",
      "*******************************************************************************************************************************\n",
      "\n",
      "https://twitter.com/Bta1941/status/1338275422644150272\n",
      "2020-12-14 00:11:39+00:00\n",
      "FELICIDADES LEONAS !!! A CELEBRAR Y DISFRUTAR !! QUE ORGULLO LEONAS !! #LIGAFEMENINAxWIN\n",
      "*******************************************************************************************************************************\n",
      "\n",
      "https://twitter.com/_stev1795/status/1338274759289806851\n",
      "2020-12-14 00:09:01+00:00\n",
      "@Valen_Rincon11 #LIGAFEMENINAxWIN  hola Valentina saludos desde United states\n",
      "*******************************************************************************************************************************\n",
      "\n",
      "https://twitter.com/mflorianr69/status/1338274389364772865\n",
      "2020-12-14 00:07:33+00:00\n",
      "Por favor amigazos de WIN transmitan celebración de la final femenina #LIGAFEMENINAxWIN\n",
      "*******************************************************************************************************************************\n",
      "\n",
      "https://twitter.com/Colfootball1/status/1338273444895600645\n",
      "2020-12-14 00:03:47+00:00\n",
      "83' - @Santafe_Fem is very close to secure its 2nd title in the history, leading 2-0 over @AmericaCaliFem and 4-1 on agg.\n",
      "#LIGAFEMENINAxWIN #LigaBetPlayFemenina\n",
      "*******************************************************************************************************************************\n",
      "\n",
      "https://twitter.com/JFranksal/status/1338273020343951360\n",
      "2020-12-14 00:02:06+00:00\n",
      "#LIGAFEMENINAxWIN  La juez y los de Win, que se pongan la camiseta del America, para que no se note la parcialidad\n",
      "*******************************************************************************************************************************\n",
      "\n",
      "https://twitter.com/JulinGi71595306/status/1338271725516181506\n",
      "2020-12-13 23:56:57+00:00\n",
      "#LIGAFEMENINAxWIN santa fe está en su mejor momento, vamos por esa copa 🇦🇹\n",
      "*******************************************************************************************************************************\n",
      "\n",
      "https://twitter.com/JFranksal/status/1338271722588475392\n",
      "2020-12-13 23:56:57+00:00\n",
      "#LIGAFEMENINAxWIN Que no se note la parcialidad de los comentaristas de Win hacia el America, tienen que hacer mucha fuerza para que en 20 minutoa hagan 3 goles\n",
      "*******************************************************************************************************************************\n",
      "\n",
      "https://twitter.com/NORBERT80823048/status/1338271702229393409\n",
      "2020-12-13 23:56:52+00:00\n",
      "#LIGAFEMENINAxWIN Felicitaciones señoritas espectaculares todas.\n",
      "*******************************************************************************************************************************\n",
      "\n",
      "https://twitter.com/StevenMazuera/status/1338271651830648833\n",
      "2020-12-13 23:56:40+00:00\n",
      "Desde zarzal valle viendo a nuestras guerreras de @AmericaCaliFem orgulloso de ellas @JFCadavid @WinSportsTV #LIGAFEMENINAxWIN\n",
      "*******************************************************************************************************************************\n",
      "\n",
      "https://twitter.com/soniaramirezad/status/1338271348771188742\n",
      "2020-12-13 23:55:28+00:00\n",
      "@fpcwin \n",
      "Vamos LEONAS a ser CAMPEONAS como la primera vez @SantaFe #LIGAFEMENINAxWIN\n",
      "*******************************************************************************************************************************\n",
      "\n",
      "https://twitter.com/mflorianr69/status/1338271153069158404\n",
      "2020-12-13 23:54:41+00:00\n",
      "Excelente equipo de finales Jotas+Sheyla+Cadavid+Rincon un abrazo cachaco #LIGAFEMENINAxWIN\n",
      "*******************************************************************************************************************************\n",
      "\n",
      "https://twitter.com/comandoguajiro/status/1338270954976387072\n",
      "2020-12-13 23:53:54+00:00\n",
      "#LIGAFEMENINAxWIN\n",
      "Vamos mis reinas todas son @campeonas\n",
      "*******************************************************************************************************************************\n",
      "\n",
      "https://twitter.com/couraxe/status/1338270738843906048\n",
      "2020-12-13 23:53:02+00:00\n",
      "Desde 🇺🇸 apoyando a nuestras diablas rojas #LIGAFEMENINAxWIN 👏🏼👏🏼👏🏼 por hacer visible el fútbol femenino de Colombia \n",
      "\n",
      "@AmericaCaliFem ♥️♥️♥️♥️♥️\n",
      "*******************************************************************************************************************************\n",
      "\n",
      "https://twitter.com/ld_fl33/status/1338270368709169154\n",
      "2020-12-13 23:51:34+00:00\n",
      "Jessica Peña le pega muy bien a ese balón pana.... Que negra para cobrar esos tiros libres😯 @SantaFe #LigaFemeninaBetPlayDimayor #LIGAFEMENINAxWIN\n",
      "*******************************************************************************************************************************\n",
      "\n",
      "https://twitter.com/WilfredRicardo/status/1338270181911633920\n",
      "2020-12-13 23:50:49+00:00\n",
      "@JFCadavid por qué le gustó más comentar que relatar ? #LIGAFEMENINAxWIN\n",
      "*******************************************************************************************************************************\n",
      "\n",
      "https://twitter.com/Salua_96/status/1338270176299585545\n",
      "2020-12-13 23:50:48+00:00\n",
      "Ustedes tienen una excelente narradora en casa #LIGAFEMENINAxWIN estoy segura que @Alejaromerob  será nuestra primera narradora en Colombia 🥇👌🏻\n",
      "*******************************************************************************************************************************\n",
      "\n",
      "https://twitter.com/camilitovargas/status/1338269998024974338\n",
      "2020-12-13 23:50:06+00:00\n",
      "@SheylaGarcia07 Liana Salazar si no estoy mal también fue campeona de la Libertadores con Huila @WinSportsTV @JFCadavid @jotasmantilla #LIGAFEMENINAxWIN\n",
      "*******************************************************************************************************************************\n",
      "\n",
      "https://twitter.com/nico1502/status/1338269015685337092\n",
      "2020-12-13 23:46:11+00:00\n",
      "@JFCadavid el lío de @AmericaCaliFem es que está jugando contra el Huila campeón de Libertadores. Ahí hay mucho nivel.\n",
      "\n",
      "#LIGAFEMENINAxWIN\n",
      "*******************************************************************************************************************************\n",
      "\n",
      "https://twitter.com/CorreaAFM1988/status/1338268422036201475\n",
      "2020-12-13 23:43:50+00:00\n",
      "#LIGAFEMENINAxWIN Excelente hoy Daniela Solera.\n",
      "*******************************************************************************************************************************\n",
      "\n",
      "https://twitter.com/_Diaz_Diaz/status/1338268128984395783\n",
      "2020-12-13 23:42:40+00:00\n",
      "Qué desespero @jotasmantilla interrumpiendo a @SheylaGarcia07 cada que habla.\n",
      "A ver si @WinSportsTV les da una capacitación de periodismo con enfoque de género a esos tipos.\n",
      "#LIGAFEMENINAxWIN\n",
      "*******************************************************************************************************************************\n",
      "\n",
      "https://twitter.com/bryantura/status/1338268086957387777\n",
      "2020-12-13 23:42:30+00:00\n",
      "#LIGAFEMENINAxWIN\n",
      "*******************************************************************************************************************************\n",
      "\n",
      "https://twitter.com/CENTELL80065380/status/1338267501923360771\n",
      "2020-12-13 23:40:10+00:00\n",
      "#LIGAFEMENINAxWIN\n",
      "Estoy pagando WIN MÁS, solo por ver a las LEONAS y a los LEONES, @SantaFe ser Campeonas y Campeones\n",
      "*******************************************************************************************************************************\n",
      "\n",
      "https://twitter.com/CRISTHIANBAR/status/1338267272842981376\n",
      "2020-12-13 23:39:16+00:00\n",
      "#LIGAFEMENINAxWIN Vamos Santa Fe, queremos la coopaaa\n",
      "*******************************************************************************************************************************\n",
      "\n",
      "https://twitter.com/NanisRamirez70/status/1338267194942251008\n",
      "2020-12-13 23:38:57+00:00\n",
      "@WinSportsTV @SantaFe #LIGAFEMENINAxWIN #Leonas  vamos leonas, esa estrella es nuestra\n",
      "*******************************************************************************************************************************\n",
      "\n",
      "https://twitter.com/aldobeltrancx/status/1338266522846961664\n",
      "2020-12-13 23:36:17+00:00\n",
      "#LIGAFEMENINAxWIN Nadie vió el penal sin balón contra Santa Fe???\n",
      "*******************************************************************************************************************************\n",
      "\n",
      "https://twitter.com/manetapias0560/status/1338265533217693702\n",
      "2020-12-13 23:32:21+00:00\n",
      "#LIGAFEMENINAxWIN Leonas justas campeonas, Barrancabermeja albiroja presente.\n",
      "*******************************************************************************************************************************\n",
      "\n",
      "https://twitter.com/elisaserrot/status/1338261059757551623\n",
      "2020-12-13 23:14:34+00:00\n",
      "@WinSportsTV deberían esforzarse los narradores en averiguar quiénes son las jugadoras y no estar cada 2 minutos preguntando de donde son... 🙄 además cambiándoles los nombres. #ligafemeninaxwin\n",
      "*******************************************************************************************************************************\n",
      "\n",
      "https://twitter.com/CaroManosalvaC/status/1338259841639387137\n",
      "2020-12-13 23:09:44+00:00\n",
      "#ligafemeninaxwin que buenas jugadoras Santa Fe!! Vamos!! @SantaFe\n",
      "*******************************************************************************************************************************\n",
      "\n",
      "https://twitter.com/FreyNarvaez/status/1338258447436025858\n",
      "2020-12-13 23:04:12+00:00\n",
      "Aquí, apoyando a las Leonas. ¡Fuerza, @SantaFe! #LigaFemeninaxWin\n",
      "*******************************************************************************************************************************\n",
      "\n",
      "https://twitter.com/IgnacioCasalla5/status/1338256809568727046\n",
      "2020-12-13 22:57:41+00:00\n",
      "#ligafemeninaxwin cheila deje de ser protagonista aprenda de los comentaristas\n",
      "*******************************************************************************************************************************\n",
      "\n",
      "https://twitter.com/katheCez/status/1338256670263271424\n",
      "2020-12-13 22:57:08+00:00\n",
      "#LIGAFEMENINAxWIN que por cambien al narrador! Que desesperación, no sabe ni el nombre de sus compañeros\n",
      "Por favor @WinSportsTV pongan a alguien competente y profesional\n",
      "*******************************************************************************************************************************\n",
      "\n",
      "https://twitter.com/manetapias0560/status/1338254725989478406\n",
      "2020-12-13 22:49:24+00:00\n",
      "#LIGAFEMENINAxWIN Leonas son las mejores, te apoyamos desde Barrancabermeja.\n",
      "*******************************************************************************************************************************\n",
      "\n",
      "https://twitter.com/dollyte62/status/1338253798809153538\n",
      "2020-12-13 22:45:43+00:00\n",
      "#ligafemeninaxwin hoy las leonas son campeonas. Que viva el fútbol femenino\n",
      "*******************************************************************************************************************************\n",
      "\n",
      "https://twitter.com/AndreaPedroza17/status/1338253154966704128\n",
      "2020-12-13 22:43:10+00:00\n",
      "#LigaFemeninaXwin Vamos América que aún tenemos tiempo. ¡Ustedes son guerreras y podemos ganar el bicampeonato! Ánimo\n",
      "*******************************************************************************************************************************\n",
      "\n",
      "https://twitter.com/doradovale/status/1338250428874715137\n",
      "2020-12-13 22:32:20+00:00\n",
      "Goooolllllllllllllllll de mis leonas  carajo,  Fanny Gauto. SantaFe 1 - 0 America.\n",
      "\n",
      "#ligafemeninaxwin\n",
      "*******************************************************************************************************************************\n",
      "\n",
      "https://twitter.com/Chenao4/status/1338250308229722113\n",
      "2020-12-13 22:31:51+00:00\n",
      "El relator de la final debería ser alguien más cercano al fútbol femenino, para que no tenga que hacerse el ingenuo haciendo preguntas estupidas. #ligafemeninaxwin\n",
      "*******************************************************************************************************************************\n",
      "\n",
      "https://twitter.com/ashima7/status/1338249669227515911\n",
      "2020-12-13 22:29:19+00:00\n",
      "Tremendas capitanas 💪🏼💪🏼\n",
      "Fany Gauto 🦁\n",
      "Catalina Usme👹\n",
      "#LigaFemeninaBetPlayDimayor \n",
      "#LIGAFEMENINAxWIN https://t.co/5phrZHcC8G\n",
      "*******************************************************************************************************************************\n",
      "\n",
      "https://twitter.com/ilovechontaduro/status/1338249601200119808\n",
      "2020-12-13 22:29:03+00:00\n",
      "#ligafemeninaxwin VAMOS AMÉRICA!!!\n",
      "*******************************************************************************************************************************\n",
      "\n",
      "https://twitter.com/PaolaGpink/status/1338248097277861888\n",
      "2020-12-13 22:23:04+00:00\n",
      "@WinSportsTV #ligafemeninaxwin vamos leonasssss\n",
      "*******************************************************************************************************************************\n",
      "\n",
      "https://twitter.com/OlimpoMoreno/status/1338247794432282629\n",
      "2020-12-13 22:21:52+00:00\n",
      "#ligafemeninaxwin Vamos Santafe Vamos Leonas\n",
      "*******************************************************************************************************************************\n",
      "\n",
      "https://twitter.com/CamilaUC19/status/1338246918519087105\n",
      "2020-12-13 22:18:23+00:00\n",
      "Vamos leonas 🔴⚪\n",
      "Hoy repetimos 🏆⭐\n",
      "#VAMOSLEONAS 🦁\n",
      "#LIGAFEMENINAXWIN\n",
      "@SantaFe\n",
      "*******************************************************************************************************************************\n",
      "\n",
      "https://twitter.com/ashima7/status/1338245600631025668\n",
      "2020-12-13 22:13:09+00:00\n",
      "Final Liga Femenina de Fútbol \n",
      "❤️❤️❤️❤️❤️❤️❤️❤️❤️❤️❤️\n",
      "⚽️⚽️⚽️⚽️⚽️⚽️⚽️⚽️⚽️⚽️⚽️\n",
      "🦁👹🦁👹🦁👹🦁👹🦁👹🦁\n",
      "#ligafemeninaxwin\n",
      "*******************************************************************************************************************************\n",
      "\n",
      "https://twitter.com/Colfootball1/status/1337361027659423749\n",
      "2020-12-11 11:38:10+00:00\n",
      "#LIGAFEMENINAxWIN 1st leg: @AmericaCaliFem lost at home 1-2 to @Santafe_Fem in the final. The 2nd league will be played in Bogota on Sunday and Santa Fe may be crowned as champions for the second time in their history https://t.co/LXgTawZ6H5\n",
      "*******************************************************************************************************************************\n",
      "\n",
      "https://twitter.com/_superpoderosas/status/1337246765523881984\n",
      "2020-12-11 04:04:08+00:00\n",
      "#LigaFemenina 🇨🇴⚽️🏆 | Santa Fe fue efectivo y se llevó la ventaja en la final de ida.\n",
      "\n",
      "#Crónica por @soyandresacosta \n",
      "\n",
      "👉 https://t.co/UfJdLWeJPT\n",
      "\n",
      "#FINALFEMENINAxWIN #LIGAFEMENINAxWIN #LigaFemeninaBetPlayDIMAYOR https://t.co/WAWPIN7iQ8\n",
      "*******************************************************************************************************************************\n",
      "\n",
      "https://twitter.com/Jorgebautistal7/status/1337241119034388480\n",
      "2020-12-11 03:41:42+00:00\n",
      "#LIGAFEMENINAxWIN no me gustó las declaraciones de la jugadora de América no digo el nombre. no generemos violencia,  como a si que van a muerte?, ni la liga de hombres hablan a sí..... Que no les falte profesionalismo niñas hemosas bendiciones\n",
      "*******************************************************************************************************************************\n",
      "\n",
      "https://twitter.com/Gabrieto29/status/1337230645651759110\n",
      "2020-12-11 03:00:05+00:00\n",
      "¿De donde habrán sacado a Ivonne Chacón? Porque lo que ha hecho en la cancha hoy no es de este mundo, de pie para aplaudir el partido que ha dejado está jugadora y el compromiso y amor por la camiseta que transmitió\n",
      "Vamos santa fe, queremos la copa #LIGAFEMENINAxWIN #SantaFe\n",
      "*******************************************************************************************************************************\n",
      "\n",
      "https://twitter.com/malexandra2000/status/1337229701979451393\n",
      "2020-12-11 02:56:20+00:00\n",
      "Gran partido,  con toda en la vuelta Santa fe. \n",
      "\n",
      "#LIGAFEMENINAxWIN \n",
      "#LigaFemeninaBetPlayDimayor\n",
      "*******************************************************************************************************************************\n",
      "\n",
      "https://twitter.com/eumedinar/status/1337229260092813319\n",
      "2020-12-11 02:54:34+00:00\n",
      "@WinSportsTV #LIGAFEMENINAxWIN queremos que inviten a la GOGA  para que narre la final femenina ..\n",
      "*******************************************************************************************************************************\n",
      "\n",
      "https://twitter.com/yorpa26/status/1337228944534368262\n",
      "2020-12-11 02:53:19+00:00\n",
      "Pase lo que pase muy orgullosa de las diablitas #LIGAFEMENINAxWIN\n",
      "*******************************************************************************************************************************\n",
      "\n",
      "https://twitter.com/VivianaSaGu/status/1337228554866733061\n",
      "2020-12-11 02:51:46+00:00\n",
      "@SantaFe Vamos #leonas 🦁♀️ Vamos que esa estrella es nuestra 😄\n",
      "#PrimerasParaLaEternidad 🇮🇩⚽\n",
      "\n",
      "#LIGAFEMENINAxWIN #LigaFemeninaBetPlayDimayor\n",
      "*******************************************************************************************************************************\n",
      "\n",
      "https://twitter.com/_superpoderosas/status/1337228473333665792\n",
      "2020-12-11 02:51:27+00:00\n",
      "⏱️90': 🔄 Es retirada en camilla Ysaura Viso e ingresa Nelly Córdoba. Cuatro minutos de adición.\n",
      "\n",
      "🆚 América de Cali 1-2 Santa Fe\n",
      "\n",
      "Final - Ida #LigaFemenina 🇨🇴⚽️🏆 2020\n",
      "#LIGAFEMENINAxWIN #LigaFemeninaBetPlayDimayor\n",
      "*******************************************************************************************************************************\n",
      "\n",
      "https://twitter.com/stijuanjo/status/1337228305129467904\n",
      "2020-12-11 02:50:47+00:00\n",
      "#LIGAFEMENINAxWIN figura del partido, todo santa fe\n",
      "*******************************************************************************************************************************\n",
      "\n",
      "https://twitter.com/marthastella14/status/1337227611727159297\n",
      "2020-12-11 02:48:01+00:00\n",
      "#LIGAFEMENINAxWIN Vamos mis Leonas santafereñas por el título,,, son maravillosas abrazos de León\n",
      "*******************************************************************************************************************************\n",
      "\n",
      "https://twitter.com/stijuanjo/status/1337227421410582528\n",
      "2020-12-11 02:47:16+00:00\n",
      "#LIGAFEMENINAxWIN,vamos mis leonas, más fuertes que nunca.\n",
      "*******************************************************************************************************************************\n",
      "\n",
      "https://twitter.com/_superpoderosas/status/1337227297087229959\n",
      "2020-12-11 02:46:46+00:00\n",
      "⏱️86': Insiste más América en busca del empate, tiro de esquina de Catalina Usme que no encuentra recepción.\n",
      "\n",
      "🆚 América de Cali 1-2 Santa Fe\n",
      "\n",
      "Final - Ida #LigaFemenina 🇨🇴⚽️🏆 2020\n",
      "#LIGAFEMENINAxWIN #LigaFemeninaBetPlayDimayor\n",
      "*******************************************************************************************************************************\n",
      "\n",
      "https://twitter.com/_superpoderosas/status/1337226227346796555\n",
      "2020-12-11 02:42:31+00:00\n",
      "⏱️82': 🟨 Amonestada Jessica Peña en Santa Fe.\n",
      "\n",
      "🆚 América de Cali 1-2 Santa Fe\n",
      "\n",
      "Final - Ida #LigaFemenina 🇨🇴⚽️🏆 2020\n",
      "#LIGAFEMENINAxWIN #LigaFemeninaBetPlayDimayor\n",
      "*******************************************************************************************************************************\n",
      "\n",
      "https://twitter.com/DamianAlv04/status/1337225871070011392\n",
      "2020-12-11 02:41:06+00:00\n",
      "#LIGAFEMENINAxWIN  VAMOS LEONAS! ESTE AÑO SE NOS DARÁ A USTEDES Y AL MASCULINO!! VAMOS SANTA FE ! @WinSportsTV @LigaBetPlayD\n",
      "*******************************************************************************************************************************\n",
      "\n",
      "https://twitter.com/_superpoderosas/status/1337225788098277376\n",
      "2020-12-11 02:40:46+00:00\n",
      "⏱️80': Prueba Gisela Robledo desde fuera del área y rechaza la defensa cardenal.\n",
      "\n",
      "🆚 América de Cali 1-2 Santa Fe\n",
      "\n",
      "Final - Ida #LigaFemenina 🇨🇴⚽️🏆 2020\n",
      "#LIGAFEMENINAxWIN #LigaFemeninaBetPlayDimayor\n",
      "*******************************************************************************************************************************\n",
      "\n",
      "https://twitter.com/Jorgebautistal7/status/1337225509399392259\n",
      "2020-12-11 02:39:40+00:00\n",
      "#LIGAFEMENINAxWIN señores yo soy León soy bogotano......... Animo. Leonassss\n",
      "*******************************************************************************************************************************\n",
      "\n",
      "https://twitter.com/_superpoderosas/status/1337225415899967492\n",
      "2020-12-11 02:39:18+00:00\n",
      "⏱️79': Remate de zurda de Fany Gauto, desvía Anlly Iglesias y Natalia Giraldo envía al tiro de esquina.\n",
      "\n",
      "🆚 América de Cali 1-2 Santa Fe\n",
      "\n",
      "Final - Ida #LigaFemenina 🇨🇴⚽️🏆 2020\n",
      "#LIGAFEMENINAxWIN #LigaFemeninaBetPlayDimayor\n",
      "*******************************************************************************************************************************\n",
      "\n",
      "https://twitter.com/stijuanjo/status/1337225289059938306\n",
      "2020-12-11 02:38:48+00:00\n",
      "#LIGAFEMENINAxWIN Que tal y seamos campeones  masculino y femenino por primera vez, sería historico\n",
      "*******************************************************************************************************************************\n",
      "\n",
      "https://twitter.com/Jorgebautistal7/status/1337224928832188416\n",
      "2020-12-11 02:37:22+00:00\n",
      "#LIGAFEMENINAxWIN vamos leonas desde. Bogotá, las estamos alentando\n",
      "*******************************************************************************************************************************\n",
      "\n",
      "https://twitter.com/stijuanjo/status/1337224595326328833\n",
      "2020-12-11 02:36:02+00:00\n",
      "#LIGAFEMENINAxWIN excelente partido I Chacon\n",
      "*******************************************************************************************************************************\n",
      "\n",
      "https://twitter.com/exterminio23ho1/status/1337224592671248385\n",
      "2020-12-11 02:36:01+00:00\n",
      "#LIGAFEMENINAxWIN me gusta mas el comentario de diana rincon que el de sheila @EduardoLuisFut @campoeliasjr saludos desde Villavicencio\n",
      "*******************************************************************************************************************************\n",
      "\n",
      "https://twitter.com/diegonoticiass/status/1337224454825500673\n",
      "2020-12-11 02:35:29+00:00\n",
      "Será ver futbol femenino por W*n +\n",
      "\n",
      "*dijo nunca nadie ni llevado por el popper\n",
      "#LIGAFEMENINAxWIN\n",
      "*******************************************************************************************************************************\n",
      "\n",
      "https://twitter.com/LisiDajome/status/1337224195286167553\n",
      "2020-12-11 02:34:27+00:00\n",
      "#LIGAFEMENINAxWIN vamos mis diablitas por el bicampeonato\n",
      "*******************************************************************************************************************************\n",
      "\n",
      "https://twitter.com/stijuanjo/status/1337224054873464833\n",
      "2020-12-11 02:33:53+00:00\n",
      "#LIGAFEMENINAxWIN,volveremos , volveremos, vamos mis LEONAS.\n",
      "*******************************************************************************************************************************\n",
      "\n",
      "https://twitter.com/stijuanjo/status/1337223789420163073\n",
      "2020-12-11 02:32:50+00:00\n",
      "#LIGAFEMENINAxWIN vamos que vamos mis leonas, se debe marcar otro gol para más tranquilidad.\n",
      "*******************************************************************************************************************************\n",
      "\n",
      "https://twitter.com/ZenythDemon95/status/1337223780041588737\n",
      "2020-12-11 02:32:48+00:00\n",
      "La emoción de celebrar un gol de mis leonas, no me la quita nadie. 🇮🇩🇮🇩\n",
      "#LIGAFEMENINAxWIN\n",
      "*******************************************************************************************************************************\n",
      "\n",
      "https://twitter.com/_superpoderosas/status/1337223777869058048\n",
      "2020-12-11 02:32:47+00:00\n",
      "⏱️72': 🔄 Cambio en América, ingresa Mariana Zamorano por Manuela González.\n",
      "\n",
      "🆚 América de Cali 1-2 Santa Fe\n",
      "\n",
      "Final - Ida #LigaFemenina 🇨🇴⚽️🏆 2020\n",
      "#LIGAFEMENINAxWIN #LigaFemeninaBetPlayDimayor\n",
      "*******************************************************************************************************************************\n",
      "\n",
      "https://twitter.com/Fernand15454070/status/1337223456081973249\n",
      "2020-12-11 02:31:30+00:00\n",
      "#LIGAFEMENINAxWIN Que crack Fany Gauto, e Isaura Viso grandes... Como las demás niñas... 🦁🦁\n",
      "*******************************************************************************************************************************\n",
      "\n",
      "https://twitter.com/Fernand15454070/status/1337223197700321281\n",
      "2020-12-11 02:30:29+00:00\n",
      "#LIGAFEMENINAxWIN Vamos Leonas a mantener el buen resultado que tenemos. 🦁🦁🦁🦁\n",
      "*******************************************************************************************************************************\n",
      "\n",
      "https://twitter.com/JuanDavidLugoG1/status/1337223167316791301\n",
      "2020-12-11 02:30:22+00:00\n",
      "Vamos leonas ❤️ con la garra a ganar 🥇 🐾. Desde Acacías, Meta viendo la Final Femenina #LIGAFEMENINAxWIN\n",
      "*******************************************************************************************************************************\n",
      "\n",
      "https://twitter.com/_superpoderosas/status/1337223082180825088\n",
      "2020-12-11 02:30:01+00:00\n",
      "⏱️67': 🔄 Cambio en Santa Fe, ingresa Nancy Madrid por Ivonne Chacón.\n",
      "\n",
      "🆚 América de Cali 1-2 Santa Fe\n",
      "\n",
      "Final - Ida #LigaFemenina 🇨🇴⚽️🏆 2020\n",
      "#LIGAFEMENINAxWIN #LigaFemeninaBetPlayDimayor\n",
      "*******************************************************************************************************************************\n",
      "\n",
      "https://twitter.com/Jorgebautistal7/status/1337222587697557507\n",
      "2020-12-11 02:28:03+00:00\n",
      "#LIGAFEMENINAxWIN vamos leonas, animo\n",
      "*******************************************************************************************************************************\n",
      "\n",
      "https://twitter.com/AVecesMateo/status/1337222395204145152\n",
      "2020-12-11 02:27:18+00:00\n",
      "Wendy Bonilla es de América y ya ingresó #LigaFemeninaxWin\n",
      "*******************************************************************************************************************************\n",
      "\n",
      "https://twitter.com/_superpoderosas/status/1337222264891301888\n",
      "2020-12-11 02:26:46+00:00\n",
      "⏱️65': Gol anulado para la visita por falta sobre Daniela Solera.\n",
      "\n",
      "🆚 América de Cali 1-2 Santa Fe\n",
      "\n",
      "Final - Ida #LigaFemenina 🇨🇴⚽️🏆 2020\n",
      "#LIGAFEMENINAxWIN #LigaFemeninaBetPlayDimayor\n",
      "*******************************************************************************************************************************\n",
      "\n",
      "https://twitter.com/_superpoderosas/status/1337221879271223296\n",
      "2020-12-11 02:25:15+00:00\n",
      "⏱️63': Ivonne Chacón continúa en el terreno de juego, el ingreso de Nelly Córdoba no se dio.\n",
      "\n",
      "🆚 América de Cali 1-2 Santa Fe\n",
      "\n",
      "Final - Ida #LigaFemenina 🇨🇴⚽️🏆 2020\n",
      "#LIGAFEMENINAxWIN #LigaFemeninaBetPlayDimayor\n",
      "*******************************************************************************************************************************\n",
      "\n",
      "https://twitter.com/AricapaTatiana/status/1337221706189053957\n",
      "2020-12-11 02:24:33+00:00\n",
      "#LIGAFEMENINAxWIN \n",
      "Vamos leonas por la segunda estrella 🌟🌟🌟🌟🌟🌟🌟🌟\n",
      "*******************************************************************************************************************************\n",
      "\n",
      "https://twitter.com/Lafirma95/status/1337221485728047111\n",
      "2020-12-11 02:23:41+00:00\n",
      "#LIGAFEMENINAxWIN AGUANTE AMERICA!! VAMOS DIABLAS QUE SE PUEDE !! NO LE DEJEN UNA A LA CAPI PORQUE SE LAS METE!! VAMOS CARAJO!!\n",
      "*******************************************************************************************************************************\n",
      "\n",
      "https://twitter.com/_superpoderosas/status/1337220839390007296\n",
      "2020-12-11 02:21:07+00:00\n",
      "⏱️59': Remate de Fany Gauto y por poco se amplía el marcador, el balón pasó cerca del arco defendido por Natalia Giraldo.\n",
      "\n",
      "🆚 América de Cali 1-2 Santa Fe\n",
      "\n",
      "Final - Ida #LigaFemenina 🇨🇴⚽️🏆 2020\n",
      "#LIGAFEMENINAxWIN #LigaFemeninaBetPlayDimayor\n",
      "*******************************************************************************************************************************\n",
      "\n",
      "https://twitter.com/_superpoderosas/status/1337220647454433280\n",
      "2020-12-11 02:20:21+00:00\n",
      "⏱️58': 🔄 Cambio en las 'leonas', ingresa Nelly Córdoba y se retira con dolencias Ivonne Chacón, esperamos no sea grave.\n",
      "\n",
      "🆚 América de Cali 1-2 Santa Fe\n",
      "\n",
      "Final - Ida #LigaFemenina 🇨🇴⚽️🏆 2020\n",
      "#LIGAFEMENINAxWIN #LigaFemeninaBetPlayDimayor\n",
      "*******************************************************************************************************************************\n",
      "\n",
      "https://twitter.com/_superpoderosas/status/1337220352909438983\n",
      "2020-12-11 02:19:11+00:00\n",
      "⏱️58': 🔄 Cambio en el cuadro local, ingresa Leury Basanta por Joemar Guarecuco.\n",
      "\n",
      "🆚 América de Cali 1-2 Santa Fe\n",
      "\n",
      "Final - Ida #LigaFemenina 🇨🇴⚽️🏆 2020\n",
      "#LIGAFEMENINAxWIN #LigaFemeninaBetPlayDimayor\n",
      "*******************************************************************************************************************************\n",
      "\n",
      "https://twitter.com/_superpoderosas/status/1337219970506362881\n",
      "2020-12-11 02:17:39+00:00\n",
      "⏱️56': Cobro de tiro libre de Catalina Usme que despeja la defensa cardenal.\n",
      "\n",
      "🆚 América de Cali 1-2 Santa Fe\n",
      "\n",
      "Final - Ida #LigaFemenina 🇨🇴⚽️🏆 2020\n",
      "#LIGAFEMENINAxWIN #LigaFemeninaBetPlayDimayor\n",
      "*******************************************************************************************************************************\n",
      "\n",
      "https://twitter.com/Jorgebautistal7/status/1337219947202818048\n",
      "2020-12-11 02:17:34+00:00\n",
      "#LIGAFEMENINAxWIN vamos leonas grande santafe\n",
      "*******************************************************************************************************************************\n",
      "\n",
      "https://twitter.com/_superpoderosas/status/1337218526197714949\n",
      "2020-12-11 02:11:55+00:00\n",
      "⏱️51': Fuera de lugar de Kena Romero.\n",
      "\n",
      "🆚 América de Cali 1-2 Santa Fe\n",
      "\n",
      "Final - Ida #LigaFemenina 🇨🇴⚽️🏆 2020\n",
      "#LIGAFEMENINAxWIN #LigaFemeninaBetPlayDimayor\n",
      "*******************************************************************************************************************************\n",
      "\n",
      "https://twitter.com/Jorgebautistal7/status/1337218469406846976\n",
      "2020-12-11 02:11:42+00:00\n",
      "#LIGAFEMENINAxWIN vamos leonas santafe lo  Mas grande en todas las categorías bendiciones\n",
      "*******************************************************************************************************************************\n",
      "\n",
      "https://twitter.com/_superpoderosas/status/1337218274535337989\n",
      "2020-12-11 02:10:55+00:00\n",
      "⏱️50': Falta en ataque de Gisela Robledo.\n",
      "\n",
      "🆚 América de Cali 1-2 Santa Fe\n",
      "\n",
      "Final - Ida #LigaFemenina 🇨🇴⚽️🏆 2020\n",
      "#LIGAFEMENINAxWIN #LigaFemeninaBetPlayDimayor\n",
      "*******************************************************************************************************************************\n",
      "\n",
      "https://twitter.com/_superpoderosas/status/1337217373653372928\n",
      "2020-12-11 02:07:20+00:00\n",
      "⏱️46': INICIA EL SEGUNDO TIEMPO\n",
      "\n",
      "Variante en las locales, ingresa Wendy Bonilla por Farlyn Caicedo, y en el cuadro visitante ingresa Jessica Peña por Diana Celis.\n",
      "\n",
      "🆚 América de Cali 1-2 Santa Fe\n",
      "\n",
      "Final - Ida #LigaFemenina 🇨🇴⚽️🏆 2020\n",
      "#LIGAFEMENINAxWIN #LigaFemeninaBetPlayDimayor\n",
      "*******************************************************************************************************************************\n",
      "\n",
      "https://twitter.com/alexdavid52/status/1337214802192723971\n",
      "2020-12-11 01:57:07+00:00\n",
      "Gracias chicas @SantaFe  #LIGAFEMENINAxWIN https://t.co/xFwQQGdyZU\n",
      "*******************************************************************************************************************************\n",
      "\n",
      "https://twitter.com/addermutis/status/1337214650736402437\n",
      "2020-12-11 01:56:31+00:00\n",
      "#LIGAFEMENINAxWIN @Dianirin @campoeliasjr que no se note mucho, el favoritismo de ustedes hacia @SantaFe femenino\n",
      "*******************************************************************************************************************************\n",
      "\n",
      "https://twitter.com/MariaAl16981838/status/1337213093378723841\n",
      "2020-12-11 01:50:20+00:00\n",
      "#LIGAFEMENINAxWIN  #LigaFemeninaBetPlayDimayor  VAMOS LAS LEONAAAS, POR LA SEGUNDA ESTRELLA 🌟\n",
      "*******************************************************************************************************************************\n",
      "\n",
      "https://twitter.com/Tef_car/status/1337212919470284800\n",
      "2020-12-11 01:49:38+00:00\n",
      "Que golazo, una clase y habilidad impresionante! ❤️⚽🤩 Vamos leonas, por muchos goles más, con GARRAAAA! #LIGAFEMENINAxWIN @WinSportsTV https://t.co/JeMPKHa4Qb\n",
      "*******************************************************************************************************************************\n",
      "\n",
      "https://twitter.com/_superpoderosas/status/1337212885911678977\n",
      "2020-12-11 01:49:30+00:00\n",
      "⏱️45'+2: Final del primer tiempo.\n",
      "\n",
      "🆚 América de Cali 1-2 Santa Fe: Catalina Usme (22'); Ivonne Chacón (28'), Ysaura Viso (43')\n",
      "\n",
      "Final - Ida #LigaFemenina 🇨🇴⚽️🏆 2020\n",
      "#LIGAFEMENINAxWIN #LigaFemeninaBetPlayDimayor https://t.co/zd0QuL3abF\n",
      "*******************************************************************************************************************************\n",
      "\n",
      "https://twitter.com/aliskaird/status/1337212733373243398\n",
      "2020-12-11 01:48:54+00:00\n",
      "#LIGAFEMENINAxWIN Estos partidos son muy interesantes. Qué buen equipo es Santa Fe.\n",
      "*******************************************************************************************************************************\n",
      "\n",
      "https://twitter.com/AlvgoMaggie/status/1337212722191142918\n",
      "2020-12-11 01:48:51+00:00\n",
      "Viendo sacar las garras a la Leonas, vamoooos santafereñas 🇮🇩\n",
      "q viva el futbol femenino\n",
      "#LigaFemeninaBetPlayDimayor \n",
      " #LIGAFEMENINAxWIN\n",
      "*******************************************************************************************************************************\n",
      "\n",
      "https://twitter.com/doradovale/status/1337212253410643968\n",
      "2020-12-11 01:47:00+00:00\n",
      "#LIGAFEMENINAxWIN\n",
      "\n",
      "Las leonas no tienen boton de apagado, hacen el primer gol y  la noche que viene.\n",
      "*******************************************************************************************************************************\n",
      "\n",
      "https://twitter.com/Jorgebautistal7/status/1337212245600768002\n",
      "2020-12-11 01:46:58+00:00\n",
      "Vamos leonas santafe lo. Mas grande #LIGAFEMENINAxWIN\n",
      "*******************************************************************************************************************************\n",
      "\n",
      "https://twitter.com/_superpoderosas/status/1337211958886600705\n",
      "2020-12-11 01:45:49+00:00\n",
      "⏱️43': ¡GOLAZO DE YSAURA VISO! gran definición de la goleadora del torneo que anota su tanto #13 este 2020. Remontan las 'leonas' en el Pascual Guerrero.\n",
      "\n",
      "🆚 América de Cali 1-2 Santa Fe\n",
      "Final - Ida #LigaFemenina 🇨🇴⚽️🏆 2020\n",
      "#LIGAFEMENINAxWIN #LigaFemeninaBetPlayDimayor https://t.co/ubFCmjRoqb\n",
      "*******************************************************************************************************************************\n",
      "\n",
      "https://twitter.com/Mariale_Carvjal/status/1337211561522450432\n",
      "2020-12-11 01:44:15+00:00\n",
      "Gracias por tantas alegrías! \n",
      "Que golazoooooo @SantaFe \n",
      "#LIGAFEMENINAxWIN\n",
      "*******************************************************************************************************************************\n",
      "\n",
      "https://twitter.com/memosprofe/status/1337210310055354368\n",
      "2020-12-11 01:39:16+00:00\n",
      "#LIGAFEMENINAxWIN Luis Eduardo López: ¿Porqué un \"buen plan\" parejitas de mujeres? ¿O de hombres cuando es fútbol masculino?\n",
      "*******************************************************************************************************************************\n",
      "\n",
      "https://twitter.com/Yolanda85704912/status/1337210159819616258\n",
      "2020-12-11 01:38:40+00:00\n",
      "#LIGAFEMENINAxWIN vamos mis Guerreras América solo rojo\n",
      "*******************************************************************************************************************************\n",
      "\n",
      "https://twitter.com/_superpoderosas/status/1337210033323593729\n",
      "2020-12-11 01:38:10+00:00\n",
      "⏱️36': Remate de Fany Gauto que parecía que se iba a colar al ángulo, y ataja Natalia Giraldo.\n",
      "\n",
      "🆚 América de Cali 1-1 Santa Fe\n",
      "Final - Ida #LigaFemenina 🇨🇴⚽️🏆 2020\n",
      "#LIGAFEMENINAxWIN #LigaFemeninaBetPlayDimayor\n",
      "*******************************************************************************************************************************\n",
      "\n",
      "https://twitter.com/agathosdeimon/status/1337209964100804608\n",
      "2020-12-11 01:37:54+00:00\n",
      "Vamos LAS ROJAS!!! 👹 #LIGAFEMENINAxWIN\n",
      "*******************************************************************************************************************************\n",
      "\n",
      "https://twitter.com/Andres_by06/status/1337209931552972807\n",
      "2020-12-11 01:37:46+00:00\n",
      "#LIGAFEMENINAxWIN Vamos Mis guerreras por el Bicampeonato, apoyando a mi América femenino, desde Cali\n",
      "Que los hombres tomen ejemplo de estas maravillosas mujeres.\n",
      "*******************************************************************************************************************************\n",
      "\n",
      "https://twitter.com/Tef_car/status/1337209827400028162\n",
      "2020-12-11 01:37:21+00:00\n",
      "#LIGAFEMENINAxWIN Vamos leonas, con berraquera que ustedes son las mejores! Con toda guerreras! ❤️⚽🦁 @WinSportsTV\n",
      "*******************************************************************************************************************************\n",
      "\n",
      "https://twitter.com/jfdecastroga/status/1337209728577966080\n",
      "2020-12-11 01:36:58+00:00\n",
      "#LIGAFEMENINAxWIN Vamos leonas 🏆\n",
      "*******************************************************************************************************************************\n",
      "\n",
      "https://twitter.com/_superpoderosas/status/1337209327828996098\n",
      "2020-12-11 01:35:22+00:00\n",
      "⏱️33': 🟨 Amonestada Carolina Pineda en el cuadro local.\n",
      "\n",
      "🆚 América de Cali 1-1 Santa Fe\n",
      "Final - Ida #LigaFemenina 🇨🇴⚽️🏆 2020\n",
      "#LIGAFEMENINAxWIN #LigaFemeninaBetPlayDimayor\n",
      "*******************************************************************************************************************************\n",
      "\n",
      "https://twitter.com/soyandresacosta/status/1337209300939313154\n",
      "2020-12-11 01:35:16+00:00\n",
      "Minuto 30, y dos golazos en la final de ida de la #LigaFemenina 2020. Catalina Usme e Ivonne Chacón marcaron para el 1-1 parcial entre América y Santa Fe. \n",
      "\n",
      "¡QUÉ FINAL LA QUE ESTAMOS VIVIENDO ESTE AÑO!\n",
      "\n",
      "#LIGAFEMENINAxWIN #LigaBetPlayDimayor https://t.co/GTa1p5llls\n",
      "*******************************************************************************************************************************\n",
      "\n",
      "https://twitter.com/natagarzons/status/1337209085045911552\n",
      "2020-12-11 01:34:24+00:00\n",
      "Qué partido. Digno de una final. @AmericaCaliFem  1-1 @SantaFe #LIGAFEMENINAxWIN Necesitamos la victoria para acercarnos más al título y llegar con toda a la Libertadores. #VamosEscarlatas\n",
      "*******************************************************************************************************************************\n",
      "\n",
      "https://twitter.com/CamilaUC19/status/1337209009561096192\n",
      "2020-12-11 01:34:06+00:00\n",
      "Vamos leonaaaaaaaaaass\n",
      "\n",
      "Que golazo te marcaste Chacón\n",
      "#Leonas 🦁\n",
      "@SantaFe\n",
      "#LIGAFEMENINAxWIN\n",
      "*******************************************************************************************************************************\n",
      "\n",
      "https://twitter.com/_superpoderosas/status/1337208684024360965\n",
      "2020-12-11 01:32:49+00:00\n",
      "⏱️31': Falta en ataque de Gisela Robledo.\n",
      "\n",
      "🆚 América de Cali 1-1 Santa Fe\n",
      "Final - Ida #LigaFemenina 🇨🇴⚽️🏆 2020\n",
      "#LIGAFEMENINAxWIN #LigaFemeninaBetPlayDimayor\n",
      "*******************************************************************************************************************************\n",
      "\n",
      "https://twitter.com/wilpermg4/status/1337208396567769089\n",
      "2020-12-11 01:31:40+00:00\n",
      "#LIGAFEMENINAxWIN en palmira valle saludos a mi tio Abram Melano. Vamos america\n",
      "*******************************************************************************************************************************\n",
      "\n",
      "https://twitter.com/AVecesMateo/status/1337208177918611458\n",
      "2020-12-11 01:30:48+00:00\n",
      "Altuve tiene 26 y Usme 27, ¿cómo que le falta uno a Usme?\n",
      "#LigaFemeninaXwin me perdí\n",
      "*******************************************************************************************************************************\n",
      "\n",
      "https://twitter.com/guillomore13/status/1337208142489325568\n",
      "2020-12-11 01:30:39+00:00\n",
      "@WinSportsTV vamos américa fuerza diablas!!!!#LIGAFEMENINAxWIN\n",
      "*******************************************************************************************************************************\n",
      "\n",
      "https://twitter.com/_superpoderosas/status/1337207958896316417\n",
      "2020-12-11 01:29:56+00:00\n",
      "⏱️28': ¡GOLAZO DE IVONNE CHACÓN! balón suelto tras un rechazo de Natalia Giraldo, y con un potente derechazo marca el empate del encuentro.\n",
      "\n",
      "🆚 América de Cali 1-1 Santa Fe\n",
      "Final - Ida #LigaFemenina 🇨🇴⚽️🏆 2020\n",
      "#LIGAFEMENINAxWIN #LigaFemeninaBetPlayDimayor https://t.co/4ZYRjnLBww\n",
      "*******************************************************************************************************************************\n",
      "\n",
      "https://twitter.com/AndresTernera3/status/1337207403956330499\n",
      "2020-12-11 01:27:43+00:00\n",
      "Desde pivijay magdalena, viendo a las superpoderosas @EduardoLuisFut @WinSport_Mas #LIGAFEMENINAxWIN\n",
      "*******************************************************************************************************************************\n",
      "\n",
      "https://twitter.com/_superpoderosas/status/1337207122971529220\n",
      "2020-12-11 01:26:36+00:00\n",
      "⏱️22': ¡GOLAZO DE @catausme! de tiro libre abre el marcador, anotando su 4to gol en este 2020, el #26 en su historial de Liga Femenina.\n",
      "\n",
      "🆚 América de Cali 1-0 Santa Fe\n",
      "Final - Ida #LigaFemenina 🇨🇴⚽️🏆 2020\n",
      "#LIGAFEMENINAxWIN #LigaFemeninaBetPlayDimayor https://t.co/CRPftZ0JeL\n",
      "*******************************************************************************************************************************\n",
      "\n",
      "https://twitter.com/BarreroMao/status/1337206778841493505\n",
      "2020-12-11 01:25:14+00:00\n",
      "#LIGAFEMENINAxWIN podríamos ser campeonas Leonas y campeones Leones.\n",
      "*******************************************************************************************************************************\n",
      "\n",
      "https://twitter.com/charlesscarlata/status/1337205942975393794\n",
      "2020-12-11 01:21:55+00:00\n",
      "#LIGAFEMENINAxWIN En sintonía desde Gigante Huila , tierra del profe Erazo , pero con el corazón escarlata que gane el mejor @WinSportsTV\n",
      "*******************************************************************************************************************************\n",
      "\n",
      "https://twitter.com/sandra110ortega/status/1337205775798820871\n",
      "2020-12-11 01:21:15+00:00\n",
      "#ligafemeninaxwin\n",
      "*******************************************************************************************************************************\n",
      "\n",
      "https://twitter.com/manetapias0560/status/1337205605438812162\n",
      "2020-12-11 01:20:35+00:00\n",
      "#LIGAFEMENINAxWIN.   Saludos desde Barrancabermeja, las Leonas bicampeonas.\n",
      "*******************************************************************************************************************************\n",
      "\n",
      "https://twitter.com/TrinOmar72/status/1337205491441803264\n",
      "2020-12-11 01:20:07+00:00\n",
      "#ligafemeninaxwin buenas noches desde Cali haciéndole fuerza a la mechita, con mi esposa Olga y mi hijo dilan por win sport +.  Saludos\n",
      "*******************************************************************************************************************************\n",
      "\n",
      "https://twitter.com/EricaTatianaSa1/status/1337205187619020801\n",
      "2020-12-11 01:18:55+00:00\n",
      "@WinSportsTV #LIGAFEMENINAxWIN se puede dar la misma final pero en versión masculina\n",
      "*******************************************************************************************************************************\n",
      "\n",
      "https://twitter.com/hinchadistante/status/1337205048124854272\n",
      "2020-12-11 01:18:22+00:00\n",
      "#ligafemeninaxwin #LigaFemeninaBetPlayDimayor\n",
      "Saludos a todos los hinchas que están fuera de Colombia\n",
      "*******************************************************************************************************************************\n",
      "\n",
      "https://twitter.com/_superpoderosas/status/1337204984434274305\n",
      "2020-12-11 01:18:07+00:00\n",
      "⏱️16': Nuevo remate de Fany Gauto que sale elevado.\n",
      "\n",
      "🆚 América de Cali 0-0 Santa Fe\n",
      "Final - Ida #LigaFemenina 🇨🇴⚽️🏆 2020\n",
      "#LIGAFEMENINAxWIN #LigaFemeninaBetPlayDimayor\n",
      "*******************************************************************************************************************************\n",
      "\n",
      "https://twitter.com/Mancipeitaliano/status/1337204767861379072\n",
      "2020-12-11 01:17:15+00:00\n",
      "#LIGAFEMENINAxWIN vamos Santa fe!!!\n",
      "*******************************************************************************************************************************\n",
      "\n",
      "https://twitter.com/_superpoderosas/status/1337204270999932929\n",
      "2020-12-11 01:15:16+00:00\n",
      "⏱️13': Saque de arco para el cuadro escarlata.\n",
      "\n",
      "🆚 América de Cali 0-0 Santa Fe\n",
      "Final - Ida #LigaFemenina 🇨🇴⚽️🏆 2020\n",
      "#LIGAFEMENINAxWIN #LigaFemeninaBetPlayDimayor\n",
      "*******************************************************************************************************************************\n",
      "\n",
      "https://twitter.com/Daniela19392346/status/1337203940778184706\n",
      "2020-12-11 01:13:58+00:00\n",
      "#LIGAFEMENINAxWIN\n",
      "Vamos Leonas porque rojo solo hay uno y se llama Santa Fe! 🇮🇩\n",
      "*******************************************************************************************************************************\n",
      "\n",
      "https://twitter.com/_superpoderosas/status/1337203196679368704\n",
      "2020-12-11 01:11:00+00:00\n",
      "⏱️9': Remate de Fany Gauto que se va desviado.\n",
      "\n",
      "🆚 América de Cali 0-0 Santa Fe\n",
      "Final - Ida #LigaFemenina 🇨🇴⚽️🏆 2020\n",
      "#LIGAFEMENINAxWIN #LigaFemeninaBetPlayDimayor\n",
      "*******************************************************************************************************************************\n",
      "\n",
      "https://twitter.com/EdgarCifs/status/1337202851815284737\n",
      "2020-12-11 01:09:38+00:00\n",
      "Vamos santafe a ganar #LIGAFEMENINAxWIN\n",
      "*******************************************************************************************************************************\n",
      "\n",
      "https://twitter.com/oscarev83/status/1337202704645558272\n",
      "2020-12-11 01:09:03+00:00\n",
      "Vamos guerreras americanas a ganarlo..... 🇦🇹 #LIGAFEMENINAxWIN\n",
      "*******************************************************************************************************************************\n",
      "\n",
      "https://twitter.com/_superpoderosas/status/1337202428287049729\n",
      "2020-12-11 01:07:57+00:00\n",
      "⏱️6': 🟨 Amonestada Leivis Ramos en la visita.\n",
      "\n",
      "🆚 América de Cali 0-0 Santa Fe\n",
      "Final - Ida #LigaFemenina 🇨🇴⚽️🏆 2020\n",
      "#LIGAFEMENINAxWIN #LigaFemeninaBetPlayDimayor\n",
      "*******************************************************************************************************************************\n",
      "\n",
      "https://twitter.com/_superpoderosas/status/1337201562381398017\n",
      "2020-12-11 01:04:31+00:00\n",
      "⏱️3': Fuera de lugar de Liana Salazar. Para nosotros se encontraba habilitada.\n",
      "\n",
      "🆚América de Cali 0-0 Santa Fe\n",
      "Final - Ida #LigaFemenina 🇨🇴⚽️🏆 2020\n",
      "#LIGAFEMENINAxWIN #LigaFemeninaBetPlayDimayor\n",
      "*******************************************************************************************************************************\n",
      "\n",
      "https://twitter.com/_superpoderosas/status/1337201256289497089\n",
      "2020-12-11 01:03:18+00:00\n",
      "⏱️2': Primer tiro de esquina del encuentro, cobra Catalina Usme para el cuadro local, y el balón termina en manos de Daniela Solera.\n",
      "\n",
      "🆚América de Cali 0-0 Santa Fe\n",
      "Final - Ida #LigaFemenina 🇨🇴⚽️🏆 2020\n",
      "#LIGAFEMENINAxWIN #LigaFemeninaBetPlayDimayor\n",
      "*******************************************************************************************************************************\n",
      "\n",
      "https://twitter.com/pachon_samuel/status/1337201088156610562\n",
      "2020-12-11 01:02:38+00:00\n",
      "#LIGAFEMENINAxWIN desde Villavo la bella, apoyando las Leonas. Saludos, éxitos y bendiciones totales @EduardoLuisFut\n",
      "*******************************************************************************************************************************\n",
      "\n",
      "https://twitter.com/Daniela19392346/status/1337200954656092160\n",
      "2020-12-11 01:02:06+00:00\n",
      "#LIGAFEMENINAxWIN\n",
      "Desde Bogotá apoyando a las Leonas!!\n",
      "Volveremos a ser campeonas como la primer vez! 🇮🇩\n",
      "@SantaFe\n",
      "*******************************************************************************************************************************\n",
      "\n",
      "https://twitter.com/_superpoderosas/status/1337200793045372928\n",
      "2020-12-11 01:01:27+00:00\n",
      "⏱️1': INICIA LA FINAL EN EL PASCUAL GUERRERO\n",
      "\n",
      "🆚América de Cali 0-0 Santa Fe\n",
      "Final - Ida #LigaFemenina 🇨🇴⚽️🏆 2020\n",
      "#LIGAFEMENINAxWIN #LigaFemeninaBetPlayDimayor https://t.co/Eu1k1eaFJe\n",
      "*******************************************************************************************************************************\n",
      "\n",
      "https://twitter.com/JohnEdisonAstu7/status/1337199249486962689\n",
      "2020-12-11 00:55:19+00:00\n",
      "#LigaFemeninaxWIN ¡VAMOS DIABLITAS! CON TODA LA FE PUESTA EN USTEDES, DIOS LAS BENDIGA VAMOS POR EL BICAMPEONATO❤👹⚽️\n",
      "*******************************************************************************************************************************\n",
      "\n",
      "https://twitter.com/doradovale/status/1337194824785682432\n",
      "2020-12-11 00:37:44+00:00\n",
      "#LIGAFEMENINAxWIN\n",
      "\n",
      "Nuestras leonas en la gran final, que salga todo bien y que acierten las opciones de gol que tengan.\n",
      "\n",
      "Vamos leonas por el bicampeonato.\n",
      "*******************************************************************************************************************************\n",
      "\n",
      "https://twitter.com/Daniela19392346/status/1337194677112610817\n",
      "2020-12-11 00:37:09+00:00\n",
      "#LIGAFEMENINAxWIN \n",
      "Independiente Santa Fe campeón de la liga 2020\n",
      "Vamos leonas!🇮🇩\n",
      "*******************************************************************************************************************************\n",
      "\n",
      "https://twitter.com/_superpoderosas/status/1337192071912960000\n",
      "2020-12-11 00:26:48+00:00\n",
      "Nóminas de América 🆚 Santa Fe por la Final - Ida de la #LigaFemenina 🏆⚽🇨🇴 2020. Encuentro que se jugará desde las 8:00 p.m. en el Estadio Pascual Guerrero con transmisión de Win+.\n",
      "\n",
      "¿Quién se llevará la ventaja en el juego de ida?\n",
      "\n",
      "#LigaFemeninaBetPlayDimayor #LIGAFEMENINAxWIN https://t.co/ZjrFnVlQuQ\n",
      "*******************************************************************************************************************************\n",
      "\n",
      "https://twitter.com/bubulina06/status/1337189308965539840\n",
      "2020-12-11 00:15:49+00:00\n",
      "Emocionante!!!\n",
      "La Final!!! #LIGAFEMENINAxWIN\n",
      "en una hora aproximadamente imiciara el juego entre @AmericaCaliFem vs @SantaFe femenino\n",
      "*******************************************************************************************************************************\n",
      "\n",
      "https://twitter.com/WinSportsOnline/status/1337162677735419904\n",
      "2020-12-10 22:30:00+00:00\n",
      "¡Pasa la noche en Win Sports! 🌕\n",
      "👔 6:00pm @ConexionWin\n",
      "🎥  10:00pm @NoticiasWin\n",
      "\n",
      "¡La noche en Win Sports+! 🌕\n",
      "👔 6:00pm @ConexionWin\n",
      "⚽ 7:30pm América vs Santa Fe - #LIGAFEMENINAxWIN \n",
      "🎥  10:00pm Win+Noticias\n",
      "*******************************************************************************************************************************\n",
      "\n",
      "https://twitter.com/VanegasOmar/status/1337120689413910532\n",
      "2020-12-10 19:43:09+00:00\n",
      "#LIGAFEMENINAxWIN un bálsamo en tanto mar de llanto.\n",
      "#ColombianLivesMatter https://t.co/mbG9bAb3yR\n",
      "*******************************************************************************************************************************\n",
      "\n",
      "https://twitter.com/WinSportsTV/status/1337069579743473665\n",
      "2020-12-10 16:20:04+00:00\n",
      "¡La gran final de la #LigaFemeninaxWIN se vivirá entre hoy el domingo! 🙋‍♀️🇨🇴⚽ https://t.co/ZQT4FPpHL3\n",
      "*******************************************************************************************************************************\n",
      "\n",
      "https://twitter.com/WinSportsTV/status/1337011689473122304\n",
      "2020-12-10 12:30:01+00:00\n",
      "¡Mañanas en Win Sports!\n",
      "\n",
      "☀☕ 8:00am #PrimerToque\n",
      "🎥 12:00pm @NoticiasWin\n",
      "⚽ 1:00pm Santa Fe vs. DIM - Semis #LIGAFEMENINAxWIN (Rep)\n",
      "*******************************************************************************************************************************\n",
      "\n",
      "https://twitter.com/ugo587/status/1336888989345861632\n",
      "2020-12-10 04:22:27+00:00\n",
      "Vamos mi mechita por la segunda estrella, final roja #LIGAFEMENINAxWIN\n",
      "*******************************************************************************************************************************\n",
      "\n",
      "https://twitter.com/Fernand15454070/status/1336784150708297728\n",
      "2020-12-09 21:25:52+00:00\n",
      "#LIGAFEMENINAxWIN  vamos Santa Fe por los primeros 90 minutos ante un rival fuerte pero somos el mejor equipo y lo seguiremos demostrando.. Fuerza Leonas 🦁🦁🦁🦁\n",
      "*******************************************************************************************************************************\n",
      "\n",
      "https://twitter.com/WinSportsTV/status/1336783911716851716\n",
      "2020-12-09 21:24:55+00:00\n",
      "\"Es una Liga muy corta, no hay margen de error. A esta final llegamos en igualdad de condiciones”  Andrés Usme DT América femenino \n",
      "#LIGAFEMENINAxWIN https://t.co/2XicHHF6pO\n",
      "*******************************************************************************************************************************\n",
      "\n",
      "https://twitter.com/WinSportsTV/status/1336782965355982850\n",
      "2020-12-09 21:21:09+00:00\n",
      "\"Me alegra que llegaran a esta final los dos equipos que han tenido un proceso serio con el fútbol femenino, son dos proyectos que le han apostado al fútbol femenino”  Catalina Usme \n",
      "#LIGAFEMENINAxWIN https://t.co/wzGi4M8MDf\n",
      "*******************************************************************************************************************************\n",
      "\n",
      "https://twitter.com/Camilo35910094/status/1336782703153324032\n",
      "2020-12-09 21:20:07+00:00\n",
      "@WinSportsTV #LIGAFEMENINAxWIN - AMEN PROFE LOS MEJORES DESEOS - F20.\n",
      "*******************************************************************************************************************************\n",
      "\n",
      "https://twitter.com/WinSportsTV/status/1336782523783929857\n",
      "2020-12-09 21:19:24+00:00\n",
      "\"Hemos podido mejorar en la finalización y creo que ese será un punto a favor en esta final”  Catalina Usme\n",
      "#LIGAFEMENINAxWIN https://t.co/U9YEuXjo4I\n",
      "*******************************************************************************************************************************\n",
      "\n",
      "https://twitter.com/RojoHerney/status/1336782393039089667\n",
      "2020-12-09 21:18:53+00:00\n",
      "#LIGAFEMENINAxWIN la mechita. Vamos chicas a ganar esa final 🚩👍\n",
      "*******************************************************************************************************************************\n",
      "\n",
      "https://twitter.com/WinSportsTV/status/1336782109764165632\n",
      "2020-12-09 21:17:45+00:00\n",
      "\"Venimos con el mismo proyecto e idea, es un equipo más maduro que sabe a qué juega”  Andrés Usme DT América femenino \n",
      "#LIGAFEMENINAxWIN https://t.co/64QdkkPWAl\n",
      "*******************************************************************************************************************************\n",
      "\n",
      "https://twitter.com/WinSportsTV/status/1336781138392715265\n",
      "2020-12-09 21:13:54+00:00\n",
      "\"A todos los hinchas que sigan pendientes de nosotras que daremos todo por darles una alegría”  Fany Gauto \n",
      "#LIGAFEMENINAxWIN https://t.co/TB02ReZV6c\n",
      "*******************************************************************************************************************************\n",
      "\n",
      "https://twitter.com/WinSportsTV/status/1336780778471120898\n",
      "2020-12-09 21:12:28+00:00\n",
      "\"Gracias a la unidad que tenemos estamos en la final\"  Fany Gauto \n",
      "#LIGAFEMENINAxWIN https://t.co/Jbk4pmsX5Z\n",
      "*******************************************************************************************************************************\n",
      "\n",
      "https://twitter.com/WinSportsTV/status/1336780509029015552\n",
      "2020-12-09 21:11:24+00:00\n",
      "“Ha sido una Liga corta, pero fue un acierto hacerla, no hacerla era dar un paso atrás”  Albeiro Erazo DT Santa Fe femenino \n",
      "#LIGAFEMENINAxWIN https://t.co/dLQsnF3Uo1\n",
      "*******************************************************************************************************************************\n",
      "\n",
      "https://twitter.com/WinSportsTV/status/1336780043926851586\n",
      "2020-12-09 21:09:33+00:00\n",
      "\"Llegamos muy bien, si bien tuvimos más partidos esto no ha desgastado al equipo. Esto es una final y todos la quieren jugar, Santa Fe llega al 100%”  Albeiro Erazo DT Santa Fe femenino \n",
      "#LIGAFEMENINAxWIN https://t.co/ZPv5NXBlZl\n",
      "*******************************************************************************************************************************\n",
      "\n",
      "https://twitter.com/WinSportsTV/status/1336779429717172224\n",
      "2020-12-09 21:07:06+00:00\n",
      "“Catalina Usme es una jugadora referente acá en Colombia y lo mejor que tiene es la pelota quieta”  Fany Gauto \n",
      "#LIGAFEMENINAxWIN https://t.co/W25uMNsM2k\n",
      "*******************************************************************************************************************************\n",
      "\n",
      "https://twitter.com/WinSportsTV/status/1336778950329118720\n",
      "2020-12-09 21:05:12+00:00\n",
      "“Saldremos a hacer nuestro juego, Santa Fe es un equipo grande y acá en Cali no será la excepción”  Albeiro Erazo DT Santa Fe femenino \n",
      "#LIGAFEMENINAxWIN https://t.co/iDFqOVkYaw\n",
      "*******************************************************************************************************************************\n",
      "\n",
      "https://twitter.com/WinSportsTV/status/1336464337251217409\n",
      "2020-12-09 00:15:02+00:00\n",
      "Noches en Win Sports\n",
      "\n",
      "🏐 7:30pm Poli. Jaime Isaza vs. U.D.C.A - #VOLEYxWIN\n",
      "🎥 9:30pm @NoticiasWin \n",
      "🚪 10:30PM @AccesoWIN Jhon Velásquez\n",
      "\n",
      "Noches en Win Sports➕\n",
      "\n",
      "⚽ 7:30pm América vs Junior - #LALIGAxWIN\n",
      "🎥 9:30pm Win➕Noticias\n",
      "⚽10:30pm América vs. M/narios - #LIGAFEMENINAxWIN\n",
      "*******************************************************************************************************************************\n",
      "\n",
      "https://twitter.com/paogue16/status/1336396996534530050\n",
      "2020-12-08 19:47:27+00:00\n",
      "#LIGAFEMENINAxWIN\n",
      "Vamos que vamos Diablas❤❤❤ https://t.co/PgewykRWCF\n",
      "*******************************************************************************************************************************\n",
      "\n",
      "https://twitter.com/paogue16/status/1336395625944977410\n",
      "2020-12-08 19:42:00+00:00\n",
      "#LIGAFEMENINAxWIN\n",
      "Vamos América ❤❤❤❤\n",
      "*******************************************************************************************************************************\n",
      "\n",
      "https://twitter.com/paogue16/status/1336395407467945989\n",
      "2020-12-08 19:41:08+00:00\n",
      "#LIGAFEMENINAxWIN\n",
      "Vamos diablas❤❤❤❤❤\n",
      "*******************************************************************************************************************************\n",
      "\n",
      "https://twitter.com/WinSportsTV/status/1336370482065629184\n",
      "2020-12-08 18:02:06+00:00\n",
      "⚽💃 ¡América vs. Millonarios!\n",
      "\n",
      "Revivimos el choque decisivo de semis de la #LIGAFEMENINAxWIN entre 'escarlatas' y 'embajadoras'. (Win Sports) https://t.co/C6ldf9wAhk\n",
      "*******************************************************************************************************************************\n",
      "\n",
      "https://twitter.com/WinSportsOnline/status/1336362407216652293\n",
      "2020-12-08 17:30:00+00:00\n",
      "¡La tarde en Win Sports! 😎\n",
      "\n",
      "⚽ 1:00pm América vs. Millonarios - #LIGAFEMENINAxWIN (Rep)\n",
      "🇨🇴❤️ 3:00pm #ColombianoDeCorazón\n",
      "⚽ 3:30pm Huila vs. U. Magdalena - #ELTORNEOxWIN (Rep)\n",
      "🏐 5:30pm Escuela Nacional del deporte vs. Unicosta - #VOLEYxWIN\n",
      "*******************************************************************************************************************************\n",
      "\n",
      "https://twitter.com/WinSportsTV/status/1336348568429469696\n",
      "2020-12-08 16:35:01+00:00\n",
      "¡Tardes en Win Sports!\n",
      "\n",
      "⚽ 1:00pm #LIGAFEMENINAxWIN - América vs. Millonarios. (Rep)\n",
      "🇨🇴❤️ 3:00pm #ColombianoDeCorazón \n",
      "⚽ 3:30pm #ELTORNEOxWIN - Huila vs. U. Magdalena. (Rep)\n",
      "🏐 5:30pm #VOLEYxWIN - Escuela Nal. del Deporte vs. Unicosta\n",
      "*******************************************************************************************************************************\n",
      "\n",
      "https://twitter.com/WinSportsOnline/status/1336286906733223943\n",
      "2020-12-08 12:30:00+00:00\n",
      "¡La mañana en Win Sports! ☀\n",
      "\n",
      "⚽🌍 8:00am #ScoreMundial\n",
      "⚽🇹🇷 9:00am Galatasaray vs. Hatayspor - #LIGATURCAxWIN (Rep)\n",
      "🎥  12:00pm @NoticiasWin\n",
      "⚽ 1:00pm América vs. Millonarios - #LIGAFEMENINAxWIN (Rep)\n",
      "*******************************************************************************************************************************\n",
      "\n",
      "https://twitter.com/socramloaiza/status/1336122008212561921\n",
      "2020-12-08 01:34:45+00:00\n",
      "Las dos finales de la @BetplayFPCol del fútbol colombiano masculino y femenino será los mismos equipos!\n",
      "@SantaFe vs @AmericadeCali \n",
      "\n",
      "Guarden este tweet!\n",
      "\n",
      "@WinSportsTV @fpcwin #LIGAFEMENINAxWIN #LigaBetPlayDimayor\n",
      "*******************************************************************************************************************************\n",
      "\n",
      "https://twitter.com/oskarmoska/status/1336094761309134848\n",
      "2020-12-07 23:46:29+00:00\n",
      "Lo que meten las chicas de @AmericaCaliFem, se nota que  son hinchas, van al frente y lo dejan todo en la cancha, Gisella, Cata Usme, Natalia, farlyn, Carolina, muy cracks. #LIGAFEMENINAxWIN\n",
      "*******************************************************************************************************************************\n",
      "\n",
      "https://twitter.com/astridh0600/status/1336092613280223236\n",
      "2020-12-07 23:37:57+00:00\n",
      "¡¡ ULTIMO MINUTO!! GRAN TRAICION CUPULA CHAVISTA CONTRA DELCY RODRÍGUEZ ... https://t.co/KA7sikUoge #LIGAFEMENINAxWIN\n",
      "#DiaDeLasVelitas\n",
      "#CaliAlumbraLaVida\n",
      "Natalia Giraldo\n",
      "María Peraza\n",
      "#FuerzaHugoMario\n",
      "Millonarios\n",
      "#LaPostalDeLaRuta\n",
      "Carrasquilla\n",
      "Sara Páez\n",
      "gisela robledo\n",
      "Embajadoras\n",
      "*******************************************************************************************************************************\n",
      "\n",
      "https://twitter.com/peznaranjaTweet/status/1336090624366424064\n",
      "2020-12-07 23:30:02+00:00\n",
      "Es un error creer que automatizar destruye trabajos, la tecnología siempre trae nuevas oportunidades, compra PEZNARANJA LAB / 10 usuarios / 1 año por $375 USD https://t.co/gXzXGEmazB #digital #LIGAFEMENINAxWIN https://t.co/U2nhyjqAVf\n",
      "*******************************************************************************************************************************\n",
      "\n",
      "https://twitter.com/peznaranjaTweet/status/1336086849316655105\n",
      "2020-12-07 23:15:02+00:00\n",
      "La comunicación es la habilidad más importante que deben dominar quienes tengan su propio negocio, compra PEZNARANJA LAB / 10 usuarios / 1 año por $375 USD https://t.co/gXzXGEmazB #digital #LIGAFEMENINAxWIN https://t.co/skG7PPd8tk\n",
      "*******************************************************************************************************************************\n",
      "\n",
      "https://twitter.com/maorodrillex/status/1336083261597036546\n",
      "2020-12-07 23:00:47+00:00\n",
      "Hoy ase 3 años jugaban millonarios con amerika por semifinales de la liga águila 2017. El marcador quedó 2 - 1 ganando millos #LIGAFEMENINAxWIN\n",
      "*******************************************************************************************************************************\n",
      "\n",
      "https://twitter.com/andy_petrista/status/1336083195083829251\n",
      "2020-12-07 23:00:31+00:00\n",
      "#LIGAFEMENINAxWIN en la liga femenina soy hincha de TODOS los equipos de TODOS me encantaa esa liga,es entretenida,mejor dicho es muy buena!!\n",
      "*******************************************************************************************************************************\n",
      "\n",
      "https://twitter.com/peznaranjaTweet/status/1336083073570664448\n",
      "2020-12-07 23:00:02+00:00\n",
      "En PEZNARANJA desarrollamos las herramientas más avanzadas para que puedas alcanzar tus sueños https://t.co/FvnDtMBUZ2 ¿Nos ayudas con un RT? #peznaranja #LIGAFEMENINAxWIN https://t.co/jzQWXNsV7h\n",
      "*******************************************************************************************************************************\n",
      "\n",
      "https://twitter.com/Luisfhe53124384/status/1336079808489529344\n",
      "2020-12-07 22:47:04+00:00\n",
      "#LIGAFEMENINAxWIN🇱🇻🖤🇦🇹 https://t.co/kfIvq7StpQ\n",
      "*******************************************************************************************************************************\n",
      "\n",
      "https://twitter.com/DimeTaniro/status/1336079569997221889\n",
      "2020-12-07 22:46:07+00:00\n",
      "Ley femenina decir:  #LIGAFEMENINAxWIN\n",
      "*******************************************************************************************************************************\n",
      "\n",
      "https://twitter.com/peznaranjaTweet/status/1336079297711378432\n",
      "2020-12-07 22:45:02+00:00\n",
      "PEZNARANJA LAB administra los contactos de tu organización, compra PEZNARANJA LAB / 10 usuarios / 1 año por $375 USD https://t.co/gXzXGEmazB #digital #LIGAFEMENINAxWIN https://t.co/E5R443lAtF\n",
      "*******************************************************************************************************************************\n",
      "\n",
      "https://twitter.com/Alexisvel2/status/1336078023838208001\n",
      "2020-12-07 22:39:58+00:00\n",
      "#melgar #nilo #boqueron #Cundinamarca #DiaDeLasVelitas #bogota #LIGAFEMENINAxWIN https://t.co/v5wN0mqdSS\n",
      "*******************************************************************************************************************************\n",
      "\n",
      "https://twitter.com/PiragautaSteven/status/1336077299842748417\n",
      "2020-12-07 22:37:06+00:00\n",
      "Las mujeres ya hicieron la tarea, ahora los hombres a sacar la casta en Barranquilla #LIGAFEMENINAxWIN #LigaBetplay\n",
      "*******************************************************************************************************************************\n",
      "\n",
      "https://twitter.com/skhyunn/status/1336076984728887299\n",
      "2020-12-07 22:35:50+00:00\n",
      "#DiaDeLasVelitas #LIGAFEMENINAxWIN #FuerzaHugoMario #LaPostalDeLaRuta \n",
      " https://t.co/gcMHGCYV5H\n",
      "*******************************************************************************************************************************\n",
      "\n",
      "https://twitter.com/WinSportsTV/status/1336076938822246400\n",
      "2020-12-07 22:35:39+00:00\n",
      "➕ ‘’Nos vamos con la cabeza en alto, fuimos superiores en todo momento ‘’, Sharon Ramírez, jugadora de Millonarios.\n",
      "#LIGAFEMENINAxWIN https://t.co/q4vTMkRywY\n",
      "*******************************************************************************************************************************\n",
      "\n",
      "https://twitter.com/WinSportsTV/status/1336076794429104128\n",
      "2020-12-07 22:35:05+00:00\n",
      "(Crónica) Liga Femenina | @AmericaCaliFem obtuvo su tiquete a la final tras derrotar a @MFCFem\n",
      "\n",
      "#LIGAFEMENINAxWIN\n",
      "\n",
      "https://t.co/twqMlEYVhc https://t.co/EeIizLAMjb\n",
      "*******************************************************************************************************************************\n",
      "\n",
      "https://twitter.com/Pablo_Vidal/status/1336076598567645185\n",
      "2020-12-07 22:34:18+00:00\n",
      "Le ganaron de cancha a las Embajadoras... ¡Respeto a ellas que sienten la camiseta de Millonarios! #LIGAFEMENINAxWIN\n",
      "*******************************************************************************************************************************\n",
      "\n",
      "https://twitter.com/mangelicalopezs/status/1336076588090339328\n",
      "2020-12-07 22:34:16+00:00\n",
      "America sin nada de juego, solo haciendo show.\n",
      " #LIGAFEMENINAxWIN\n",
      "*******************************************************************************************************************************\n",
      "\n",
      "https://twitter.com/Roberto42048611/status/1336076277418242048\n",
      "2020-12-07 22:33:02+00:00\n",
      "#LIGAFEMENINAxWIN Buen torneo el que hizo Millos. 👍\n",
      "*******************************************************************************************************************************\n",
      "\n",
      "https://twitter.com/Alexisvel2/status/1336076129191428097\n",
      "2020-12-07 22:32:26+00:00\n",
      "#DiaDeLasVelitas #LIGAFEMENINAxWIN ayúdanos a encontrar a Joan Sebastian Paredes López, ayúdanos a compartir esta información. https://t.co/v5wN0mqdSS\n",
      "*******************************************************************************************************************************\n",
      "\n",
      "https://twitter.com/1927Andrsgomz/status/1336076120651952128\n",
      "2020-12-07 22:32:24+00:00\n",
      "Ganó @AmericaFemenino, a llorar el bastardo inútil de @dperezdeportes todo el partido echándole mierda a las mujeres del Rojo, a cerrar el orto ese 'comentarista' fracasado. #LIGAFEMENINAxWIN #LigaFemeninaBetPlay @HumoEscarlata2 @StonerFPC9 @AmericaStore_Co\n",
      "*******************************************************************************************************************************\n",
      "\n",
      "https://twitter.com/WinSportsTV/status/1336075929760698372\n",
      "2020-12-07 22:31:39+00:00\n",
      "➕ ¡Se repitió la historia! ¡Celebración de América y tristeza para Millonarios! \n",
      "#LIGAFEMENINAxWIN https://t.co/HkWEKRVPmD\n",
      "*******************************************************************************************************************************\n",
      "\n",
      "https://twitter.com/ade_fonca/status/1336075905475768324\n",
      "2020-12-07 22:31:33+00:00\n",
      "#LIGAFEMENINAxWIN \n",
      "Grandes GUERRERAS, jugando bien y limpio.\n",
      "*******************************************************************************************************************************\n",
      "\n",
      "https://twitter.com/DiegoPatino07/status/1336075711749218308\n",
      "2020-12-07 22:30:47+00:00\n",
      "La dieron Toda, esperamos siga el mismo equipo para el Proximo Torneo .. Que @Tatiana_Ariza15   siga en Millonarios #LIGAFEMENINAxWIN\n",
      "*******************************************************************************************************************************\n",
      "\n",
      "https://twitter.com/Armagedon_ctg/status/1336075609424977920\n",
      "2020-12-07 22:30:23+00:00\n",
      "Que comentaristas tan parcializados #LIGAFEMENINAxWIN\n",
      "*******************************************************************************************************************************\n",
      "\n",
      "https://twitter.com/jcarevalom/status/1336075493670604803\n",
      "2020-12-07 22:29:55+00:00\n",
      "Ojala el equipo femenino de #SantaFe le gane al #America solo para que un equipo honesto gane el campeonato. #LIGAFEMENINAxWIN\n",
      "*******************************************************************************************************************************\n",
      "\n",
      "https://twitter.com/DiegoPatino07/status/1336075159774617612\n",
      "2020-12-07 22:28:35+00:00\n",
      "Que Sad Como nos hecha a Maria Peraza #LIGAFEMENINAxWIN\n",
      "*******************************************************************************************************************************\n",
      "\n",
      "https://twitter.com/maotrustj14/status/1336075142913536002\n",
      "2020-12-07 22:28:31+00:00\n",
      "#LIGAFEMENINAxWIN finalistas diablas, felicitaciones, felices vamos por la segunda\n",
      "*******************************************************************************************************************************\n",
      "\n",
      "https://twitter.com/Lucho1946mfc14/status/1336075099515064327\n",
      "2020-12-07 22:28:21+00:00\n",
      "@MFCFem Que objetividad tan hp la de @SheylaGarcia07 deje de hablar tanta mierda, se le nota la imparcialidad, #LIGAFEMENINAxWIN no vio que no fue falta de @mape4_ gracias María, enorme, gracias por darlo todo y por demostrar el amor por @MFCFem debiste darle en la jeta a ésa!!!!\n",
      "*******************************************************************************************************************************\n",
      "\n",
      "https://twitter.com/PoyoBrown/status/1336074934402080771\n",
      "2020-12-07 22:27:42+00:00\n",
      "@AmericaFemenino vs @SantaFe en la final de la Liga Femenina. ¿También se verá este final en la @LigaBetPlayD? ¿Será? #LIGAFEMENINAxWIN\n",
      "*******************************************************************************************************************************\n",
      "\n",
      "https://twitter.com/Roberto42048611/status/1336074867607826434\n",
      "2020-12-07 22:27:26+00:00\n",
      "#LIGAFEMENINAxWIN Sin duda la final entre los dos mejores equipos del campeonato. Vamos las Leonas.\n",
      "*******************************************************************************************************************************\n",
      "\n",
      "https://twitter.com/KAREN_BA_/status/1336074767712006144\n",
      "2020-12-07 22:27:02+00:00\n",
      "No se tiran y no simulan? Que partido estaban viendo?  #ligafemeninaxwin\n",
      "*******************************************************************************************************************************\n",
      "\n",
      "https://twitter.com/969b878c4e084e5/status/1336074734346383360\n",
      "2020-12-07 22:26:54+00:00\n",
      "#LIGAFEMENINAxWIN América vamos por el bicampenato en femenino, ser hincha comentarista no cala, acomodate\n",
      "*******************************************************************************************************************************\n",
      "\n",
      "https://twitter.com/WinSportsTV/status/1336074676792143873\n",
      "2020-12-07 22:26:40+00:00\n",
      "¡@AmericaCaliFem llega a la final de la #LIGAFEMENINAxWIN y se enfrentará a las ‘Leonas’! ⚽👹\n",
      "\n",
      "¡Se emocionan las ‘Escarlatas’ y sueñan con el bicampeonato! https://t.co/7eH2fpMKvP\n",
      "*******************************************************************************************************************************\n",
      "\n",
      "https://twitter.com/KAREN_BA_/status/1336074600577437702\n",
      "2020-12-07 22:26:22+00:00\n",
      "Pésimo arbitraje!  #ligafemeninaxwin\n",
      "*******************************************************************************************************************************\n",
      "\n",
      "https://twitter.com/linitaramos/status/1336074579018739713\n",
      "2020-12-07 22:26:17+00:00\n",
      "#LIGAFEMENINAxWIN las mejores a la final @AmericaCaliFem son unas berracas\n",
      "*******************************************************************************************************************************\n",
      "\n",
      "https://twitter.com/969b878c4e084e5/status/1336074495329783819\n",
      "2020-12-07 22:25:57+00:00\n",
      "#LIGAFEMENINAxWIN América vamos por el bicampenato en femenino, llora millonarios\n",
      "*******************************************************************************************************************************\n",
      "\n",
      "https://twitter.com/El4rbitro/status/1336074492972572674\n",
      "2020-12-07 22:25:56+00:00\n",
      "#LIGAFEMENINAxWIN \n",
      "se tropezo sola la de america y disque roja!!! terrible arbitraje!!!!\n",
      "*******************************************************************************************************************************\n",
      "\n",
      "https://twitter.com/alvarogalvis19/status/1336074422868963331\n",
      "2020-12-07 22:25:40+00:00\n",
      "@mape4_ que gran partido , fuerza campeona lo hicieron muy bien como hinchas estamos orgullosos de ustedes ! #LIGAFEMENINAxWIN\n",
      "*******************************************************************************************************************************\n",
      "\n",
      "https://twitter.com/El4rbitro/status/1336074360101203971\n",
      "2020-12-07 22:25:25+00:00\n",
      "#LIGAFEMENINAxWIN \n",
      "ni la toco y disque falta y roja!!! cual sutil ni que hpss ni la toco!!!\n",
      "*******************************************************************************************************************************\n",
      "\n",
      "https://twitter.com/iOscarParra/status/1336074299589976065\n",
      "2020-12-07 22:25:10+00:00\n",
      "@dperezdeportes ! Que grande Dani! @mape4_  La figura! #LIGAFEMENINAxWIN\n",
      "*******************************************************************************************************************************\n",
      "\n",
      "https://twitter.com/KAREN_BA_/status/1336074273476239363\n",
      "2020-12-07 22:25:04+00:00\n",
      "Q payasas las del america y q pesimos narradores tiene Win q se inventan faltas! Sean objetivos q tienen las putas cámaras  #ligafemeninaxwin\n",
      "*******************************************************************************************************************************\n",
      "\n",
      "https://twitter.com/iOscarParra/status/1336074029753638921\n",
      "2020-12-07 22:24:06+00:00\n",
      "Me vas a expulsar a Maria Peraza y no a la que le metió el codazo a Tatiana Ariza ?? #LIGAFEMENINAxWIN !!! Increíble!!\n",
      "*******************************************************************************************************************************\n",
      "\n",
      "https://twitter.com/JulinBarreto10/status/1336073806503415810\n",
      "2020-12-07 22:23:13+00:00\n",
      "@WinSportsTV Vamos Millos saludes desde Ibagué #LIGAFEMENINAxWIN\n",
      "*******************************************************************************************************************************\n",
      "\n",
      "https://twitter.com/969b878c4e084e5/status/1336073795443023875\n",
      "2020-12-07 22:23:10+00:00\n",
      "#LIGAFEMENINAxWIN América vamos por el bicampenato en femenino, penal\n",
      "*******************************************************************************************************************************\n",
      "\n",
      "https://twitter.com/maotrustj14/status/1336073682033242113\n",
      "2020-12-07 22:22:43+00:00\n",
      "#LIGAFEMENINAxWIN Eduardo cuando narras un partido de la mechita, hoy con femenino cuando de hombres?\n",
      "*******************************************************************************************************************************\n",
      "\n",
      "https://twitter.com/969b878c4e084e5/status/1336073354562899969\n",
      "2020-12-07 22:21:25+00:00\n",
      "#LIGAFEMENINAxWIN América vamos por el bicampenato en femenino. Respira por la herida Daniel Millonarios\n",
      "*******************************************************************************************************************************\n",
      "\n",
      "https://twitter.com/Pacho0255/status/1336073343624224769\n",
      "2020-12-07 22:21:22+00:00\n",
      "#LIGAFEMENINAxWIN, Es una lástima ver perder un equipo que juega bonito como Millos femenino, solo por una juez que no sabe ni donde está parada y permite que las jugadoras de América hagan las faltas que quieran.\n",
      "*******************************************************************************************************************************\n",
      "\n",
      "https://twitter.com/WinSportsTV/status/1336073292684419079\n",
      "2020-12-07 22:21:10+00:00\n",
      "➕ ¡Por poco llega el segundo de las ‘Escarlatas’! \n",
      "#LIGAFEMENINAxWIN https://t.co/GWiGoSMMns\n",
      "*******************************************************************************************************************************\n",
      "\n",
      "https://twitter.com/ade_fonca/status/1336073185280876548\n",
      "2020-12-07 22:20:45+00:00\n",
      "#LIGAFEMENINAxWIN apoyando siempre a mis AZULES, VAMOSSSSSS\n",
      "*******************************************************************************************************************************\n",
      "\n",
      "https://twitter.com/FabioArmandoUr1/status/1336072777472897025\n",
      "2020-12-07 22:19:07+00:00\n",
      "#LIGAFEMENINAxWIN Tengo tres hernias y un desgarre de tanto hacerle fuerza a las azules que transportan mucho y no concretan. Las quería contra mi Santa Fe\n",
      "*******************************************************************************************************************************\n",
      "\n",
      "https://twitter.com/oscarev83/status/1336072730060468227\n",
      "2020-12-07 22:18:56+00:00\n",
      "Muy entretenida esta semifinal. Vamos por el bicampeonato muchachas guerreras escarlatas. 🇦🇹 #LIGAFEMENINAxWIN\n",
      "*******************************************************************************************************************************\n",
      "\n",
      "https://twitter.com/adrianalvarezbe/status/1336072704571691010\n",
      "2020-12-07 22:18:50+00:00\n",
      "Natalia Giraldo es todo lo que está bien en esta vida 😍 #LIGAFEMENINAxWIN @AmericaCaliFem ❤️desde monteria !!\n",
      "*******************************************************************************************************************************\n",
      "\n",
      "https://twitter.com/extrafutbol74/status/1336072606106185731\n",
      "2020-12-07 22:18:26+00:00\n",
      "#LIGAFEMENINAxWIN   Vamos  América, saludos  desde PALMIRA VALLE,  PASION DE UN PUEBLO......\n",
      "*******************************************************************************************************************************\n",
      "\n",
      "https://twitter.com/FelipeR_Brs_96/status/1336072364224868356\n",
      "2020-12-07 22:17:29+00:00\n",
      "@LigaBetPlayD Desde Miranda Cauca Apoyando A La Mechita Vamos Que Vamos #LIGAFEMENINAxWIN\n",
      "*******************************************************************************************************************************\n",
      "\n",
      "https://twitter.com/ade_fonca/status/1336072314878832640\n",
      "2020-12-07 22:17:17+00:00\n",
      "#LIGAFEMENINAxWIN MILLONARIOS no te rindas.\n",
      "*******************************************************************************************************************************\n",
      "\n",
      "https://twitter.com/KAREN_BA_/status/1336072182364073991\n",
      "2020-12-07 22:16:45+00:00\n",
      "Y que las del america ya aprendieron malas mañas? En cada cambio se tiran al piso?  #ligafemeninaxwin\n",
      "*******************************************************************************************************************************\n",
      "\n",
      "https://twitter.com/ade_fonca/status/1336072041393500160\n",
      "2020-12-07 22:16:12+00:00\n",
      "Vamos MILLOS #LIGAFEMENINAxWIN CON TODA.⚽️\n",
      "*******************************************************************************************************************************\n",
      "\n",
      "https://twitter.com/maotrustj14/status/1336071605110378508\n",
      "2020-12-07 22:14:28+00:00\n",
      "#LIGAFEMENINAxWIN saludo desde Armenia, vamos diablas.\n",
      "*******************************************************************************************************************************\n",
      "\n",
      "https://twitter.com/CarlosA1374/status/1336071557819600910\n",
      "2020-12-07 22:14:17+00:00\n",
      "#LIGAFEMENINAxWIN En Atlas de Carolina Pineda también jugó @nicoleregnier11. Lastima que mi hija sufrió un accidente tenía mucho talento, también jugó en Atlas.\n",
      "*******************************************************************************************************************************\n",
      "\n",
      "https://twitter.com/kelvin_movilla/status/1336071523254345728\n",
      "2020-12-07 22:14:08+00:00\n",
      "@WinSportsTV #LIGAFEMENINAxWIN @EduardoLuisFut @SheylaGarcia07  la mechita es finalista merecido, su juego es un juego experimentado,\n",
      "Vamos mecha!! Se puede el bicampeonato 👹👹🇦🇹🇦🇹⚽\n",
      "*******************************************************************************************************************************\n",
      "\n",
      "https://twitter.com/LuisAlvaro76/status/1336071260816740356\n",
      "2020-12-07 22:13:06+00:00\n",
      "#LIGAFEMENINAxWIN vamos diablitas desde palmira con ustedes\n",
      "*******************************************************************************************************************************\n",
      "\n",
      "https://twitter.com/JBlackBerry10/status/1336071213605642245\n",
      "2020-12-07 22:12:54+00:00\n",
      "#LIGAFEMENINAxWIN Figuras del partido Natalia Giraldo y Gisela Robledo.\n",
      "#VamosEscarlatas\n",
      "*******************************************************************************************************************************\n",
      "\n",
      "https://twitter.com/hrodriguez547/status/1336071112644497417\n",
      "2020-12-07 22:12:30+00:00\n",
      "#LIGAFEMENINAxWIN vamos por el bi mis diablitas\n",
      "*******************************************************************************************************************************\n",
      "\n",
      "https://twitter.com/alessankov/status/1336071101315682311\n",
      "2020-12-07 22:12:28+00:00\n",
      "#LIGAFEMENINAxWIN Fuerza chicas azules, se puede. Saludos.\n",
      "*******************************************************************************************************************************\n",
      "\n",
      "https://twitter.com/KAREN_BA_/status/1336070763217121280\n",
      "2020-12-07 22:11:07+00:00\n",
      "#LIGAFEMENINAxWIN estamos mal de jueces! Un penal claro, no saca amarillas! Pésimo arbitraje\n",
      "*******************************************************************************************************************************\n",
      "\n",
      "https://twitter.com/969b878c4e084e5/status/1336070401378693120\n",
      "2020-12-07 22:09:41+00:00\n",
      "#LIGAFEMENINAxWIN América vamos por el bicampenato en femenino, milagro que dijo que no era penal\n",
      "*******************************************************************************************************************************\n",
      "\n",
      "https://twitter.com/alejjo/status/1336069826125721608\n",
      "2020-12-07 22:07:24+00:00\n",
      "es que ha hecho de todo sin pegada, jajajaja, entonces cuál es el merito de gallinarios? #LIGAFEMENINAxWIN\n",
      "*******************************************************************************************************************************\n",
      "\n",
      "https://twitter.com/969b878c4e084e5/status/1336069599163461634\n",
      "2020-12-07 22:06:30+00:00\n",
      "#LIGAFEMENINAxWIN América vamos por el bicampenato en femenino\n",
      "*******************************************************************************************************************************\n",
      "\n",
      "https://twitter.com/edermontero4/status/1336069540975931392\n",
      "2020-12-07 22:06:16+00:00\n",
      "@SheylaGarcia07 Saludos desde Valledupar  Fuerza América  #LIGAFEMENINAXWIN\n",
      "*******************************************************************************************************************************\n",
      "\n",
      "https://twitter.com/969b878c4e084e5/status/1336069398063423489\n",
      "2020-12-07 22:05:42+00:00\n",
      "#LIGAFEMENINAxWIN América vamos por el bicampenato en femenino, lloralo Daniel\n",
      "*******************************************************************************************************************************\n",
      "\n",
      "https://twitter.com/edermontero4/status/1336069341322874880\n",
      "2020-12-07 22:05:28+00:00\n",
      "@SheylaGarcia07 Quiero ver a la Mechita en la Fina. Las mujeres y los hombres  #LIGAFEMENINAxWIN\n",
      "*******************************************************************************************************************************\n",
      "\n",
      "https://twitter.com/TibenVelasquez/status/1336069186490167296\n",
      "2020-12-07 22:04:51+00:00\n",
      "#LIGAFEMENINAxWIN Vamos chicas desde Bucaramanga, Vamos Millos\n",
      "*******************************************************************************************************************************\n",
      "\n",
      "https://twitter.com/WinSportsTV/status/1336068961042132994\n",
      "2020-12-07 22:03:57+00:00\n",
      "➕ ¡Las jugadoras dan todo en la cancha! \n",
      "#LIGAFEMENINAxWIN https://t.co/9LuKVagbJ9\n",
      "*******************************************************************************************************************************\n",
      "\n",
      "https://twitter.com/edermontero4/status/1336068959855128579\n",
      "2020-12-07 22:03:57+00:00\n",
      "@SheylaGarcia07 Quiero ver a mis dos Amores en la Final  vamos la pasión de un Pueblo #LIGAFEMENINAxWIN\n",
      "*******************************************************************************************************************************\n",
      "\n",
      "https://twitter.com/juancho8921/status/1336068740572655621\n",
      "2020-12-07 22:03:05+00:00\n",
      "Vamos mis chicas super poderosas por el triunfo desde Ibagué #LIGAFEMENINAxWIN @Millos_FC\n",
      "*******************************************************************************************************************************\n",
      "\n",
      "https://twitter.com/fegal5/status/1336068676777353222\n",
      "2020-12-07 22:02:50+00:00\n",
      "@WinSportsTV \n",
      "#LIGAFEMENINAxWIN Apoyando al @AmericaCaliFem desde Valledupar!!!\n",
      "*******************************************************************************************************************************\n",
      "\n",
      "https://twitter.com/edermontero4/status/1336068403610710017\n",
      "2020-12-07 22:01:45+00:00\n",
      "@SheylaGarcia07 Saludos desde la Capital Mundial del Vallenato, vamos América  #LIGAFEMENINAxWIN\n",
      "*******************************************************************************************************************************\n",
      "\n",
      "https://twitter.com/juandiosorio7/status/1336068394555236352\n",
      "2020-12-07 22:01:42+00:00\n",
      "#LIGAFEMENINAxWIN El promedio de estatura del último mundial femenino (Francia 2019) fue de 1,68m . @dperezdeportes @EduardoLuisFut @SheylaGarcia07\n",
      "*******************************************************************************************************************************\n",
      "\n",
      "https://twitter.com/jhonvyzone/status/1336068216817324032\n",
      "2020-12-07 22:01:00+00:00\n",
      "#LIGAFEMENINAxWIN vamos mis niñas mis diablas regalenme ese triunfo de cumpleaños @AmericaCaliFem  las mejores\n",
      "*******************************************************************************************************************************\n",
      "\n",
      "https://twitter.com/MARBINCASTILLA/status/1336068071325380611\n",
      "2020-12-07 22:00:25+00:00\n",
      "#LIGAFEMENINAxWIN Vamos Guerras Americanas por la FINAL ...Equipo de Dios...desde Valencia - Córdoba🙏\n",
      "*******************************************************************************************************************************\n",
      "\n",
      "https://twitter.com/pcgstw/status/1336068012567359492\n",
      "2020-12-07 22:00:11+00:00\n",
      "Desde Santiago de Chile #vamosRojazo #porelbicampeonato #Escarlatas #pidandomicilio falta el gol de @catausme #LIGAFEMENINAxWIN\n",
      "*******************************************************************************************************************************\n",
      "\n",
      "https://twitter.com/AlexanderCaon8/status/1336067964609699843\n",
      "2020-12-07 22:00:00+00:00\n",
      "#LIGAFEMENINAXWIN\n",
      "ME ESTA OLIENDO A BICAMPEONATO. VAMOS DIABLITAS ROJAS DESDE YA SON UNAS CAMPEONAS.👹👹👹👹👹👹👹LAS ADORO SON UNAS TESAS. \n",
      "AMÉRICA LA PASION DE UN PUEBLO.\n",
      "*******************************************************************************************************************************\n",
      "\n",
      "https://twitter.com/Gonzalo44249414/status/1336067940228198404\n",
      "2020-12-07 21:59:54+00:00\n",
      "#LIGAFEMENINAxWIN saludos desde leon españa, vamos america\n",
      "*******************************************************************************************************************************\n",
      "\n",
      "https://twitter.com/rolosoy/status/1336067825899802632\n",
      "2020-12-07 21:59:27+00:00\n",
      "Un solo escudo un solo 💙vamos embajadoras #LIGAFEMENINAxWIN\n",
      "*******************************************************************************************************************************\n",
      "\n",
      "https://twitter.com/elijesu5271/status/1336067778210639874\n",
      "2020-12-07 21:59:15+00:00\n",
      "#LIGAFEMENINAxWIN a penales america muy mal adelante.\n",
      "*******************************************************************************************************************************\n",
      "\n",
      "https://twitter.com/alvarogalvis19/status/1336067770090463235\n",
      "2020-12-07 21:59:13+00:00\n",
      "#LIGAFEMENINAxWIN vamos azulinas 💙💙💙 saludos desde Boston !\n",
      "*******************************************************************************************************************************\n",
      "\n",
      "https://twitter.com/miguelosorio901/status/1336067700611747841\n",
      "2020-12-07 21:58:57+00:00\n",
      "#LIGAFEMENINAxWIN  vamos Mechaaa, se viene el gol de @catausme @WinSportsTV\n",
      "*******************************************************************************************************************************\n",
      "\n",
      "https://twitter.com/angietorti/status/1336067605455630337\n",
      "2020-12-07 21:58:34+00:00\n",
      "Vamos mis diablas son las mejores #LIGAFEMENINAxWIN\n",
      "*******************************************************************************************************************************\n",
      "\n",
      "https://twitter.com/luisfdomosquera/status/1336067551172980742\n",
      "2020-12-07 21:58:21+00:00\n",
      "#LIGAFEMENINAxWIN @AmericaCaliFem Que pasó con Daniela Henao. Este año no jugó?\n",
      "*******************************************************************************************************************************\n",
      "\n",
      "https://twitter.com/KevinPa06973193/status/1336067118333386752\n",
      "2020-12-07 21:56:38+00:00\n",
      "Saludos desde Palmira apoyando a la mechita #LIGAFEMENINAxWIN\n",
      "*******************************************************************************************************************************\n",
      "\n",
      "https://twitter.com/eumedinar/status/1336066854603862023\n",
      "2020-12-07 21:55:35+00:00\n",
      "@WinSportsTV #LIGAFEMENINAxWIN  cuando Win inició  prometió una señal limpia en sus transmisiones, no se sabe porqué ahora  en WIN+ muestran ventanas con los mensajes de supuestos televidentes,..si es limpia es limpia..para aplaudir las damas periodistas, Sheyla  fuera de serie\n",
      "*******************************************************************************************************************************\n",
      "\n",
      "https://twitter.com/Juliethekatheri/status/1336066222568443905\n",
      "2020-12-07 21:53:05+00:00\n",
      "#LIGAFEMENINAxWIN  Vamooooos milloos!!!\n",
      "*******************************************************************************************************************************\n",
      "\n",
      "https://twitter.com/Politichef_/status/1336066204826537988\n",
      "2020-12-07 21:53:00+00:00\n",
      "@WinSportsTV  #LIGAFEMENINAxWIN mejor que los comentaristas y narradores sean mujeres, porque escuchar a Eduardo Luis y ese otro petardo fastidia ver el partido...\n",
      "*******************************************************************************************************************************\n",
      "\n",
      "https://twitter.com/WinSportsTV/status/1336066070197760000\n",
      "2020-12-07 21:52:28+00:00\n",
      "➕ ¡Natalia es la figura! ¡Esta sacando de todo y apenas tiene 17 años! ⚽🔥\n",
      "#LIGAFEMENINAxWIN https://t.co/oI0RnOHbf0\n",
      "*******************************************************************************************************************************\n",
      "\n",
      "https://twitter.com/969b878c4e084e5/status/1336065583016783873\n",
      "2020-12-07 21:50:32+00:00\n",
      "#LIGAFEMENINAxWIN América vamos por el bicampenato en femenino, América-Santafe desde Palmira VE\n",
      "*******************************************************************************************************************************\n",
      "\n",
      "https://twitter.com/RojoIngenlero/status/1336065509939437577\n",
      "2020-12-07 21:50:15+00:00\n",
      "#LIGAFEMENINAxWIN Vamos América, porque hasta en el femenino los tenemos de hijos 👹👹\n",
      "*******************************************************************************************************************************\n",
      "\n",
      "https://twitter.com/lugariro/status/1336065419472490498\n",
      "2020-12-07 21:49:53+00:00\n",
      "#LIGAFEMENINAxWIN Vamos America por la final contra SantaFe, una hermosa final ROJA!!!\n",
      "*******************************************************************************************************************************\n",
      "\n",
      "https://twitter.com/BermudezElman/status/1336064988562288641\n",
      "2020-12-07 21:48:10+00:00\n",
      "#LIGAFEMENINAxWIN vamos las diablas, son las mejores!👹🇦🇹\n",
      "*******************************************************************************************************************************\n",
      "\n",
      "https://twitter.com/ade_fonca/status/1336064924037091340\n",
      "2020-12-07 21:47:55+00:00\n",
      "#LIGAFEMENINAxWIN siempre acompañandote Grande MILLONARIOS ⚽️⚽️\n",
      "*******************************************************************************************************************************\n",
      "\n",
      "https://twitter.com/soyandresacosta/status/1336064842629836801\n",
      "2020-12-07 21:47:36+00:00\n",
      "Se salvó Carolina Pineda de la expulsión, fue con los taches hacia Tatiana Ariza y ni amarilla le enseñaron. #LIGAFEMENINAxWIN\n",
      "*******************************************************************************************************************************\n",
      "\n",
      "https://twitter.com/hdiazsierra/status/1336064712061104130\n",
      "2020-12-07 21:47:04+00:00\n",
      "@WinSportsTV #LIGAFEMENINAxWIN\n",
      "Será que Daniel Pérez puede dar un comentario sin que se le note que es Hincha de @MillosFCoficial\n",
      "Ya se vuelve aburridor y falta de profesionalismo.\n",
      "*******************************************************************************************************************************\n",
      "\n",
      "https://twitter.com/ade_fonca/status/1336064543462731776\n",
      "2020-12-07 21:46:24+00:00\n",
      "Vamos MILLOS #LIGAFEMENINAxWIN si se puede, vamosssss ⚽️\n",
      "*******************************************************************************************************************************\n",
      "\n",
      "https://twitter.com/969b878c4e084e5/status/1336064506217308166\n",
      "2020-12-07 21:46:15+00:00\n",
      "#LIGAFEMENINAxWIN América vamos por el bicampenato en femenino, esta si es comentarista Sheila, enséñale al Daniel\n",
      "*******************************************************************************************************************************\n",
      "\n",
      "https://twitter.com/alejjo/status/1336064295201804288\n",
      "2020-12-07 21:45:25+00:00\n",
      "TODO ES ROJA Y PENALES CONTRA AMÉRICA,EEEHHHHH #LIGAFEMENINAxWIN\n",
      "*******************************************************************************************************************************\n",
      "\n",
      "https://twitter.com/969b878c4e084e5/status/1336064211898822657\n",
      "2020-12-07 21:45:05+00:00\n",
      "#LIGAFEMENINAxWIN América vamos por el bicampenato en femenino, se nota a Daniel su hincha de millos\n",
      "*******************************************************************************************************************************\n",
      "\n",
      "https://twitter.com/AranttzaM/status/1336064124384649216\n",
      "2020-12-07 21:44:44+00:00\n",
      "¿Hay algún equipo más grande que América de Cali, en Colombia? \n",
      "#DiaDeLasVelitas #LIGAFEMENINAxWIN\n",
      "*******************************************************************************************************************************\n",
      "\n",
      "https://twitter.com/ozkr_rod/status/1336063785820413960\n",
      "2020-12-07 21:43:24+00:00\n",
      "Vamos América por el bicampeonato! Sí se puede 👹 #LIGAFEMENINAxWIN\n",
      "*******************************************************************************************************************************\n",
      "\n",
      "https://twitter.com/AburridoEdison/status/1336063651120345092\n",
      "2020-12-07 21:42:51+00:00\n",
      "Vamos mamacitas de #millosfemenino 😍😍😍💙💙💙#LIGAFEMENINAxWIN https://t.co/m4VF1cLgW9\n",
      "*******************************************************************************************************************************\n",
      "\n",
      "https://twitter.com/twisterwandos/status/1336063642136088577\n",
      "2020-12-07 21:42:49+00:00\n",
      "Desde Manizales un abrazo a todos. Final Santa Fe vs América en hombres y mujeres. Vamos mechita #LIGAFEMENINAxWIN\n",
      "*******************************************************************************************************************************\n",
      "\n",
      "https://twitter.com/chepelucho1/status/1336063640856899592\n",
      "2020-12-07 21:42:49+00:00\n",
      "Vamos Millitos. Buen Partido. Saludos desde Canadá .#LIGAFEMENINAxWIN\n",
      "*******************************************************************************************************************************\n",
      "\n",
      "https://twitter.com/nelsonjavierlu2/status/1336063631797129218\n",
      "2020-12-07 21:42:47+00:00\n",
      "#LIGAFEMENINAxWIN @WinSportsTV vamos embajadoras final Bogotá\n",
      "*******************************************************************************************************************************\n",
      "\n",
      "https://twitter.com/JuanCam01371056/status/1336063480781279234\n",
      "2020-12-07 21:42:11+00:00\n",
      "#LIGAFEMENINAxWIN @MFCFem vamoooos, con la garra que siempre han demostrado para llegar a esa final, este año es el nuestro.\n",
      "*******************************************************************************************************************************\n",
      "\n",
      "https://twitter.com/ActorRuizM/status/1336063136768647168\n",
      "2020-12-07 21:40:49+00:00\n",
      "Insoportable @dperezdeportes comentando fútbol femenino, insoportable su excesiva fuerza hacia Millonarios, sus chistes flojos y su acostumbrada soberbia.\n",
      "Es mejor que dejen a @JJMiranda15 o @GonzaDeFeliche \n",
      "#LIGAFEMENINAxWIN\n",
      "*******************************************************************************************************************************\n",
      "\n",
      "https://twitter.com/AranttzaM/status/1336062910649561089\n",
      "2020-12-07 21:39:55+00:00\n",
      "#LIGAFEMENINAxWIN \n",
      "qué alguien le diga al comentarista que él ni volviendo a nacer hace un \"tirito\" como el que hace @catausme\n",
      "*******************************************************************************************************************************\n",
      "\n",
      "https://twitter.com/EdgarNavia61/status/1336062766642302976\n",
      "2020-12-07 21:39:21+00:00\n",
      "Vamos ganando pero a Millos hay que meterle dos más si queremos estar tranquilos. #LIGAFEMENINAxWIN es un apoyo al fútbol femenino que me gusta ver mucho más porque @AmericaCaliFem pone mucha sangre a la divisa roja\n",
      "*******************************************************************************************************************************\n",
      "\n",
      "https://twitter.com/Yobaye32/status/1336062726251175937\n",
      "2020-12-07 21:39:11+00:00\n",
      "#LIGAFEMENINAxWIN @EduardoLuisFut @dperezdeportes @SheylaGarcia07 saludos desde Cali pegadisimo Con. Win+ y las diablas por el bicampeonato https://t.co/Zsyu8IJZNa\n",
      "*******************************************************************************************************************************\n",
      "\n",
      "https://twitter.com/WinSportsTV/status/1336062554511204352\n",
      "2020-12-07 21:38:30+00:00\n",
      "➕ ¡El análisis del primer tiempo entre América y Millonarios por @SheylaGarcia07! ⚽🔥\n",
      "#LIGAFEMENINAxWIN https://t.co/426tXiCXCV\n",
      "*******************************************************************************************************************************\n",
      "\n",
      "https://twitter.com/WinSportsTV/status/1336062131662426112\n",
      "2020-12-07 21:36:49+00:00\n",
      "¡Se juega el segundo tiempo en el Pascual Guerrero entre @AmericaCaliFem y @MFCFem ! (1-0)\n",
      "\n",
      "Serie: 2-1\n",
      "\n",
      "#LIGAFEMENINAxWIN \n",
      "\n",
      "https://t.co/RaJRxLHtz8\n",
      "*******************************************************************************************************************************\n",
      "\n",
      "https://twitter.com/969b878c4e084e5/status/1336061682670514176\n",
      "2020-12-07 21:35:02+00:00\n",
      "#LIGAFEMENINAxWIN América vamos por el bicampenato en femenino, que el comentarista Daniel, hincha de Millos le aprenda a Sheila que es objetiva\n",
      "*******************************************************************************************************************************\n",
      "\n",
      "https://twitter.com/alexanderroughk/status/1336061041143406602\n",
      "2020-12-07 21:32:29+00:00\n",
      "#LIGAFEMENINAxWIN bacano es como ver los partidos q jugaba en el colegio!!!\n",
      "*******************************************************************************************************************************\n",
      "\n",
      "https://twitter.com/OSVALDO0621/status/1336060948080173062\n",
      "2020-12-07 21:32:07+00:00\n",
      "SALUDOS DESDE BARRANQUILLA SOY HINCHA DE JUNIOR...CREO Q AMÉRICA FEMENINA CLASIFICA A LA FINAL, YA EN EL MASCULINO, CLASIFICA MI JUNIOR...VAMOS TIBURÓN #LIGAFEMENINAxWIN\n",
      "*******************************************************************************************************************************\n",
      "\n",
      "https://twitter.com/soyandresacosta/status/1336058870268108805\n",
      "2020-12-07 21:23:52+00:00\n",
      "Si Win va a escoger a un relator para narrar un partido de la Liga Femenina, lo mímino sería elegir a alguien que tenga conocimiento de la disciplina. Eduardo Luis desde su ignorancia en el tema, trata de hacerse el chistoso con comentarios fuera de lugar... #LIGAFEMENINAxWIN\n",
      "*******************************************************************************************************************************\n",
      "\n",
      "https://twitter.com/WinSportsTV/status/1336057834686066691\n",
      "2020-12-07 21:19:45+00:00\n",
      "¡Terminó el primer tiempo! @AmericaCaliFem se va al descanso con la ventaja 1-0 frente a @MFCFem \n",
      "\n",
      "Serie: 2-1\n",
      "\n",
      "#LIGAFEMENINAxWIN \n",
      "\n",
      "https://t.co/RaJRxLHtz8\n",
      "*******************************************************************************************************************************\n",
      "\n",
      "https://twitter.com/WinSportsTV/status/1336057594138537993\n",
      "2020-12-07 21:18:47+00:00\n",
      "➕ ¡No pueden parar a Tatiana Ariza! ⚽🔥\n",
      "#LIGAFEMENINAxWIN https://t.co/KgV00IfPHX\n",
      "*******************************************************************************************************************************\n",
      "\n",
      "https://twitter.com/CaroLG1994/status/1336057449372131329\n",
      "2020-12-07 21:18:13+00:00\n",
      "#LIGAFEMENINAxWIN Santafesito espera por las siguientes finalistas\n",
      "*******************************************************************************************************************************\n",
      "\n",
      "https://twitter.com/angietorti/status/1336057183281278976\n",
      "2020-12-07 21:17:09+00:00\n",
      "América vs millonarios #LIGAFEMENINAxWIN\n",
      "*******************************************************************************************************************************\n",
      "\n",
      "https://twitter.com/SofiaNavarro87/status/1336056933766356995\n",
      "2020-12-07 21:16:10+00:00\n",
      "#LIGAFEMENINAxWIN observando este gran partido!!. https://t.co/92wKgX9Lf0\n",
      "*******************************************************************************************************************************\n",
      "\n",
      "https://twitter.com/iOscarParra/status/1336056828497711107\n",
      "2020-12-07 21:15:45+00:00\n",
      "#LIGAFEMENINAxWIN  @EduardoLuisFut Mencióneme Relatore que hoy clasifica @MFCFem ! Saludos desde Strasbourg Francia 🇫🇷!!\n",
      "*******************************************************************************************************************************\n",
      "\n",
      "https://twitter.com/YoSoyYo28/status/1336056822935982081\n",
      "2020-12-07 21:15:43+00:00\n",
      "Indignante forma de referirse a una jugadora profesional por parte del comentarista de Win+  #LIGAFEMENINAxWIN @WinSportsTV @Dimayor  si van a poner a alguien a relatar el partido que sepa almenos del fútbol femenino!!!\n",
      "*******************************************************************************************************************************\n",
      "\n",
      "https://twitter.com/NorbeyMarroqui1/status/1336056707227774976\n",
      "2020-12-07 21:15:16+00:00\n",
      "#LIGAFEMENINAxWIN Vamos niñas de Millos, un abrazo desde Bogotá, @EduardoLuisFut @dperezdeportes https://t.co/OVQKa4I8vp\n",
      "*******************************************************************************************************************************\n",
      "\n",
      "https://twitter.com/CharlieRestrepo/status/1336056561412820995\n",
      "2020-12-07 21:14:41+00:00\n",
      "Vamos #Millos hay que empatar y ganar #LIGAFEMENINAxWIN @MFCFem @EduardoLuisFut @dperezdeportes @SheylaGarcia07 Millos gana hoy para jugar una bella final...\n",
      "*******************************************************************************************************************************\n",
      "\n",
      "https://twitter.com/Yobaye32/status/1336056529552871430\n",
      "2020-12-07 21:14:34+00:00\n",
      "#LIGAFEMENINAxWIN pegadisimo viendo las diablas. @EduardoLuisFut @dperezdeportes https://t.co/vZp91a38Iz\n",
      "*******************************************************************************************************************************\n",
      "\n",
      "https://twitter.com/SergioV77/status/1336056499035049984\n",
      "2020-12-07 21:14:26+00:00\n",
      "#LIGAFEMENINAxWIN Saludos desde Buenos Aires Argentina apoyando el fútbol femenino de mi Pais!!!\n",
      "*******************************************************************************************************************************\n",
      "\n",
      "https://twitter.com/kelvin_movilla/status/1336056283909267457\n",
      "2020-12-07 21:13:35+00:00\n",
      "@WinSportsTV #LIGAFEMENINAxWIN la experiencia es vital en esta fase, y @AmericaCaliFem tiene experiencia en todas sus líneas\n",
      "*******************************************************************************************************************************\n",
      "\n",
      "https://twitter.com/serranomarco23/status/1336056276883820546\n",
      "2020-12-07 21:13:33+00:00\n",
      "#LIGAFEMENINAxWIN  se ve más coraje el futbol de las mujeres q de los hombres saludos @SheylaGarcia07 @EduardoLuisFut    win + win +\n",
      "*******************************************************************************************************************************\n",
      "\n",
      "https://twitter.com/jan9paul/status/1336056191512932354\n",
      "2020-12-07 21:13:13+00:00\n",
      "Con toda por ese bicampeonato vamos rojo ⭐👹  #LIGAFEMENINAxWIN\n",
      "*******************************************************************************************************************************\n",
      "\n",
      "https://twitter.com/Yobaye32/status/1336056185854840832\n",
      "2020-12-07 21:13:12+00:00\n",
      "#LIGAFEMENINAxWIN @EduardoLuisFut saludos desde Cali vamos diablas para el bicampeonato rojo. @dperezdeportes\n",
      "*******************************************************************************************************************************\n",
      "\n",
      "https://twitter.com/GeArmero/status/1336056119064715267\n",
      "2020-12-07 21:12:56+00:00\n",
      "@WinSportsTV #LIGAFEMENINAxWIN  América femenino y América masculino  los veremos en la final ....rojas a ganar\n",
      "*******************************************************************************************************************************\n",
      "\n",
      "https://twitter.com/omar_escarlata/status/1336056095752773633\n",
      "2020-12-07 21:12:50+00:00\n",
      "Señores @WinSportsTV según lo que hablan de la copa libertadores femenina, si @AmericadeCali va a la final se clasifica a la libertadores y jugaría las dos que se van a realizar en el 2021? Por ser campeón del 2019 y finalista del 2020? #LIGAFEMENINAxWIN\n",
      "*******************************************************************************************************************************\n",
      "\n",
      "https://twitter.com/YoSoyYo28/status/1336056080980434945\n",
      "2020-12-07 21:12:47+00:00\n",
      "#LIGAFEMENINAxWIN\n",
      "Si no saben quienes son las jugadoras y su trayectoria no comenten. Pésimo comentarista del partido america femenino vs millonarios femenino @WinSportsTV\n",
      "*******************************************************************************************************************************\n",
      "\n",
      "https://twitter.com/Sebasr2504/status/1336056022650261507\n",
      "2020-12-07 21:12:33+00:00\n",
      "#LIGAFEMENINAxWIN \n",
      "Vamos niñas!!\n",
      "Apoyando desde Bogotá\n",
      "@AmericadeCali @AmericaFemenino https://t.co/eTh9szkGxm\n",
      "*******************************************************************************************************************************\n",
      "\n",
      "https://twitter.com/Yesse_Fer/status/1336056018728587266\n",
      "2020-12-07 21:12:32+00:00\n",
      "#LIGAFEMENINAxWIN VAMOS POR EL BICAMPEONATO @AmericaCaliFem ❤️\n",
      "*******************************************************************************************************************************\n",
      "\n",
      "https://twitter.com/ALEJOSAETA10/status/1336055949178662920\n",
      "2020-12-07 21:12:15+00:00\n",
      "#LIGAFEMENINAxWIN yo no veo la tendencia 2 https://t.co/FO0Y7xn5M2\n",
      "*******************************************************************************************************************************\n",
      "\n",
      "https://twitter.com/arodriguez120/status/1336055725412524034\n",
      "2020-12-07 21:11:22+00:00\n",
      "Vamos americaaaaa #LIGAFEMENINAxWIN\n",
      "*******************************************************************************************************************************\n",
      "\n",
      "https://twitter.com/dieyoyo_/status/1336055708555620362\n",
      "2020-12-07 21:11:18+00:00\n",
      "@WinSportsTV #LIGAFEMENINAxWIN  saludos desde leticia amazonas la triple frontera brasil peru y colombia. Viva la mecha vamos muchachas.\n",
      "*******************************************************************************************************************************\n",
      "\n",
      "https://twitter.com/nemones/status/1336055669158531081\n",
      "2020-12-07 21:11:08+00:00\n",
      "Vamos las diablasssssss #LIGAFEMENINAxWIN\n",
      "*******************************************************************************************************************************\n",
      "\n",
      "https://twitter.com/fegal5/status/1336055283005730822\n",
      "2020-12-07 21:09:36+00:00\n",
      "@WinSportsTV Apoyando al @AmericaCaliFem desde Valledupar !!!\n",
      "#LIGAFEMENINAxWIN\n",
      "*******************************************************************************************************************************\n",
      "\n",
      "https://twitter.com/MargaritaMart51/status/1336055257303048199\n",
      "2020-12-07 21:09:30+00:00\n",
      "#LIGAFEMENINAxWIN , Cata Usme, jugadora hecha en Formas Íntimas, de Marinilla-Antioquia!\n",
      "*******************************************************************************************************************************\n",
      "\n",
      "https://twitter.com/jepamago/status/1336055014394126344\n",
      "2020-12-07 21:08:32+00:00\n",
      "@WinSportsTV #LIGAFEMENINAxWIN vamos muchachas con toda para la final #2\n",
      "*******************************************************************************************************************************\n",
      "\n",
      "https://twitter.com/aaaaaaaaleja/status/1336054838682152962\n",
      "2020-12-07 21:07:50+00:00\n",
      "#LIGAFEMENINAxWIN https://t.co/RZpKry4aoT\n",
      "*******************************************************************************************************************************\n",
      "\n",
      "https://twitter.com/Roberto42048611/status/1336054830360621058\n",
      "2020-12-07 21:07:48+00:00\n",
      "#LIGAFEMENINAxWIN En qué fechas son los partidos de la final?\n",
      "*******************************************************************************************************************************\n",
      "\n",
      "https://twitter.com/LiliSanabriaO/status/1336054825201659909\n",
      "2020-12-07 21:07:47+00:00\n",
      "Genial sería una final capitalina #LIGAFEMENINAxWIN\n",
      "*******************************************************************************************************************************\n",
      "\n",
      "https://twitter.com/DaniloZuluagaG2/status/1336054795464044554\n",
      "2020-12-07 21:07:40+00:00\n",
      "#LIGAFEMENINAxWIN vamos emjadoras por la final capitalina pero saludeme @EduardoLuisFut abrazo @dperezdeportes y la hermosa @SheylaGarcia07\n",
      "*******************************************************************************************************************************\n",
      "\n",
      "https://twitter.com/969b878c4e084e5/status/1336054688421179393\n",
      "2020-12-07 21:07:15+00:00\n",
      "#LIGAFEMENINAxWIN América vamos por el bicampenato en femenino y Masculino, vamos por Santafe\n",
      "*******************************************************************************************************************************\n",
      "\n",
      "https://twitter.com/CarlosChisco75/status/1336054488717815810\n",
      "2020-12-07 21:06:27+00:00\n",
      "@WinSportsTV #LIGAFEMENINAxWIN saludos cordiales desde fontibon centro @FamiliaFutbole1 siempre conectados con el mejor programa, un abrazo para Daniel, el relateilor Eduardo Luis a betty, otto, Orlando ledy, Eduardo ferro siempre conectados\n",
      "*******************************************************************************************************************************\n",
      "\n",
      "https://twitter.com/ade_fonca/status/1336052827458777094\n",
      "2020-12-07 20:59:51+00:00\n",
      "#LIGAFEMENINAxWIN no te rindas MILLONARIOS, VAMOS!\n",
      "*******************************************************************************************************************************\n",
      "\n",
      "https://twitter.com/darinconr/status/1336052763558600704\n",
      "2020-12-07 20:59:36+00:00\n",
      "Mi sobrino, @afrinconm, dijo que en @MFCFem le iba a pegar la Macalister y desde ahí supe que no íbamos a anotar. 🙁@MillosFCoficial #LIGAFEMENINAxWIN @dperezdeportes\n",
      "*******************************************************************************************************************************\n",
      "\n",
      "https://twitter.com/kelvin_movilla/status/1336052193636610048\n",
      "2020-12-07 20:57:20+00:00\n",
      "#LIGAFEMENINAxWIN\n",
      "Las de millonarios tienen dos referentes pero, en América todo el plantel es referente porque América conserva pilares importantes, desde la copa libertadores femeninas\n",
      "*******************************************************************************************************************************\n",
      "\n",
      "https://twitter.com/Pablo_Vidal/status/1336052134534635522\n",
      "2020-12-07 20:57:06+00:00\n",
      "Lo que le pegan a Tatiana.. 😑 #LIGAFEMENINAxWIN\n",
      "*******************************************************************************************************************************\n",
      "\n",
      "https://twitter.com/WinSportsTV/status/1336051916393107459\n",
      "2020-12-07 20:56:14+00:00\n",
      "➕ ¡NATALIA GIRALDO! ¡En dos tiempos la saca la arquera de América, monumental!\n",
      "#LIGAFEMENINAxWIN https://t.co/IYajNDLkfK\n",
      "*******************************************************************************************************************************\n",
      "\n",
      "https://twitter.com/JulioEduardM/status/1336051399281373185\n",
      "2020-12-07 20:54:10+00:00\n",
      "#LIGAFEMENINAxWIN NATALIAAAAAAAAAAAAAA!!!!\n",
      "*******************************************************************************************************************************\n",
      "\n",
      "https://twitter.com/leliocayog/status/1336051215948525569\n",
      "2020-12-07 20:53:27+00:00\n",
      "Vamos mecha a repetir campeonato #LIGAFEMENINAxWIN\n",
      "*******************************************************************************************************************************\n",
      "\n",
      "https://twitter.com/DaniloZuluagaG2/status/1336051090241019904\n",
      "2020-12-07 20:52:57+00:00\n",
      "#LIGAFEMENINAxWIN penal aqui en la china vamos embajadoras\n",
      "*******************************************************************************************************************************\n",
      "\n",
      "https://twitter.com/WinSportsTV/status/1336051052295168002\n",
      "2020-12-07 20:52:48+00:00\n",
      "20' Penal a favor de @MFCFem,  por mano de Carolina Pineda en el área \n",
      "\n",
      "#LIGAFEMENINAxWIN \n",
      "\n",
      "https://t.co/RaJRxLHtz8\n",
      "*******************************************************************************************************************************\n",
      "\n",
      "https://twitter.com/AndrsGa44193259/status/1336050811525279744\n",
      "2020-12-07 20:51:50+00:00\n",
      "#LIGAFEMENINAxWIN hace un año se ganaba la #14 hoy pasamos a la final con las niñas... la cábala del 7 de diciembre.@SheylaGarcia07 @EduardoLuisFut @dperezdeportes\n",
      "*******************************************************************************************************************************\n",
      "\n",
      "https://twitter.com/WinSportsTV/status/1336050796820049921\n",
      "2020-12-07 20:51:47+00:00\n",
      "➕ ¡Estamos viviendo un partidazo de ida y vuelta!\n",
      "#LIGAFEMENINAxWIN https://t.co/g5CQkV72MX\n",
      "*******************************************************************************************************************************\n",
      "\n",
      "https://twitter.com/ade_fonca/status/1336050302936637442\n",
      "2020-12-07 20:49:49+00:00\n",
      "#LIGAFEMENINAxWIN si se puede, si se puede MILLONARIOS @MillosFCoficial\n",
      "*******************************************************************************************************************************\n",
      "\n",
      "https://twitter.com/JeymanGomez/status/1336050302135508992\n",
      "2020-12-07 20:49:49+00:00\n",
      "#LIGAFEMENINAxWIN vamos América a a luchar hasta el final que nada está escrito, si algo sabemos es de aguante! #VamosPorUnaFinalMas\n",
      "*******************************************************************************************************************************\n",
      "\n",
      "https://twitter.com/stiven2505/status/1336050285572206596\n",
      "2020-12-07 20:49:45+00:00\n",
      "#LIGAFEMENINAxWIN vamos Diablitas por otra final\n",
      "*******************************************************************************************************************************\n",
      "\n",
      "https://twitter.com/Cheo0618/status/1336050204299194369\n",
      "2020-12-07 20:49:25+00:00\n",
      "Vamooooossssss rojooooo #LIGAFEMENINAxWIN\n",
      "*******************************************************************************************************************************\n",
      "\n",
      "https://twitter.com/Luisfhe53124384/status/1336050195134631938\n",
      "2020-12-07 20:49:23+00:00\n",
      "#LIGAFEMENINAxWIN https://t.co/8eIPaAbBns\n",
      "*******************************************************************************************************************************\n",
      "\n",
      "https://twitter.com/jan9paul/status/1336050104483065861\n",
      "2020-12-07 20:49:02+00:00\n",
      "#LIGAFEMENINAxWIN Vamos América, Vamos por esa segunda estrellita ⭐\n",
      "*******************************************************************************************************************************\n",
      "\n",
      "https://twitter.com/castellanos0_0/status/1336050085856219143\n",
      "2020-12-07 20:48:57+00:00\n",
      "Dale Escarlatas que si sienten la camisa de América toda la hinchada con ustedes y por bicampeonato #LIGAFEMENINAxWIN https://t.co/SOYY5tkUYz\n",
      "*******************************************************************************************************************************\n",
      "\n",
      "https://twitter.com/karenespigo1/status/1336050008290971648\n",
      "2020-12-07 20:48:39+00:00\n",
      "Desde muy temprano las americanas inauguran el partido con un gol que dejo hipnotizada a la defensa embajadora 💙...pero se puede remontar #VamosMillos  #LIGAFEMENINAxWIN\n",
      "*******************************************************************************************************************************\n",
      "\n",
      "https://twitter.com/BrayanS74877467/status/1336049995938717697\n",
      "2020-12-07 20:48:36+00:00\n",
      "#LIGAFEMENINAxWIN  Vamos Diablas Rojas 👹⚽🙏\n",
      "*******************************************************************************************************************************\n",
      "\n",
      "https://twitter.com/edwinplum1927/status/1336049957929963520\n",
      "2020-12-07 20:48:27+00:00\n",
      "@EduardoLuisFut Vamos rojito querido #LIGAFEMENINAxWIN\n",
      "Vamos que ganos te amo @SheylaGarcia07\n",
      "*******************************************************************************************************************************\n",
      "\n",
      "https://twitter.com/kelvin_movilla/status/1336049916527996928\n",
      "2020-12-07 20:48:17+00:00\n",
      "#LIGAFEMENINAxWIN Las niñas del América tienen la misma determinación del año pasado, aire de campeonas, la experiencia en esta fase vale! Saludos excelente narración\n",
      "*******************************************************************************************************************************\n",
      "\n",
      "https://twitter.com/H_daniRodriguez/status/1336049879299334145\n",
      "2020-12-07 20:48:08+00:00\n",
      "#LIGAFEMENINAxWIN  vamos mi mechita por el bi campeonato el verdadero rojo de Colombia #AmericaDeCali  @WinSportsTV @EduardoLuisFut\n",
      "*******************************************************************************************************************************\n",
      "\n",
      "https://twitter.com/AlejaC777/status/1336049835129114624\n",
      "2020-12-07 20:47:57+00:00\n",
      "#LIGAFEMENINAxWIN https://t.co/zdzi6sU0np\n",
      "*******************************************************************************************************************************\n",
      "\n",
      "https://twitter.com/arodriguez120/status/1336049819404673028\n",
      "2020-12-07 20:47:54+00:00\n",
      "Vamos américa desde Ibagué. #LIGAFEMENINAxWIN\n",
      "*******************************************************************************************************************************\n",
      "\n",
      "https://twitter.com/Juancam14797966/status/1336049804871421959\n",
      "2020-12-07 20:47:50+00:00\n",
      "@MFCFem #LIGAFEMENINAxWIN vamos embajadoras, con calma que tenemos equipo para ganar la semifinal.\n",
      "*******************************************************************************************************************************\n",
      "\n",
      "https://twitter.com/DarlinLiceth/status/1336049790631751682\n",
      "2020-12-07 20:47:47+00:00\n",
      "Vamos América #LIGAFEMENINAxWIN\n",
      "*******************************************************************************************************************************\n",
      "\n",
      "https://twitter.com/969b878c4e084e5/status/1336049744767016961\n",
      "2020-12-07 20:47:36+00:00\n",
      "#LIGAFEMENINAxWIN América vamos por el bicampenato en femenino. Vamos por segundo\n",
      "*******************************************************************************************************************************\n",
      "\n",
      "https://twitter.com/JohanAlexistch/status/1336049733828272137\n",
      "2020-12-07 20:47:33+00:00\n",
      "#LIGAFEMENINAxWIN final femenina y masculina #América VS #SantaFé \n",
      "Vamos mechita 👹👹🇦🇹\n",
      "*******************************************************************************************************************************\n",
      "\n",
      "https://twitter.com/johnferneyuribe/status/1336049714551287808\n",
      "2020-12-07 20:47:29+00:00\n",
      "#LIGAFEMENINAxWIN vamos @AmericaCaliFem hoy pasamos a la final @catausme una líder indiscutible 🇦🇹🇦🇹 @WinSportsTV\n",
      "*******************************************************************************************************************************\n",
      "\n",
      "https://twitter.com/OsKmargo/status/1336049680036356096\n",
      "2020-12-07 20:47:20+00:00\n",
      "#LIGAFEMENINAxWIN @AmericaCaliFem va a llegar nuevamente a la final. Esas mujeres son unas guerreras y merecen el bicampeonato.\n",
      "*******************************************************************************************************************************\n",
      "\n",
      "https://twitter.com/Deimer3/status/1336049676265644033\n",
      "2020-12-07 20:47:20+00:00\n",
      "VAMOOOS MECHAAAA #LIGAFEMENINAxWIN\n",
      "*******************************************************************************************************************************\n",
      "\n",
      "https://twitter.com/AMAURYAMERICANO/status/1336049634872070145\n",
      "2020-12-07 20:47:10+00:00\n",
      "#LIGAFEMENINAxWIN vamos las Diablitas.\n",
      "*******************************************************************************************************************************\n",
      "\n",
      "https://twitter.com/NoName90448/status/1336049584519442435\n",
      "2020-12-07 20:46:58+00:00\n",
      "Sheyla es cómo Carlos Antonio Vélez, igual de nefastas #LIGAFEMENINAxWIN\n",
      "*******************************************************************************************************************************\n",
      "\n",
      "https://twitter.com/VctorJi68555539/status/1336049582162251776\n",
      "2020-12-07 20:46:57+00:00\n",
      "#LIGAFEMENINAxWIN des de Villavicencio la media Colombia apoyando la mechita\n",
      "*******************************************************************************************************************************\n",
      "\n",
      "https://twitter.com/JairPerezArrie1/status/1336049391099056129\n",
      "2020-12-07 20:46:12+00:00\n",
      "#LIGAFEMENINAxWIN  gana america de cali  SALUDOS EDUARDO LUIS FANS NUMERO 1\n",
      "*******************************************************************************************************************************\n",
      "\n",
      "https://twitter.com/luisedu28862843/status/1336048970099986433\n",
      "2020-12-07 20:44:31+00:00\n",
      "#LIGAFEMENINAxWIN\n",
      "*******************************************************************************************************************************\n",
      "\n",
      "https://twitter.com/juatri66/status/1336048838231150599\n",
      "2020-12-07 20:44:00+00:00\n",
      "#LIGAFEMENINAxWIN la primera jugada no fue mano y penalti a favor de millos. Los narradores parecen hinchas del America. Pésimos!\n",
      "*******************************************************************************************************************************\n",
      "\n",
      "https://twitter.com/yorpa26/status/1336048813090496516\n",
      "2020-12-07 20:43:54+00:00\n",
      "Queremos bicampeonato vamos mi mechita #LIGAFEMENINAxWIN\n",
      "*******************************************************************************************************************************\n",
      "\n",
      "https://twitter.com/luisedu28862843/status/1336048796892094464\n",
      "2020-12-07 20:43:50+00:00\n",
      "#LIGAFEMENINAxWIN  vamos mis guerreras con toda que final nos espera con Santafe uuufff y la final de la liga América Santafe añañañy desde Palmira con win+\n",
      "*******************************************************************************************************************************\n",
      "\n",
      "https://twitter.com/hinchadistante/status/1336048591958368257\n",
      "2020-12-07 20:43:01+00:00\n",
      "#LIGAFEMENINAxWIN\n",
      "Saludos a todos los hinchas que están fuera de Colombia.\n",
      "*******************************************************************************************************************************\n",
      "\n",
      "https://twitter.com/ade_fonca/status/1336048518276976641\n",
      "2020-12-07 20:42:43+00:00\n",
      "#LIGAFEMENINAxWIN vamos CAPITALINAS!\n",
      "*******************************************************************************************************************************\n",
      "\n",
      "https://twitter.com/MargaritaMart51/status/1336048502615498761\n",
      "2020-12-07 20:42:40+00:00\n",
      "#LIGAFEMENINAxWIN , Están explotando la velocidad de Gisela Robledo, es desequilibrante!\n",
      "*******************************************************************************************************************************\n",
      "\n",
      "https://twitter.com/ade_fonca/status/1336048370717253638\n",
      "2020-12-07 20:42:08+00:00\n",
      "#LIGAFEMENINAxWIN vamos EMBAJADORAS, con toda, 💙💙⚽️⚽️\n",
      "*******************************************************************************************************************************\n",
      "\n",
      "https://twitter.com/feramon2/status/1336048153217404932\n",
      "2020-12-07 20:41:16+00:00\n",
      "Así celebra G. Robledo futbolista delantera del @AmericadeCali femenino al anotar al femenino de @MillosFCoficial \n",
      "#LIGAFEMENINAxWIN https://t.co/Nc3HNpoYVz\n",
      "*******************************************************************************************************************************\n",
      "\n",
      "https://twitter.com/couraxe/status/1336048128441651202\n",
      "2020-12-07 20:41:11+00:00\n",
      "¿Quien dijo que lunes por la tarde no hay fútbol? 👹 Aquí apoyando a la Mechita Femenina desde 🇺🇸 #LIGAFEMENINAxWIN \n",
      "\n",
      "@AmericaCaliFem @AmericadeCali\n",
      "*******************************************************************************************************************************\n",
      "\n",
      "https://twitter.com/ade_fonca/status/1336048048829566976\n",
      "2020-12-07 20:40:52+00:00\n",
      "#LIGAFEMENINAxWIN era penal 😔\n",
      "*******************************************************************************************************************************\n",
      "\n",
      "https://twitter.com/DiegoPatino07/status/1336047988834234389\n",
      "2020-12-07 20:40:37+00:00\n",
      "#LIGAFEMENINAxWIN La Jueza se come un penal a favor de Millonarios\n",
      "*******************************************************************************************************************************\n",
      "\n",
      "https://twitter.com/julian_capera/status/1336047871255318535\n",
      "2020-12-07 20:40:09+00:00\n",
      "@WinSportsTV #LIGAFEMENINAxWIN viendo el clásico de las 29 estrellas pero quiero final capitalina https://t.co/M0GEqmSh9t\n",
      "*******************************************************************************************************************************\n",
      "\n",
      "https://twitter.com/darinconr/status/1336047854192893954\n",
      "2020-12-07 20:40:05+00:00\n",
      "@MFCFem: vamos chicas. Así toque jugar contra 14 hay que dejar el alma. @WinSportsTV #LIGAFEMENINAxWIN @dperezdeportes\n",
      "*******************************************************************************************************************************\n",
      "\n",
      "https://twitter.com/duvancho2021/status/1336047832265003009\n",
      "2020-12-07 20:40:00+00:00\n",
      "Vamos las diablas rojas por la final #LIGAFEMENINAxWIN\n",
      "*******************************************************************************************************************************\n",
      "\n",
      "https://twitter.com/juanmaoscar/status/1336047823956086785\n",
      "2020-12-07 20:39:58+00:00\n",
      "#LIGAFEMENINAxWIN Vamos que vamos Mis Chicas. Por el Bicampenato. Vamos Mechita, hay que ganar 💪💪🙏🙏\n",
      "*******************************************************************************************************************************\n",
      "\n",
      "https://twitter.com/iOscarParra/status/1336047819132694528\n",
      "2020-12-07 20:39:57+00:00\n",
      "#LIGAFEMENINAxWIN  Siguiendo a las embajadoras desde Strasbourg Francia! NARREME RELATOR! @EduardoLuisFut  !! Vamos Embajadoras!!! @MillosFCoficial @MFCFem\n",
      "*******************************************************************************************************************************\n",
      "\n",
      "https://twitter.com/posso_vivi/status/1336047802229665798\n",
      "2020-12-07 20:39:53+00:00\n",
      "#LALIGAxWIN #LigaBetplay #LIGAFEMENINAxWIN  \n",
      "\n",
      "Desde #Tuluá valle apoyando las chicas del #América\n",
      "*******************************************************************************************************************************\n",
      "\n",
      "https://twitter.com/Cristhianboli29/status/1336047767228178433\n",
      "2020-12-07 20:39:44+00:00\n",
      "#LIGAFEMENINAxWIN apoyando a mi Millos desde Cali, vamos embajadoras!!!!\n",
      "*******************************************************************************************************************************\n",
      "\n",
      "https://twitter.com/ElManuBaquero/status/1336047676954173441\n",
      "2020-12-07 20:39:23+00:00\n",
      "Increíble la desatención de la zaga de @MFCFem !!! 3 defensoras dormidas mientras les gana la espalda Gisella Robledo! @AmericadeCali 2-1 serie arriba para las escarlatas. #LIGAFEMENINAxWIN\n",
      "*******************************************************************************************************************************\n",
      "\n",
      "https://twitter.com/ade_fonca/status/1336047657081561096\n",
      "2020-12-07 20:39:18+00:00\n",
      "#LIGAFEMENINAxWIN vamos MILLONARIOS vamosss\n",
      "*******************************************************************************************************************************\n",
      "\n"
     ]
    }
   ],
   "source": [
    "maxTweets = 400 \n",
    "for i,tweet in enumerate(sntwitter.TwitterSearchScraper('#ligafemeninaxwin ').get_items()) :\n",
    "        if i > maxTweets :\n",
    "            break\n",
    "        print(tweet)\n",
    "        print(tweet.date)\n",
    "        print(tweet.content)\n",
    "        print(\"*\"*127)\n",
    "        print()"
   ]
  },
  {
   "cell_type": "code",
   "execution_count": 5,
   "metadata": {},
   "outputs": [],
   "source": [
    "bd_twitter = pd.DataFrame(columns=('links', 'fecha', 'tweet'))"
   ]
  },
  {
   "cell_type": "code",
   "execution_count": 6,
   "metadata": {},
   "outputs": [
    {
     "data": {
      "text/plain": [
       "'2020-12-07 20:39:18+00:00'"
      ]
     },
     "execution_count": 6,
     "metadata": {},
     "output_type": "execute_result"
    }
   ],
   "source": [
    "str(tweet.date)"
   ]
  },
  {
   "cell_type": "code",
   "execution_count": 7,
   "metadata": {},
   "outputs": [],
   "source": [
    "maxTweets = 400  \n",
    "for i,tweet in enumerate(sntwitter.TwitterSearchScraper('#ligafemeninaxwin ').get_items()) :\n",
    "        if i > maxTweets :\n",
    "            break\n",
    "        bd_twitter.loc[len(bd_twitter)]=[str(tweet),tweet.date,tweet.content]  "
   ]
  },
  {
   "cell_type": "code",
   "execution_count": 8,
   "metadata": {},
   "outputs": [
    {
     "data": {
      "text/html": [
       "<div>\n",
       "<style scoped>\n",
       "    .dataframe tbody tr th:only-of-type {\n",
       "        vertical-align: middle;\n",
       "    }\n",
       "\n",
       "    .dataframe tbody tr th {\n",
       "        vertical-align: top;\n",
       "    }\n",
       "\n",
       "    .dataframe thead th {\n",
       "        text-align: right;\n",
       "    }\n",
       "</style>\n",
       "<table border=\"1\" class=\"dataframe\">\n",
       "  <thead>\n",
       "    <tr style=\"text-align: right;\">\n",
       "      <th></th>\n",
       "      <th>links</th>\n",
       "      <th>fecha</th>\n",
       "      <th>tweet</th>\n",
       "    </tr>\n",
       "  </thead>\n",
       "  <tbody>\n",
       "    <tr>\n",
       "      <th>0</th>\n",
       "      <td>https://twitter.com/ElCapo711/status/136907694...</td>\n",
       "      <td>2021-03-09 00:05:53+00:00</td>\n",
       "      <td>@WinSportsTV #LigaFemeninaXWin @JFCadavid Juan...</td>\n",
       "    </tr>\n",
       "    <tr>\n",
       "      <th>1</th>\n",
       "      <td>https://twitter.com/FlorOlarte10/status/136831...</td>\n",
       "      <td>2021-03-06 21:39:15+00:00</td>\n",
       "      <td>#ligafemeninaxwin la mejor  jugadora femenina ...</td>\n",
       "    </tr>\n",
       "    <tr>\n",
       "      <th>2</th>\n",
       "      <td>https://twitter.com/LucenErnesto/status/133828...</td>\n",
       "      <td>2020-12-14 00:42:55+00:00</td>\n",
       "      <td>¡Felicitaciones campeonas! Todo el reconocimie...</td>\n",
       "    </tr>\n",
       "    <tr>\n",
       "      <th>3</th>\n",
       "      <td>https://twitter.com/conroca20c09/status/133828...</td>\n",
       "      <td>2020-12-14 00:40:37+00:00</td>\n",
       "      <td>@AmericaCaliFem Para Eso Le Robaron El Partido...</td>\n",
       "    </tr>\n",
       "    <tr>\n",
       "      <th>4</th>\n",
       "      <td>https://twitter.com/hatedlifedie/status/133828...</td>\n",
       "      <td>2020-12-14 00:39:44+00:00</td>\n",
       "      <td>#lopagarasumadre #lopagarasumadre #lopagarasum...</td>\n",
       "    </tr>\n",
       "    <tr>\n",
       "      <th>...</th>\n",
       "      <td>...</td>\n",
       "      <td>...</td>\n",
       "      <td>...</td>\n",
       "    </tr>\n",
       "    <tr>\n",
       "      <th>396</th>\n",
       "      <td>https://twitter.com/iOscarParra/status/1336047...</td>\n",
       "      <td>2020-12-07 20:39:57+00:00</td>\n",
       "      <td>#LIGAFEMENINAxWIN  Siguiendo a las embajadoras...</td>\n",
       "    </tr>\n",
       "    <tr>\n",
       "      <th>397</th>\n",
       "      <td>https://twitter.com/posso_vivi/status/13360478...</td>\n",
       "      <td>2020-12-07 20:39:53+00:00</td>\n",
       "      <td>#LALIGAxWIN #LigaBetplay #LIGAFEMENINAxWIN  \\n...</td>\n",
       "    </tr>\n",
       "    <tr>\n",
       "      <th>398</th>\n",
       "      <td>https://twitter.com/Cristhianboli29/status/133...</td>\n",
       "      <td>2020-12-07 20:39:44+00:00</td>\n",
       "      <td>#LIGAFEMENINAxWIN apoyando a mi Millos desde C...</td>\n",
       "    </tr>\n",
       "    <tr>\n",
       "      <th>399</th>\n",
       "      <td>https://twitter.com/ElManuBaquero/status/13360...</td>\n",
       "      <td>2020-12-07 20:39:23+00:00</td>\n",
       "      <td>Increíble la desatención de la zaga de @MFCFem...</td>\n",
       "    </tr>\n",
       "    <tr>\n",
       "      <th>400</th>\n",
       "      <td>https://twitter.com/ade_fonca/status/133604765...</td>\n",
       "      <td>2020-12-07 20:39:18+00:00</td>\n",
       "      <td>#LIGAFEMENINAxWIN vamos MILLONARIOS vamosss</td>\n",
       "    </tr>\n",
       "  </tbody>\n",
       "</table>\n",
       "<p>401 rows × 3 columns</p>\n",
       "</div>"
      ],
      "text/plain": [
       "                                                 links  \\\n",
       "0    https://twitter.com/ElCapo711/status/136907694...   \n",
       "1    https://twitter.com/FlorOlarte10/status/136831...   \n",
       "2    https://twitter.com/LucenErnesto/status/133828...   \n",
       "3    https://twitter.com/conroca20c09/status/133828...   \n",
       "4    https://twitter.com/hatedlifedie/status/133828...   \n",
       "..                                                 ...   \n",
       "396  https://twitter.com/iOscarParra/status/1336047...   \n",
       "397  https://twitter.com/posso_vivi/status/13360478...   \n",
       "398  https://twitter.com/Cristhianboli29/status/133...   \n",
       "399  https://twitter.com/ElManuBaquero/status/13360...   \n",
       "400  https://twitter.com/ade_fonca/status/133604765...   \n",
       "\n",
       "                        fecha  \\\n",
       "0   2021-03-09 00:05:53+00:00   \n",
       "1   2021-03-06 21:39:15+00:00   \n",
       "2   2020-12-14 00:42:55+00:00   \n",
       "3   2020-12-14 00:40:37+00:00   \n",
       "4   2020-12-14 00:39:44+00:00   \n",
       "..                        ...   \n",
       "396 2020-12-07 20:39:57+00:00   \n",
       "397 2020-12-07 20:39:53+00:00   \n",
       "398 2020-12-07 20:39:44+00:00   \n",
       "399 2020-12-07 20:39:23+00:00   \n",
       "400 2020-12-07 20:39:18+00:00   \n",
       "\n",
       "                                                 tweet  \n",
       "0    @WinSportsTV #LigaFemeninaXWin @JFCadavid Juan...  \n",
       "1    #ligafemeninaxwin la mejor  jugadora femenina ...  \n",
       "2    ¡Felicitaciones campeonas! Todo el reconocimie...  \n",
       "3    @AmericaCaliFem Para Eso Le Robaron El Partido...  \n",
       "4    #lopagarasumadre #lopagarasumadre #lopagarasum...  \n",
       "..                                                 ...  \n",
       "396  #LIGAFEMENINAxWIN  Siguiendo a las embajadoras...  \n",
       "397  #LALIGAxWIN #LigaBetplay #LIGAFEMENINAxWIN  \\n...  \n",
       "398  #LIGAFEMENINAxWIN apoyando a mi Millos desde C...  \n",
       "399  Increíble la desatención de la zaga de @MFCFem...  \n",
       "400        #LIGAFEMENINAxWIN vamos MILLONARIOS vamosss  \n",
       "\n",
       "[401 rows x 3 columns]"
      ]
     },
     "execution_count": 8,
     "metadata": {},
     "output_type": "execute_result"
    }
   ],
   "source": [
    "bd_twitter"
   ]
  },
  {
   "cell_type": "markdown",
   "metadata": {},
   "source": [
    "## 2: Limpieza de los datos / Pre-procesamiento"
   ]
  },
  {
   "cell_type": "code",
   "execution_count": 9,
   "metadata": {},
   "outputs": [],
   "source": [
    "import re \n",
    "\n",
    "from nltk.corpus import stopwords\n",
    "stopwords = stopwords.words('spanish')"
   ]
  },
  {
   "cell_type": "code",
   "execution_count": 10,
   "metadata": {},
   "outputs": [
    {
     "data": {
      "text/html": [
       "<div>\n",
       "<style scoped>\n",
       "    .dataframe tbody tr th:only-of-type {\n",
       "        vertical-align: middle;\n",
       "    }\n",
       "\n",
       "    .dataframe tbody tr th {\n",
       "        vertical-align: top;\n",
       "    }\n",
       "\n",
       "    .dataframe thead th {\n",
       "        text-align: right;\n",
       "    }\n",
       "</style>\n",
       "<table border=\"1\" class=\"dataframe\">\n",
       "  <thead>\n",
       "    <tr style=\"text-align: right;\">\n",
       "      <th></th>\n",
       "      <th>links</th>\n",
       "      <th>fecha</th>\n",
       "      <th>tweet</th>\n",
       "      <th>PP</th>\n",
       "    </tr>\n",
       "  </thead>\n",
       "  <tbody>\n",
       "    <tr>\n",
       "      <th>0</th>\n",
       "      <td>https://twitter.com/ElCapo711/status/136907694...</td>\n",
       "      <td>2021-03-09 00:05:53+00:00</td>\n",
       "      <td>@WinSportsTV #LigaFemeninaXWin @JFCadavid Juan...</td>\n",
       "      <td>[winsportstv, ligafemeninaxwin, jfcadavid, jua...</td>\n",
       "    </tr>\n",
       "    <tr>\n",
       "      <th>1</th>\n",
       "      <td>https://twitter.com/FlorOlarte10/status/136831...</td>\n",
       "      <td>2021-03-06 21:39:15+00:00</td>\n",
       "      <td>#ligafemeninaxwin la mejor  jugadora femenina ...</td>\n",
       "      <td>[ligafemeninaxwin, mejor, jugadora, femenina, ...</td>\n",
       "    </tr>\n",
       "    <tr>\n",
       "      <th>2</th>\n",
       "      <td>https://twitter.com/LucenErnesto/status/133828...</td>\n",
       "      <td>2020-12-14 00:42:55+00:00</td>\n",
       "      <td>¡Felicitaciones campeonas! Todo el reconocimie...</td>\n",
       "      <td>[felicitaciones, campeonas, reconocimiento, sa...</td>\n",
       "    </tr>\n",
       "    <tr>\n",
       "      <th>3</th>\n",
       "      <td>https://twitter.com/conroca20c09/status/133828...</td>\n",
       "      <td>2020-12-14 00:40:37+00:00</td>\n",
       "      <td>@AmericaCaliFem Para Eso Le Robaron El Partido...</td>\n",
       "      <td>[americacalifem, robaron, partido, mfcfem, cal...</td>\n",
       "    </tr>\n",
       "    <tr>\n",
       "      <th>4</th>\n",
       "      <td>https://twitter.com/hatedlifedie/status/133828...</td>\n",
       "      <td>2020-12-14 00:39:44+00:00</td>\n",
       "      <td>#lopagarasumadre #lopagarasumadre #lopagarasum...</td>\n",
       "      <td>[lopagarasumadre, lopagarasumadre, lopagarasum...</td>\n",
       "    </tr>\n",
       "  </tbody>\n",
       "</table>\n",
       "</div>"
      ],
      "text/plain": [
       "                                               links  \\\n",
       "0  https://twitter.com/ElCapo711/status/136907694...   \n",
       "1  https://twitter.com/FlorOlarte10/status/136831...   \n",
       "2  https://twitter.com/LucenErnesto/status/133828...   \n",
       "3  https://twitter.com/conroca20c09/status/133828...   \n",
       "4  https://twitter.com/hatedlifedie/status/133828...   \n",
       "\n",
       "                      fecha  \\\n",
       "0 2021-03-09 00:05:53+00:00   \n",
       "1 2021-03-06 21:39:15+00:00   \n",
       "2 2020-12-14 00:42:55+00:00   \n",
       "3 2020-12-14 00:40:37+00:00   \n",
       "4 2020-12-14 00:39:44+00:00   \n",
       "\n",
       "                                               tweet  \\\n",
       "0  @WinSportsTV #LigaFemeninaXWin @JFCadavid Juan...   \n",
       "1  #ligafemeninaxwin la mejor  jugadora femenina ...   \n",
       "2  ¡Felicitaciones campeonas! Todo el reconocimie...   \n",
       "3  @AmericaCaliFem Para Eso Le Robaron El Partido...   \n",
       "4  #lopagarasumadre #lopagarasumadre #lopagarasum...   \n",
       "\n",
       "                                                  PP  \n",
       "0  [winsportstv, ligafemeninaxwin, jfcadavid, jua...  \n",
       "1  [ligafemeninaxwin, mejor, jugadora, femenina, ...  \n",
       "2  [felicitaciones, campeonas, reconocimiento, sa...  \n",
       "3  [americacalifem, robaron, partido, mfcfem, cal...  \n",
       "4  [lopagarasumadre, lopagarasumadre, lopagarasum...  "
      ]
     },
     "execution_count": 10,
     "metadata": {},
     "output_type": "execute_result"
    }
   ],
   "source": [
    "def pre_procesado(texto):\n",
    "    texto = texto.lower()\n",
    "    texto = re.sub(r\"[\\W\\d]+\", \" \", texto)\n",
    "    texto = [palabra for palabra in texto.split() if palabra not in stopwords]\n",
    "    return texto \n",
    "\n",
    "bd_twitter['PP'] = bd_twitter['tweet'].apply(lambda texto: pre_procesado(texto))\n",
    "\n",
    "bd_twitter.head()"
   ]
  },
  {
   "cell_type": "markdown",
   "metadata": {},
   "source": [
    "## 3:Modelo LDA"
   ]
  },
  {
   "cell_type": "code",
   "execution_count": 102,
   "metadata": {},
   "outputs": [],
   "source": [
    "dictionary = Dictionary(bd_twitter['PP'].values)"
   ]
  },
  {
   "cell_type": "code",
   "execution_count": 103,
   "metadata": {},
   "outputs": [],
   "source": [
    "dictionary.filter_extremes(no_below=5, no_above=0.5) "
   ]
  },
  {
   "cell_type": "code",
   "execution_count": 104,
   "metadata": {},
   "outputs": [],
   "source": [
    "# Corpus\n",
    "corpus = [dictionary.doc2bow(text) for text in bd_twitter['PP'].values]"
   ]
  },
  {
   "cell_type": "code",
   "execution_count": 105,
   "metadata": {},
   "outputs": [],
   "source": [
    "model = LdaModel(corpus = corpus, id2word = dictionary, num_topics = 5, passes=10)"
   ]
  },
  {
   "cell_type": "code",
   "execution_count": 106,
   "metadata": {},
   "outputs": [
    {
     "data": {
      "text/html": [
       "\n",
       "<link rel=\"stylesheet\" type=\"text/css\" href=\"https://cdn.jsdelivr.net/gh/bmabey/pyLDAvis@3.3.1/pyLDAvis/js/ldavis.v1.0.0.css\">\n",
       "\n",
       "\n",
       "<div id=\"ldavis_el1048022797880346329895664474\"></div>\n",
       "<script type=\"text/javascript\">\n",
       "\n",
       "var ldavis_el1048022797880346329895664474_data = {\"mdsDat\": {\"x\": [-0.06993829234872707, 0.3302919043297372, -0.048595695820006134, -0.1008997035208699, -0.11085821264013401], \"y\": [0.139402430675395, 0.02676333622343898, -0.293439493592895, 0.0762459660662246, 0.051027760627836476], \"topics\": [1, 2, 3, 4, 5], \"cluster\": [1, 1, 1, 1, 1], \"Freq\": [22.964380408026937, 22.84857057256437, 20.585498117468752, 20.41767929515052, 13.18387160678942]}, \"tinfo\": {\"Term\": [\"t\", \"https\", \"co\", \"vamos\", \"santa\", \"fe\", \"ida\", \"ligafemenina\", \"ligafemeninabetplaydimayor\", \"pm\", \"leonas\", \"cali\", \"vs\", \"final\", \"win\", \"saludos\", \"winsportstv\", \"am\\u00e9rica\", \"americacalifem\", \"santafe\", \"mechita\", \"bicampenato\", \"sports\", \"femenino\", \"bien\", \"america\", \"eduardoluisfut\", \"millonarios\", \"diablas\", \"apoyando\", \"mechita\", \"puede\", \"mujeres\", \"hombres\", \"eduardo\", \"viendo\", \"diablas\", \"favor\", \"america\", \"penal\", \"siempre\", \"luis\", \"roja\", \"q\", \"ganar\", \"femenina\", \"eduardoluisfut\", \"alguien\", \"si\", \"abrazo\", \"va\", \"saludos\", \"queremos\", \"rojas\", \"sheylagarcia\", \"ver\", \"dperezdeportes\", \"bicampeonato\", \"chicas\", \"partido\", \"winsportstv\", \"win\", \"final\", \"vamos\", \"millos\", \"liga\", \"am\\u00e9rica\", \"americacalifem\", \"femenino\", \"ida\", \"ligafemenina\", \"santa\", \"fe\", \"ligafemeninabetplaydimayor\", \"ingresa\", \"ivonne\", \"cuadro\", \"cambio\", \"tiro\", \"remate\", \"cali\", \"bal\\u00f3n\", \"chac\\u00f3n\", \"mejor\", \"giraldo\", \"natalia\", \"golazo\", \"fany\", \"jugadora\", \"catalina\", \"final\", \"gauto\", \"am\\u00e9rica\", \"juego\", \"liga\", \"primer\", \"catausme\", \"queremos\", \"usme\", \"partido\", \"femenina\", \"equipo\", \"https\", \"co\", \"t\", \"diadelasvelitas\", \"dt\", \"equipo\", \"campeonato\", \"usme\", \"dos\", \"m\", \"escarlatas\", \"gran\", \"equipos\", \"solo\", \"a\\u00f1o\", \"gauto\", \"ni\\u00f1as\", \"catalina\", \"tiempo\", \"fany\", \"jugadora\", \"mfcfem\", \"felicitaciones\", \"bogot\\u00e1\", \"ver\", \"jugadoras\", \"americadecali\", \"campeonas\", \"femenino\", \"gracias\", \"embajadoras\", \"americacalifem\", \"santafe\", \"final\", \"f\\u00fatbol\", \"vamos\", \"bicampenato\", \"ser\", \"diablitas\", \"daniel\", \"libertadores\", \"gisela\", \"segunda\", \"jfcadavid\", \"estrella\", \"toda\", \"leonas\", \"falta\", \"ustedes\", \"embajadoras\", \"robledo\", \"gracias\", \"santafe\", \"vamos\", \"todas\", \"unas\", \"hincha\", \"felicitaciones\", \"guerreras\", \"bogot\\u00e1\", \"carolina\", \"rojo\", \"palmira\", \"millos\", \"cancha\", \"millonarios\", \"campeonas\", \"am\\u00e9rica\", \"femenino\", \"comentarista\", \"bicampeonato\", \"winsportstv\", \"solo\", \"sheylagarcia\", \"pm\", \"sports\", \"bien\", \"excelente\", \"vs\", \"gol\", \"colombia\", \"hinchas\", \"catausme\", \"huila\", \"u\", \"apoyando\", \"americacalifem\", \"masculino\", \"win\", \"f\\u00fatbol\", \"a\\u00f1o\", \"hoy\", \"millosfcoficial\", \"ni\\u00f1as\", \"dperezdeportes\", \"americadecali\", \"jugadoras\", \"saludos\", \"grande\", \"fuerza\", \"millonarios\", \"m\", \"ustedes\", \"winsportstv\", \"femenino\", \"leonas\", \"eduardoluisfut\", \"am\\u00e9rica\", \"santafe\", \"campeonas\", \"mfcfem\"], \"Freq\": [75.0, 73.0, 73.0, 138.0, 59.0, 60.0, 34.0, 34.0, 38.0, 23.0, 46.0, 38.0, 21.0, 82.0, 25.0, 26.0, 37.0, 89.0, 26.0, 36.0, 14.0, 13.0, 9.0, 45.0, 8.0, 15.0, 16.0, 22.0, 14.0, 17.0, 14.066518849383584, 9.344398606557903, 8.468775137211544, 7.582960166109463, 6.597822728707082, 6.551438850387828, 13.0671921014204, 5.703589750442795, 13.828619667238026, 7.274844587458178, 5.601632313422, 4.766739651969199, 5.440246561766375, 8.2790274614572, 7.043636850053757, 11.106021165529027, 12.397492564113174, 4.087723175889008, 10.915750918085296, 3.8051147816930344, 3.7567827669462446, 17.01726998457891, 3.5058154567634414, 4.009785985744481, 10.713086064406056, 5.446051710481644, 7.682798435035816, 9.346911282867495, 4.850196336356298, 9.19588445446739, 18.481201773704054, 12.456735406412651, 33.42619431936851, 50.98579443793611, 6.261092965530163, 5.749796730573586, 11.740679518310396, 6.123639462927465, 6.221678063548743, 34.030037038571095, 34.02430426886995, 57.40883222575751, 57.73401963589798, 36.5148837953751, 6.974547424565012, 6.955470968871668, 5.039172365571074, 5.038733697338146, 5.037568554999919, 5.034614167105688, 32.930085199909875, 4.926726027542005, 6.897476065110836, 7.6467101820732415, 5.025293926390118, 5.7844333247103705, 3.046883134071838, 5.204687232896611, 3.6150402128251105, 4.479515662442966, 37.86867233155551, 5.186494399600813, 37.316534051723586, 3.0704371936064008, 5.3758163352114305, 1.8501950721574116, 1.9024643901390281, 1.478001689337768, 3.9616756708864895, 4.17142553750377, 3.0840260309345022, 2.8816825633307923, 71.81615965980053, 71.81359012528473, 73.620943746754, 4.8390657637662855, 4.474665964295809, 10.956898889970555, 3.9411186266591174, 10.504112281060262, 7.540912294504183, 4.851693779978403, 4.584830711423282, 5.364903284284524, 3.012364380711955, 4.657221035835969, 4.737112443140069, 5.642156139442841, 3.74296067164785, 4.461614411774178, 3.4074394142975915, 4.7277756317170665, 3.2334216130956652, 6.355099623079108, 2.8150361038007947, 2.075254495565978, 3.223473161844597, 1.869849296282417, 2.7623224187378765, 4.740353486990903, 13.31242176258527, 2.059913136664212, 3.037158447075574, 6.255483640367286, 7.0218897846892645, 8.547348641590776, 3.2386326873450964, 4.170278873193609, 12.674813769814174, 7.345828411570063, 7.309332903356023, 6.4907478020657265, 5.62456246322058, 5.618583394801433, 5.572553555434247, 4.708601439969922, 4.690284273781535, 9.193719249044543, 35.343752344259826, 5.49644742108869, 6.084221704027612, 7.19894602778567, 5.389933980394088, 4.688332710985217, 21.32157624957009, 81.82350718117802, 3.2524894418246606, 3.72880216560977, 3.706008120786245, 3.998964418158778, 6.315995464548224, 2.887998578055018, 2.881530615872032, 3.6757512741511427, 3.200063058485373, 7.258020924964675, 2.740454773368131, 10.78466341279097, 6.652520080367833, 28.345059769988445, 14.483739954862333, 3.816766531543563, 5.826597359747958, 8.362357510072101, 4.025390359863937, 3.95133087885391, 22.374937965596096, 8.86476395924764, 7.911877721885241, 5.020414411809961, 17.477284182427834, 6.918364375188768, 6.603022916450715, 4.9299884190585255, 4.294563392299879, 3.6201159669204475, 3.105760845181454, 8.499690458449027, 12.322666316211793, 3.8855046516754794, 11.560599198766486, 6.709674778103238, 4.03327275631185, 4.6734937799585206, 2.1216761454569073, 2.768488426386782, 4.7157867417121055, 2.8350795167128604, 1.8566720575785103, 7.746531894860223, 2.4773077864572497, 3.0004512512405146, 6.4050999593107605, 2.140988504684566, 2.595104796668865, 9.699290216366139, 11.133281886584157, 7.665012901515133, 3.788750492330112, 9.764122187263215, 4.874951556758165, 3.1194578827502166, 3.063486018679714], \"Total\": [75.0, 73.0, 73.0, 138.0, 59.0, 60.0, 34.0, 34.0, 38.0, 23.0, 46.0, 38.0, 21.0, 82.0, 25.0, 26.0, 37.0, 89.0, 26.0, 36.0, 14.0, 13.0, 9.0, 45.0, 8.0, 15.0, 16.0, 22.0, 14.0, 17.0, 14.84099774369303, 10.208040231653458, 9.283969577326534, 8.355476075278357, 7.431725403784435, 7.43239107489219, 14.87089849522442, 6.502549975547539, 15.786964788072805, 8.351257797166019, 6.5067947418626275, 5.577700136620182, 6.505701124174498, 10.226529258969018, 9.303321855391255, 14.977121708139581, 16.844576098469112, 5.610641120157007, 15.74902593562732, 5.6198473192740055, 5.5903583894358935, 26.262111240214555, 5.635797703915846, 6.517262202600953, 17.642833788500866, 9.329800210297908, 13.182833706677712, 16.58988993208616, 9.358498811635078, 17.897383364022847, 37.32595707249876, 25.55815795057338, 82.46789046105701, 138.32799931453985, 14.704472465515776, 13.251303191564013, 89.61237050506912, 26.538793639900966, 45.80543249133833, 34.93694272790729, 34.937047439313915, 59.19096644269501, 60.120425332218744, 38.75931470062157, 7.7430970557284535, 7.7410694175090295, 5.8000623158797655, 5.80008436912149, 5.799801087750174, 5.7996040791830525, 38.58882437261026, 5.798258482226153, 8.644891488381239, 11.48416796746983, 8.581713488127765, 10.507819187658377, 5.672946459107536, 10.509231512174518, 7.632959773966669, 9.544758450604782, 82.46789046105701, 11.450410519408779, 89.61237050506912, 7.562389871498087, 13.251303191564013, 6.550125045177425, 6.755432966107677, 5.635797703915846, 15.176154765492175, 17.897383364022847, 14.977121708139581, 15.149235024152485, 73.37754928772797, 73.37763631952498, 75.26108159134816, 5.647402922266685, 5.658957667562604, 15.149235024152485, 5.632789960439271, 15.176154765492175, 11.248352506447597, 7.582355541944928, 7.547046046779913, 9.507654442811, 5.704239895109429, 9.270205293972388, 9.513416097626035, 11.450410519408779, 7.609007482060088, 9.544758450604782, 7.417709879849166, 10.509231512174518, 7.632959773966669, 15.006752337459275, 7.389218663622759, 5.54828158614526, 9.329800210297908, 5.650155921969262, 8.509310954848903, 14.900457187806856, 45.80543249133833, 7.36536784811568, 11.033112100806893, 26.538793639900966, 36.01566899036409, 82.46789046105701, 15.171944440039557, 138.32799931453985, 13.655717757069052, 8.20965181737332, 8.207093124269672, 7.299027471076812, 6.389008450423153, 6.389446250333872, 6.390447981008284, 5.481889381206132, 5.481857911105886, 10.992020857617321, 46.957709813921845, 8.302704282537151, 9.261185560103675, 11.033112100806893, 8.280070289885426, 7.36536784811568, 36.01566899036409, 138.32799931453985, 5.561520540813318, 6.428261549957232, 6.473402561923929, 7.389218663622759, 11.938455086814324, 5.54828158614526, 5.6058158950363115, 7.359264708440563, 6.4396729714797205, 14.704472465515776, 5.5826812718852645, 22.301452605246865, 14.900457187806856, 89.61237050506912, 45.80543249133833, 8.308259576899214, 16.58988993208616, 37.32595707249876, 9.270205293972388, 17.642833788500866, 23.198821140836706, 9.651326305675875, 8.6834438193299, 5.781297140532351, 21.136266610176055, 9.657218436991009, 9.572903096651315, 7.659532274116295, 6.755432966107677, 5.696027565448068, 5.699376360941944, 17.037499471916608, 26.538793639900966, 8.524015228465263, 25.55815795057338, 15.171944440039557, 9.513416097626035, 12.262757031949413, 5.652430712287251, 7.609007482060088, 13.182833706677712, 8.509310954848903, 5.650155921969262, 26.262111240214555, 8.455211063846292, 10.419249628132604, 22.301452605246865, 7.582355541944928, 9.261185560103675, 37.32595707249876, 45.80543249133833, 46.957709813921845, 16.844576098469112, 89.61237050506912, 36.01566899036409, 14.900457187806856, 15.006752337459275], \"Category\": [\"Default\", \"Default\", \"Default\", \"Default\", \"Default\", \"Default\", \"Default\", \"Default\", \"Default\", \"Default\", \"Default\", \"Default\", \"Default\", \"Default\", \"Default\", \"Default\", \"Default\", \"Default\", \"Default\", \"Default\", \"Default\", \"Default\", \"Default\", \"Default\", \"Default\", \"Default\", \"Default\", \"Default\", \"Default\", \"Default\", \"Topic1\", \"Topic1\", \"Topic1\", \"Topic1\", \"Topic1\", \"Topic1\", \"Topic1\", \"Topic1\", \"Topic1\", \"Topic1\", \"Topic1\", \"Topic1\", \"Topic1\", \"Topic1\", \"Topic1\", \"Topic1\", \"Topic1\", \"Topic1\", \"Topic1\", \"Topic1\", \"Topic1\", \"Topic1\", \"Topic1\", \"Topic1\", \"Topic1\", \"Topic1\", \"Topic1\", \"Topic1\", \"Topic1\", \"Topic1\", \"Topic1\", \"Topic1\", \"Topic1\", \"Topic1\", \"Topic1\", \"Topic1\", \"Topic1\", \"Topic1\", \"Topic1\", \"Topic2\", \"Topic2\", \"Topic2\", \"Topic2\", \"Topic2\", \"Topic2\", \"Topic2\", \"Topic2\", \"Topic2\", \"Topic2\", \"Topic2\", \"Topic2\", \"Topic2\", \"Topic2\", \"Topic2\", \"Topic2\", \"Topic2\", \"Topic2\", \"Topic2\", \"Topic2\", \"Topic2\", \"Topic2\", \"Topic2\", \"Topic2\", \"Topic2\", \"Topic2\", \"Topic2\", \"Topic2\", \"Topic2\", \"Topic2\", \"Topic2\", \"Topic2\", \"Topic2\", \"Topic3\", \"Topic3\", \"Topic3\", \"Topic3\", \"Topic3\", \"Topic3\", \"Topic3\", \"Topic3\", \"Topic3\", \"Topic3\", \"Topic3\", \"Topic3\", \"Topic3\", \"Topic3\", \"Topic3\", \"Topic3\", \"Topic3\", \"Topic3\", \"Topic3\", \"Topic3\", \"Topic3\", \"Topic3\", \"Topic3\", \"Topic3\", \"Topic3\", \"Topic3\", \"Topic3\", \"Topic3\", \"Topic3\", \"Topic3\", \"Topic3\", \"Topic3\", \"Topic3\", \"Topic3\", \"Topic3\", \"Topic3\", \"Topic4\", \"Topic4\", \"Topic4\", \"Topic4\", \"Topic4\", \"Topic4\", \"Topic4\", \"Topic4\", \"Topic4\", \"Topic4\", \"Topic4\", \"Topic4\", \"Topic4\", \"Topic4\", \"Topic4\", \"Topic4\", \"Topic4\", \"Topic4\", \"Topic4\", \"Topic4\", \"Topic4\", \"Topic4\", \"Topic4\", \"Topic4\", \"Topic4\", \"Topic4\", \"Topic4\", \"Topic4\", \"Topic4\", \"Topic4\", \"Topic4\", \"Topic4\", \"Topic4\", \"Topic4\", \"Topic4\", \"Topic4\", \"Topic4\", \"Topic4\", \"Topic5\", \"Topic5\", \"Topic5\", \"Topic5\", \"Topic5\", \"Topic5\", \"Topic5\", \"Topic5\", \"Topic5\", \"Topic5\", \"Topic5\", \"Topic5\", \"Topic5\", \"Topic5\", \"Topic5\", \"Topic5\", \"Topic5\", \"Topic5\", \"Topic5\", \"Topic5\", \"Topic5\", \"Topic5\", \"Topic5\", \"Topic5\", \"Topic5\", \"Topic5\", \"Topic5\", \"Topic5\", \"Topic5\", \"Topic5\", \"Topic5\", \"Topic5\", \"Topic5\", \"Topic5\", \"Topic5\", \"Topic5\", \"Topic5\"], \"logprob\": [30.0, 29.0, 28.0, 27.0, 26.0, 25.0, 24.0, 23.0, 22.0, 21.0, 20.0, 19.0, 18.0, 17.0, 16.0, 15.0, 14.0, 13.0, 12.0, 11.0, 10.0, 9.0, 8.0, 7.0, 6.0, 5.0, 4.0, 3.0, 2.0, 1.0, -3.5394, -3.9484, -4.0468, -4.1573, -4.2965, -4.3035, -3.6131, -4.4421, -3.5565, -4.1988, -4.4602, -4.6216, -4.4894, -4.0695, -4.2311, -3.7757, -3.6657, -4.7752, -3.793, -4.8469, -4.8597, -3.349, -4.9288, -4.7945, -3.8118, -4.4883, -4.1442, -3.9482, -4.6042, -3.9645, -3.2665, -3.661, -2.6739, -2.2517, -4.3489, -4.4341, -3.7202, -4.3711, -4.3552, -2.6509, -2.6511, -2.128, -2.1223, -2.5804, -4.2359, -4.2386, -4.5609, -4.561, -4.5612, -4.5618, -2.6838, -4.5835, -4.247, -4.1439, -4.5637, -4.423, -5.064, -4.5286, -4.8931, -4.6786, -2.544, -4.5321, -2.5587, -5.0563, -4.4963, -5.5629, -5.535, -5.7875, -4.8015, -4.7499, -5.0519, -5.1198, -1.7998, -1.7998, -1.7749, -4.4971, -4.5754, -3.6799, -4.7024, -3.7221, -4.0535, -4.4945, -4.5511, -4.394, -4.9711, -4.5354, -4.5184, -4.3436, -4.754, -4.5783, -4.8479, -4.5204, -4.9003, -4.2246, -5.0389, -5.3438, -4.9034, -5.448, -5.0578, -4.5177, -3.4852, -5.3512, -4.9629, -4.2404, -4.1248, -3.9282, -4.8987, -4.6459, -3.5261, -4.0715, -4.0765, -4.1953, -4.3385, -4.3396, -4.3478, -4.5163, -4.5202, -3.8472, -2.5006, -4.3616, -4.26, -4.0917, -4.3811, -4.5206, -3.006, -1.6611, -4.8863, -4.7496, -4.7557, -4.6796, -4.2226, -5.0051, -5.0074, -4.7639, -4.9025, -4.0836, -5.0576, -3.6875, -4.1707, -2.7212, -3.3926, -4.7263, -4.3032, -3.9419, -4.6731, -4.6916, -2.5203, -3.4462, -3.5599, -4.0148, -2.7674, -3.6941, -3.7407, -4.0329, -4.1709, -4.3418, -4.495, -3.4882, -3.1168, -4.271, -3.1807, -3.7247, -4.2337, -4.0864, -4.8761, -4.61, -4.0774, -4.5862, -5.0095, -3.581, -4.7211, -4.5295, -3.7712, -4.867, -4.6746, -3.3562, -3.2183, -3.5916, -4.2962, -3.3496, -4.0442, -4.4906, -4.5087], \"loglift\": [30.0, 29.0, 28.0, 27.0, 26.0, 25.0, 24.0, 23.0, 22.0, 21.0, 20.0, 19.0, 18.0, 17.0, 16.0, 15.0, 14.0, 13.0, 12.0, 11.0, 10.0, 9.0, 8.0, 7.0, 6.0, 5.0, 4.0, 3.0, 2.0, 1.0, 1.4176, 1.3828, 1.3793, 1.3742, 1.3522, 1.3451, 1.3419, 1.3401, 1.3388, 1.3332, 1.3214, 1.3141, 1.2924, 1.26, 1.193, 1.1722, 1.1647, 1.1545, 1.1047, 1.0813, 1.0737, 1.0373, 0.9965, 0.9855, 0.9724, 0.9329, 0.9313, 0.8975, 0.814, 0.8053, 0.7683, 0.7525, 0.5682, 0.4731, 0.6174, 0.6363, -0.5612, 0.0048, -0.5251, 1.45, 1.4498, 1.4457, 1.4358, 1.4166, 1.3717, 1.3693, 1.3357, 1.3356, 1.3354, 1.3348, 1.3177, 1.3134, 1.2505, 1.0696, 0.9411, 0.8793, 0.8547, 0.7736, 0.7289, 0.7198, 0.698, 0.6843, 0.6002, 0.5749, 0.5741, 0.2121, 0.2091, 0.1378, 0.1332, 0.0199, -0.104, -0.1833, 1.5591, 1.559, 1.5585, 1.4261, 1.3458, 1.2566, 1.2234, 1.2126, 1.1807, 1.1341, 1.0822, 1.0084, 0.9421, 0.8922, 0.8833, 0.8728, 0.8711, 0.8201, 0.8027, 0.7818, 0.7216, 0.7213, 0.6155, 0.5972, 0.5178, 0.4748, 0.4555, 0.4353, 0.3449, 0.3065, 0.2906, 0.1354, -0.0543, -0.6862, 0.0363, -1.9211, 1.5142, 1.4776, 1.4729, 1.4714, 1.4613, 1.4602, 1.4518, 1.4367, 1.4328, 1.4101, 1.3046, 1.1763, 1.1686, 1.1618, 1.1595, 1.1371, 1.0645, 1.0637, 1.0523, 1.0442, 1.031, 0.9748, 0.9521, 0.9358, 0.9233, 0.8946, 0.8895, 0.8827, 0.8772, 0.8622, 0.7824, 0.4377, 0.4374, 0.8109, 0.5424, 0.0928, 0.7546, 0.0925, 1.99, 1.9412, 1.9331, 1.8851, 1.8361, 1.6926, 1.6548, 1.5856, 1.5732, 1.5729, 1.4191, 1.3308, 1.259, 1.2405, 1.2328, 1.2103, 1.1681, 1.0615, 1.0463, 1.0151, 0.9982, 0.9271, 0.9133, 0.8053, 0.7986, 0.7813, 0.7786, 0.7616, 0.754, 0.6785, 0.6117, 0.2136, 0.5342, -0.1906, 0.0263, 0.4624, 0.4372]}, \"token.table\": {\"Topic\": [1, 5, 1, 2, 1, 3, 1, 3, 4, 5, 1, 3, 5, 1, 2, 3, 4, 5, 1, 3, 4, 5, 3, 5, 2, 4, 1, 3, 4, 5, 3, 4, 1, 2, 2, 3, 4, 5, 1, 3, 3, 4, 5, 2, 4, 5, 2, 3, 2, 5, 2, 4, 1, 3, 4, 5, 3, 4, 1, 3, 5, 1, 2, 4, 2, 4, 1, 3, 5, 4, 3, 3, 4, 5, 1, 5, 2, 3, 1, 1, 5, 3, 4, 2, 3, 5, 2, 3, 5, 1, 3, 5, 4, 5, 3, 4, 5, 2, 3, 1, 2, 4, 5, 3, 4, 1, 2, 1, 2, 3, 4, 5, 1, 2, 3, 4, 1, 2, 5, 1, 3, 5, 1, 3, 2, 3, 2, 4, 5, 4, 2, 5, 2, 4, 3, 4, 2, 3, 5, 2, 4, 5, 1, 4, 1, 2, 4, 3, 5, 1, 1, 2, 3, 4, 5, 3, 4, 4, 5, 2, 2, 2, 4, 1, 2, 2, 3, 3, 4, 5, 2, 3, 4, 5, 4, 1, 2, 3, 2, 2, 4, 5, 1, 3, 5, 1, 3, 5, 1, 2, 3, 4, 1, 3, 4, 5, 1, 4, 5, 1, 3, 4, 1, 5, 1, 2, 4, 5, 2, 3, 5, 1, 4, 1, 2, 4, 5, 1, 5, 2, 3, 4, 1, 1, 3, 1, 2, 2, 3, 4, 1, 1, 4, 5, 1, 4, 1, 4, 5, 2, 4, 5, 1, 3, 4, 5, 4, 4, 1, 4, 5, 1, 2, 3, 4, 1, 3, 4, 5, 3, 4, 3, 4, 2, 2, 4, 3, 4, 5, 1, 5, 1, 4, 2, 3, 4, 5, 1, 3, 1, 3, 4, 5, 1, 3, 1, 1, 5, 1, 2, 5, 1, 4, 5], \"Freq\": [0.7117631089872271, 0.17794077724680676, 0.7129310027742543, 0.17823275069356356, 0.886807577513388, 0.06334339839381342, 0.2260841273123668, 0.2260841273123668, 0.07536137577078893, 0.4521682546247336, 0.23503665697635953, 0.3525549854645393, 0.3525549854645393, 0.13391008331066517, 0.4128894235412176, 0.022318347218444196, 0.31245686105821874, 0.11159173609222096, 0.2347762361837964, 0.1173881180918982, 0.1173881180918982, 0.4695524723675928, 0.525573563553863, 0.42045885084309037, 0.8623278895425038, 0.9519821829409434, 0.5424990784654508, 0.06027767538505008, 0.36166605231030047, 0.9212934598818373, 0.3604719711764892, 0.5407079567647338, 0.12957119272980291, 0.8551698720166993, 0.8620564256994292, 0.33556017355571705, 0.46978424297800386, 0.20133610413343023, 0.17753191704702145, 0.7101276681880858, 0.17912539715209305, 0.5373761914562791, 0.17912539715209305, 0.17838616514064498, 0.5351584954219349, 0.17838616514064498, 0.41907817999800184, 0.41907817999800184, 0.2960580039849545, 0.592116007969909, 0.8097267628411556, 0.11567525183445079, 0.5342737228094407, 0.10685474456188813, 0.10685474456188813, 0.21370948912377627, 0.9812253925225115, 0.01362813045170155, 0.10446151913412857, 0.10446151913412857, 0.7312306339389, 0.36108645525970096, 0.12036215175323364, 0.48144860701293457, 0.8620597034467533, 0.8220273212802186, 0.8741906216476945, 0.06724543243443803, 0.06724543243443803, 0.8529207472131507, 0.8853627178407808, 0.7112152642277498, 0.17780381605693746, 0.08890190802846873, 0.6068498001266323, 0.37928112507914513, 0.17671098791426632, 0.7068439516570653, 0.9419077831421773, 0.712395487416902, 0.23746516247230065, 0.2719087753835655, 0.6344538092283195, 0.19802980118910876, 0.7261092710267322, 0.06600993372970292, 0.1753081950247845, 0.5259245850743535, 0.1753081950247845, 0.13250217287685273, 0.6625108643842637, 0.13250217287685273, 0.912099525576963, 0.8648578127813703, 0.12044268541555458, 0.6022134270777729, 0.12044268541555458, 0.47577218126822146, 0.47577218126822146, 0.9227149383799665, 0.9647303670840399, 0.016633282191104135, 0.016633282191104135, 0.4059969174777636, 0.5413292233036848, 0.7344535361572081, 0.20030550986105675, 0.13098882978857546, 0.02183147163142924, 0.28380913120858015, 0.3056406028400094, 0.24014618794572165, 0.40015574322933917, 0.4607854012943906, 0.10913338451709251, 0.02425186322602056, 0.4798810066417545, 0.19195240265670177, 0.28792860398505266, 0.32955564922876585, 0.1977333895372595, 0.46137790892027214, 0.7524194162909149, 0.21497697608311855, 0.4366655668392722, 0.5239986802071267, 0.5826342264767019, 0.2330536905906808, 0.1165268452953404, 0.9390485129578291, 0.207098970894062, 0.724846398129217, 0.5288257207475845, 0.35255048049838966, 0.2715410881361031, 0.6788527203402578, 0.21035682481206025, 0.5258920620301506, 0.21035682481206025, 0.23654051742739063, 0.47308103485478126, 0.23654051742739063, 0.4188146593207319, 0.5025775911848783, 0.15447826555418095, 0.15447826555418095, 0.6179130622167238, 0.2611125494905949, 0.6527813737264873, 0.9574559160871615, 0.24464319012305258, 0.08154773004101752, 0.16309546008203504, 0.16309546008203504, 0.4077386502050876, 0.9812265563363758, 0.013628146615782996, 0.1755609481362011, 0.7022437925448044, 0.9731818912947163, 0.9040310291372753, 0.9042678243095389, 0.9120942894509655, 0.5289333223979382, 0.39669999179845367, 0.5240431128227071, 0.3930323346170303, 0.3539725323726881, 0.17698626618634405, 0.3539725323726881, 0.0425915149594252, 0.0425915149594252, 0.7453515117899411, 0.1703660598377008, 0.9391128602440042, 0.4527856553625378, 0.37732137946878147, 0.1509285517875126, 0.9731789745272099, 0.9546092413085581, 0.025800249765096164, 0.025800249765096164, 0.8964268206482967, 0.6594256853744772, 0.26377027414979093, 0.3519468137482605, 0.1173156045827535, 0.469262418331014, 0.9433328029410671, 0.6966111974903956, 0.1741527993725989, 0.08707639968629945, 0.19991000934369496, 0.3998200186873899, 0.19991000934369496, 0.19991000934369496, 0.2242006423753603, 0.4932414132257927, 0.2690407708504324, 0.40803911966722456, 0.06800651994453742, 0.47604563961176194, 0.5307451170482465, 0.35383007803216426, 0.8617003678617963, 0.5710033540591475, 0.19033445135304916, 0.19033445135304916, 0.13142318526532146, 0.5256927410612858, 0.39426955579596434, 0.4658621661824318, 0.4658621661824318, 0.5028668055516828, 0.22349635802297013, 0.05587408950574253, 0.1676222685172276, 0.8381970919848067, 0.9483240491592726, 0.3053376822893654, 0.3053376822893654, 0.4580065234340482, 0.8816579672259203, 0.7822790897492152, 0.0977848862186519, 0.7097486833533314, 0.17743717083833285, 0.8621278162671258, 0.24154384322595823, 0.6038596080648956, 0.7685566712280292, 0.613754652744162, 0.1534386631860405, 0.1534386631860405, 0.40764942135580606, 0.5435325618077413, 0.6473203865639066, 0.038077669797876856, 0.30462135838301485, 0.9629847834159598, 0.016894469884490525, 0.016894469884490525, 0.0832970783022979, 0.19435984937202844, 0.5830795481160853, 0.13882846383716316, 0.9389013129957942, 0.8526549183470307, 0.6234826066983361, 0.22672094789030403, 0.17004071091772802, 0.6984558946668498, 0.06349599042425907, 0.06349599042425907, 0.19048797127277722, 0.9221129969565395, 0.5393623810306625, 0.43148990482453, 0.932514321343292, 0.9832439082101482, 0.013287079840677677, 0.4044374946706601, 0.4044374946706601, 0.8620985313721461, 0.09097508210303418, 0.8187757389273076, 0.17980694176376444, 0.5394208252912933, 0.17980694176376444, 0.3509155867835086, 0.5263733801752629, 0.31112610842869426, 0.6222522168573885, 0.26357137639998734, 0.7248212850999652, 0.6478652178018591, 0.32393260890092956, 0.7155176325651688, 0.1788794081412922, 0.36868891513447427, 0.028916777657605825, 0.5927939419809194, 0.007229194414401456, 0.5359171565625998, 0.32155029393755985, 0.941823422565468, 0.14193613542685207, 0.8043047674188284, 0.46951740509651196, 0.03912645042470933, 0.46951740509651196, 0.48223813698971824, 0.21432806088431922, 0.267910076105399], \"Term\": [\"abrazo\", \"abrazo\", \"alguien\", \"alguien\", \"america\", \"america\", \"americacalifem\", \"americacalifem\", \"americacalifem\", \"americacalifem\", \"americadecali\", \"americadecali\", \"americadecali\", \"am\\u00e9rica\", \"am\\u00e9rica\", \"am\\u00e9rica\", \"am\\u00e9rica\", \"am\\u00e9rica\", \"apoyando\", \"apoyando\", \"apoyando\", \"apoyando\", \"a\\u00f1o\", \"a\\u00f1o\", \"bal\\u00f3n\", \"bicampenato\", \"bicampeonato\", \"bicampeonato\", \"bicampeonato\", \"bien\", \"bogot\\u00e1\", \"bogot\\u00e1\", \"cali\", \"cali\", \"cambio\", \"campeonas\", \"campeonas\", \"campeonas\", \"campeonato\", \"campeonato\", \"cancha\", \"cancha\", \"cancha\", \"carolina\", \"carolina\", \"carolina\", \"catalina\", \"catalina\", \"catausme\", \"catausme\", \"chac\\u00f3n\", \"chac\\u00f3n\", \"chicas\", \"chicas\", \"chicas\", \"chicas\", \"co\", \"co\", \"colombia\", \"colombia\", \"colombia\", \"comentarista\", \"comentarista\", \"comentarista\", \"cuadro\", \"daniel\", \"diablas\", \"diablas\", \"diablas\", \"diablitas\", \"diadelasvelitas\", \"dos\", \"dos\", \"dos\", \"dperezdeportes\", \"dperezdeportes\", \"dt\", \"dt\", \"eduardo\", \"eduardoluisfut\", \"eduardoluisfut\", \"embajadoras\", \"embajadoras\", \"equipo\", \"equipo\", \"equipo\", \"equipos\", \"equipos\", \"equipos\", \"escarlatas\", \"escarlatas\", \"escarlatas\", \"estrella\", \"excelente\", \"falta\", \"falta\", \"falta\", \"fany\", \"fany\", \"favor\", \"fe\", \"fe\", \"fe\", \"felicitaciones\", \"felicitaciones\", \"femenina\", \"femenina\", \"femenino\", \"femenino\", \"femenino\", \"femenino\", \"femenino\", \"final\", \"final\", \"final\", \"final\", \"fuerza\", \"fuerza\", \"fuerza\", \"f\\u00fatbol\", \"f\\u00fatbol\", \"f\\u00fatbol\", \"ganar\", \"ganar\", \"gauto\", \"gauto\", \"giraldo\", \"giraldo\", \"giraldo\", \"gisela\", \"gol\", \"gol\", \"golazo\", \"golazo\", \"gracias\", \"gracias\", \"gran\", \"gran\", \"gran\", \"grande\", \"grande\", \"grande\", \"guerreras\", \"guerreras\", \"hincha\", \"hincha\", \"hincha\", \"hinchas\", \"hinchas\", \"hombres\", \"hoy\", \"hoy\", \"hoy\", \"hoy\", \"hoy\", \"https\", \"https\", \"huila\", \"huila\", \"ida\", \"ingresa\", \"ivonne\", \"jfcadavid\", \"juego\", \"juego\", \"jugadora\", \"jugadora\", \"jugadoras\", \"jugadoras\", \"jugadoras\", \"leonas\", \"leonas\", \"leonas\", \"leonas\", \"libertadores\", \"liga\", \"liga\", \"liga\", \"ligafemenina\", \"ligafemeninabetplaydimayor\", \"ligafemeninabetplaydimayor\", \"ligafemeninabetplaydimayor\", \"luis\", \"m\", \"m\", \"masculino\", \"masculino\", \"masculino\", \"mechita\", \"mejor\", \"mejor\", \"mejor\", \"mfcfem\", \"mfcfem\", \"mfcfem\", \"mfcfem\", \"millonarios\", \"millonarios\", \"millonarios\", \"millos\", \"millos\", \"millos\", \"millosfcoficial\", \"millosfcoficial\", \"mujeres\", \"natalia\", \"natalia\", \"natalia\", \"ni\\u00f1as\", \"ni\\u00f1as\", \"ni\\u00f1as\", \"palmira\", \"palmira\", \"partido\", \"partido\", \"partido\", \"partido\", \"penal\", \"pm\", \"primer\", \"primer\", \"primer\", \"puede\", \"q\", \"q\", \"queremos\", \"queremos\", \"remate\", \"robledo\", \"robledo\", \"roja\", \"rojas\", \"rojas\", \"rojas\", \"rojo\", \"rojo\", \"saludos\", \"saludos\", \"saludos\", \"santa\", \"santa\", \"santa\", \"santafe\", \"santafe\", \"santafe\", \"santafe\", \"segunda\", \"ser\", \"sheylagarcia\", \"sheylagarcia\", \"sheylagarcia\", \"si\", \"si\", \"si\", \"si\", \"siempre\", \"solo\", \"solo\", \"sports\", \"t\", \"t\", \"tiempo\", \"tiempo\", \"tiro\", \"toda\", \"toda\", \"todas\", \"todas\", \"todas\", \"u\", \"u\", \"unas\", \"unas\", \"usme\", \"usme\", \"ustedes\", \"ustedes\", \"va\", \"va\", \"vamos\", \"vamos\", \"vamos\", \"vamos\", \"ver\", \"ver\", \"viendo\", \"vs\", \"vs\", \"win\", \"win\", \"win\", \"winsportstv\", \"winsportstv\", \"winsportstv\"]}, \"R\": 30, \"lambda.step\": 0.01, \"plot.opts\": {\"xlab\": \"PC1\", \"ylab\": \"PC2\"}, \"topic.order\": [3, 2, 1, 5, 4]};\n",
       "\n",
       "function LDAvis_load_lib(url, callback){\n",
       "  var s = document.createElement('script');\n",
       "  s.src = url;\n",
       "  s.async = true;\n",
       "  s.onreadystatechange = s.onload = callback;\n",
       "  s.onerror = function(){console.warn(\"failed to load library \" + url);};\n",
       "  document.getElementsByTagName(\"head\")[0].appendChild(s);\n",
       "}\n",
       "\n",
       "if(typeof(LDAvis) !== \"undefined\"){\n",
       "   // already loaded: just create the visualization\n",
       "   !function(LDAvis){\n",
       "       new LDAvis(\"#\" + \"ldavis_el1048022797880346329895664474\", ldavis_el1048022797880346329895664474_data);\n",
       "   }(LDAvis);\n",
       "}else if(typeof define === \"function\" && define.amd){\n",
       "   // require.js is available: use it to load d3/LDAvis\n",
       "   require.config({paths: {d3: \"https://d3js.org/d3.v5\"}});\n",
       "   require([\"d3\"], function(d3){\n",
       "      window.d3 = d3;\n",
       "      LDAvis_load_lib(\"https://cdn.jsdelivr.net/gh/bmabey/pyLDAvis@3.3.1/pyLDAvis/js/ldavis.v3.0.0.js\", function(){\n",
       "        new LDAvis(\"#\" + \"ldavis_el1048022797880346329895664474\", ldavis_el1048022797880346329895664474_data);\n",
       "      });\n",
       "    });\n",
       "}else{\n",
       "    // require.js not available: dynamically load d3 & LDAvis\n",
       "    LDAvis_load_lib(\"https://d3js.org/d3.v5.js\", function(){\n",
       "         LDAvis_load_lib(\"https://cdn.jsdelivr.net/gh/bmabey/pyLDAvis@3.3.1/pyLDAvis/js/ldavis.v3.0.0.js\", function(){\n",
       "                 new LDAvis(\"#\" + \"ldavis_el1048022797880346329895664474\", ldavis_el1048022797880346329895664474_data);\n",
       "            })\n",
       "         });\n",
       "}\n",
       "</script>"
      ],
      "text/plain": [
       "<IPython.core.display.HTML object>"
      ]
     },
     "execution_count": 106,
     "metadata": {},
     "output_type": "execute_result"
    }
   ],
   "source": [
    "lda_display = pyLDAvis.gensim_models.prepare(model, corpus, dictionary)\n",
    "pyLDAvis.display(lda_display)"
   ]
  },
  {
   "cell_type": "code",
   "execution_count": 125,
   "metadata": {},
   "outputs": [
    {
     "data": {
      "text/plain": [
       "[(1, 0.050007205),\n",
       " (2, 0.050497454),\n",
       " (3, 0.7994909),\n",
       " (4, 0.050002616),\n",
       " (5, 0.05000179)]"
      ]
     },
     "execution_count": 125,
     "metadata": {},
     "output_type": "execute_result"
    }
   ],
   "source": [
    "d = dictionary.doc2bow([\"malas jugadoras\", \"juego\", \"mujeres\",\"femenina\"])\n",
    "topics = [(cluster[0]+1, cluster[1]) for cluster in model.get_document_topics(d)]\n",
    "topics"
   ]
  },
  {
   "cell_type": "markdown",
   "metadata": {},
   "source": [
    "## 4: Nubes de palabras / Visualizaciones"
   ]
  },
  {
   "cell_type": "code",
   "execution_count": 116,
   "metadata": {},
   "outputs": [
    {
     "name": "stdout",
     "output_type": "stream",
     "text": [
      "Requirement already satisfied: plotly in c:\\users\\johan\\anaconda3\\lib\\site-packages (4.14.3)\n",
      "Requirement already satisfied: six in c:\\users\\johan\\anaconda3\\lib\\site-packages (from plotly) (1.12.0)\n",
      "Requirement already satisfied: retrying>=1.3.3 in c:\\users\\johan\\anaconda3\\lib\\site-packages (from plotly) (1.3.3)\n",
      "Note: you may need to restart the kernel to use updated packages.\n"
     ]
    }
   ],
   "source": [
    "pip install plotly"
   ]
  },
  {
   "cell_type": "code",
   "execution_count": 11,
   "metadata": {},
   "outputs": [
    {
     "data": {
      "image/png": "[encoded data removed]",
      "text/plain": [
       "<Figure size 432x288 with 1 Axes>"
      ]
     },
     "metadata": {
      "needs_background": "light"
     },
     "output_type": "display_data"
    }
   ],
   "source": [
    "palabras = bd_twitter.clean.str.cat(sep=\" \")\n",
    "wordcloud = WordCloud().generate(palabras)\n",
    "\n",
    "plt.imshow(wordcloud)\n",
    "plt.show()"
   ]
  },
  {
   "cell_type": "code",
   "execution_count": 22,
   "metadata": {},
   "outputs": [
    {
     "data": {
      "image/png": "[encoded data removed]",
      "text/plain": [
       "<Figure size 720x720 with 1 Axes>"
      ]
     },
     "metadata": {
      "needs_background": "light"
     },
     "output_type": "display_data"
    }
   ],
   "source": [
    "palabras = bd_twitter.PP.str.cat(sep=\" \")\n",
    "wordcloud = WordCloud(width=800, height=400,\n",
    "                      max_font_size=150, max_words=100,\n",
    "                      background_color=\"white\", colormap=\"hsv\",\n",
    "                      stopwords=stopwords, collocations=True).generate(palabras)\n",
    "\n",
    "plt.figure(figsize=(10,10))\n",
    "plt.imshow(wordcloud, interpolation='bilinear')\n",
    "plt.axis(\"off\")\n",
    "plt.tight_layout(pad=0)\n",
    "plt.show()"
   ]
  },
  {
   "cell_type": "code",
   "execution_count": 18,
   "metadata": {},
   "outputs": [
    {
     "data": {
      "image/png": "[encoded data removed]",
      "text/plain": [
       "<PIL.PngImagePlugin.PngImageFile image mode=RGB size=364x487 at 0x212A92D7C08>"
      ]
     },
     "metadata": {},
     "output_type": "display_data"
    }
   ],
   "source": [
    "jugadora = PIL.Image.open(\"Imagen.png\")\n",
    "display(jugadora)"
   ]
  },
  {
   "cell_type": "code",
   "execution_count": 21,
   "metadata": {},
   "outputs": [
    {
     "data": {
      "image/png": "[encoded data removed]",
      "text/plain": [
       "<Figure size 1080x1080 with 1 Axes>"
      ]
     },
     "metadata": {
      "needs_background": "light"
     },
     "output_type": "display_data"
    }
   ],
   "source": [
    "mask = np.array(jugadora)\n",
    "palabras = bd_twitter.PP.str.cat(sep=' ')\n",
    "\n",
    "wordcloud = WordCloud(random_state=1234, width=500, height=500,\n",
    "                      max_font_size=200, max_words=150,\n",
    "                      background_color='white', colormap='hsv',\n",
    "                      stopwords=stopwords, \n",
    "                      mask=mask, contour_width=0.5, contour_color='purple').generate(palabras) \n",
    "wordcloud.to_file(\"Imagen.png\")\n",
    "\n",
    "\n",
    "plt.figure(figsize=(15,15))\n",
    "plt.imshow(wordcloud, interpolation='bilinear')\n",
    "plt.axis(\"off\")\n",
    "plt.tight_layout(pad=0)\n",
    "plt.show()"
   ]
  },
  {
   "cell_type": "markdown",
   "metadata": {},
   "source": [
    "## 5: Análisis de sentimientos"
   ]
  },
  {
   "cell_type": "code",
   "execution_count": 12,
   "metadata": {},
   "outputs": [
    {
     "name": "stderr",
     "output_type": "stream",
     "text": [
      "C:\\Users\\johan\\Anaconda3\\lib\\site-packages\\sklearn\\base.py:315: UserWarning: Trying to unpickle estimator CountVectorizer from version 0.23.2 when using version 0.24.1. This might lead to breaking code or invalid results. Use at your own risk.\n",
      "  UserWarning)\n",
      "C:\\Users\\johan\\Anaconda3\\lib\\site-packages\\sklearn\\base.py:315: UserWarning: Trying to unpickle estimator MultinomialNB from version 0.23.2 when using version 0.24.1. This might lead to breaking code or invalid results. Use at your own risk.\n",
      "  UserWarning)\n"
     ]
    }
   ],
   "source": [
    "from sentiment_analysis_spanish import sentiment_analysis\n",
    "sentiment = sentiment_analysis.SentimentAnalysisSpanish()\n",
    "from flair.models import TextClassifier\n",
    "from flair.data import Sentence"
   ]
  },
  {
   "cell_type": "code",
   "execution_count": null,
   "metadata": {},
   "outputs": [],
   "source": [
    "pip install sentiment-analysis-spanish"
   ]
  },
  {
   "cell_type": "code",
   "execution_count": 15,
   "metadata": {},
   "outputs": [
    {
     "name": "stdout",
     "output_type": "stream",
     "text": [
      "2021-05-26 08:19:40,873 loading file C:\\Users\\johan\\.flair\\models\\sentiment-en-mix-distillbert_4.pt\n"
     ]
    },
    {
     "data": {
      "text/html": [
       "<div>\n",
       "<style scoped>\n",
       "    .dataframe tbody tr th:only-of-type {\n",
       "        vertical-align: middle;\n",
       "    }\n",
       "\n",
       "    .dataframe tbody tr th {\n",
       "        vertical-align: top;\n",
       "    }\n",
       "\n",
       "    .dataframe thead th {\n",
       "        text-align: right;\n",
       "    }\n",
       "</style>\n",
       "<table border=\"1\" class=\"dataframe\">\n",
       "  <thead>\n",
       "    <tr style=\"text-align: right;\">\n",
       "      <th></th>\n",
       "      <th>links</th>\n",
       "      <th>fecha</th>\n",
       "      <th>tweet</th>\n",
       "      <th>PP</th>\n",
       "      <th>sent_flair</th>\n",
       "    </tr>\n",
       "  </thead>\n",
       "  <tbody>\n",
       "    <tr>\n",
       "      <th>0</th>\n",
       "      <td>https://twitter.com/ElCapo711/status/136907694...</td>\n",
       "      <td>2021-03-09 00:05:53+00:00</td>\n",
       "      <td>@WinSportsTV #LigaFemeninaXWin @JFCadavid Juan...</td>\n",
       "      <td>[winsportstv, ligafemeninaxwin, jfcadavid, jua...</td>\n",
       "      <td>0.999068</td>\n",
       "    </tr>\n",
       "    <tr>\n",
       "      <th>1</th>\n",
       "      <td>https://twitter.com/FlorOlarte10/status/136831...</td>\n",
       "      <td>2021-03-06 21:39:15+00:00</td>\n",
       "      <td>#ligafemeninaxwin la mejor  jugadora femenina ...</td>\n",
       "      <td>[ligafemeninaxwin, mejor, jugadora, femenina, ...</td>\n",
       "      <td>0.798522</td>\n",
       "    </tr>\n",
       "    <tr>\n",
       "      <th>2</th>\n",
       "      <td>https://twitter.com/LucenErnesto/status/133828...</td>\n",
       "      <td>2020-12-14 00:42:55+00:00</td>\n",
       "      <td>¡Felicitaciones campeonas! Todo el reconocimie...</td>\n",
       "      <td>[felicitaciones, campeonas, reconocimiento, sa...</td>\n",
       "      <td>0.995355</td>\n",
       "    </tr>\n",
       "    <tr>\n",
       "      <th>3</th>\n",
       "      <td>https://twitter.com/conroca20c09/status/133828...</td>\n",
       "      <td>2020-12-14 00:40:37+00:00</td>\n",
       "      <td>@AmericaCaliFem Para Eso Le Robaron El Partido...</td>\n",
       "      <td>[americacalifem, robaron, partido, mfcfem, cal...</td>\n",
       "      <td>0.902571</td>\n",
       "    </tr>\n",
       "    <tr>\n",
       "      <th>4</th>\n",
       "      <td>https://twitter.com/hatedlifedie/status/133828...</td>\n",
       "      <td>2020-12-14 00:39:44+00:00</td>\n",
       "      <td>#lopagarasumadre #lopagarasumadre #lopagarasum...</td>\n",
       "      <td>[lopagarasumadre, lopagarasumadre, lopagarasum...</td>\n",
       "      <td>0.950064</td>\n",
       "    </tr>\n",
       "  </tbody>\n",
       "</table>\n",
       "</div>"
      ],
      "text/plain": [
       "                                               links  \\\n",
       "0  https://twitter.com/ElCapo711/status/136907694...   \n",
       "1  https://twitter.com/FlorOlarte10/status/136831...   \n",
       "2  https://twitter.com/LucenErnesto/status/133828...   \n",
       "3  https://twitter.com/conroca20c09/status/133828...   \n",
       "4  https://twitter.com/hatedlifedie/status/133828...   \n",
       "\n",
       "                      fecha  \\\n",
       "0 2021-03-09 00:05:53+00:00   \n",
       "1 2021-03-06 21:39:15+00:00   \n",
       "2 2020-12-14 00:42:55+00:00   \n",
       "3 2020-12-14 00:40:37+00:00   \n",
       "4 2020-12-14 00:39:44+00:00   \n",
       "\n",
       "                                               tweet  \\\n",
       "0  @WinSportsTV #LigaFemeninaXWin @JFCadavid Juan...   \n",
       "1  #ligafemeninaxwin la mejor  jugadora femenina ...   \n",
       "2  ¡Felicitaciones campeonas! Todo el reconocimie...   \n",
       "3  @AmericaCaliFem Para Eso Le Robaron El Partido...   \n",
       "4  #lopagarasumadre #lopagarasumadre #lopagarasum...   \n",
       "\n",
       "                                                  PP  sent_flair  \n",
       "0  [winsportstv, ligafemeninaxwin, jfcadavid, jua...    0.999068  \n",
       "1  [ligafemeninaxwin, mejor, jugadora, femenina, ...    0.798522  \n",
       "2  [felicitaciones, campeonas, reconocimiento, sa...    0.995355  \n",
       "3  [americacalifem, robaron, partido, mfcfem, cal...    0.902571  \n",
       "4  [lopagarasumadre, lopagarasumadre, lopagarasum...    0.950064  "
      ]
     },
     "execution_count": 15,
     "metadata": {},
     "output_type": "execute_result"
    }
   ],
   "source": [
    "classifier = TextClassifier.load('sentiment')\n",
    "\n",
    "def sent_flair(texto):\n",
    "    sentence = Sentence(texto)\n",
    "    classifier.predict(sentence)\n",
    "    result = sentence.labels[0]\n",
    "    label = result.value\n",
    "    score = result.score\n",
    "    if label == 'POSITIVE':\n",
    "        return score\n",
    "    if label == 'NEGATIVE':\n",
    "        return -1 * score\n",
    "    return score\n",
    "\n",
    "bd_twitter['sent_flair'] = bd_twitter['PP'].apply(lambda valor: sent_flair(valor))\n",
    "bd_twitter.head()"
   ]
  },
  {
   "cell_type": "code",
   "execution_count": 16,
   "metadata": {},
   "outputs": [
    {
     "data": {
      "text/html": [
       "<div>\n",
       "<style scoped>\n",
       "    .dataframe tbody tr th:only-of-type {\n",
       "        vertical-align: middle;\n",
       "    }\n",
       "\n",
       "    .dataframe tbody tr th {\n",
       "        vertical-align: top;\n",
       "    }\n",
       "\n",
       "    .dataframe thead th {\n",
       "        text-align: right;\n",
       "    }\n",
       "</style>\n",
       "<table border=\"1\" class=\"dataframe\">\n",
       "  <thead>\n",
       "    <tr style=\"text-align: right;\">\n",
       "      <th></th>\n",
       "      <th>fecha</th>\n",
       "      <th>PP</th>\n",
       "      <th>sent_flair</th>\n",
       "    </tr>\n",
       "  </thead>\n",
       "  <tbody>\n",
       "    <tr>\n",
       "      <th>390</th>\n",
       "      <td>2020-12-07 20:40:52+00:00</td>\n",
       "      <td>[ligafemeninaxwin, penal]</td>\n",
       "      <td>-0.999871</td>\n",
       "    </tr>\n",
       "    <tr>\n",
       "      <th>208</th>\n",
       "      <td>2020-12-07 22:32:24+00:00</td>\n",
       "      <td>[ganó, americafemenino, llorar, bastardo, inút...</td>\n",
       "      <td>-0.999830</td>\n",
       "    </tr>\n",
       "    <tr>\n",
       "      <th>290</th>\n",
       "      <td>2020-12-07 21:46:24+00:00</td>\n",
       "      <td>[vamos, millos, ligafemeninaxwin, si, puede, v...</td>\n",
       "      <td>-0.999640</td>\n",
       "    </tr>\n",
       "    <tr>\n",
       "      <th>43</th>\n",
       "      <td>2020-12-13 23:36:17+00:00</td>\n",
       "      <td>[ligafemeninaxwin, nadie, vió, penal, balón, s...</td>\n",
       "      <td>-0.999541</td>\n",
       "    </tr>\n",
       "    <tr>\n",
       "      <th>232</th>\n",
       "      <td>2020-12-07 22:23:10+00:00</td>\n",
       "      <td>[ligafemeninaxwin, américa, vamos, bicampenato...</td>\n",
       "      <td>-0.999457</td>\n",
       "    </tr>\n",
       "    <tr>\n",
       "      <th>...</th>\n",
       "      <td>...</td>\n",
       "      <td>...</td>\n",
       "      <td>...</td>\n",
       "    </tr>\n",
       "    <tr>\n",
       "      <th>299</th>\n",
       "      <td>2020-12-07 21:42:47+00:00</td>\n",
       "      <td>[ligafemeninaxwin, winsportstv, vamos, embajad...</td>\n",
       "      <td>0.999171</td>\n",
       "    </tr>\n",
       "    <tr>\n",
       "      <th>63</th>\n",
       "      <td>2020-12-11 03:41:42+00:00</td>\n",
       "      <td>[ligafemeninaxwin, gustó, declaraciones, jugad...</td>\n",
       "      <td>0.999298</td>\n",
       "    </tr>\n",
       "    <tr>\n",
       "      <th>45</th>\n",
       "      <td>2020-12-13 23:14:34+00:00</td>\n",
       "      <td>[winsportstv, deberían, esforzarse, narradores...</td>\n",
       "      <td>0.999339</td>\n",
       "    </tr>\n",
       "    <tr>\n",
       "      <th>112</th>\n",
       "      <td>2020-12-11 01:49:30+00:00</td>\n",
       "      <td>[final, primer, tiempo, américa, cali, santa, ...</td>\n",
       "      <td>0.999427</td>\n",
       "    </tr>\n",
       "    <tr>\n",
       "      <th>255</th>\n",
       "      <td>2020-12-07 22:07:24+00:00</td>\n",
       "      <td>[hecho, pegada, jajajaja, entonces, cuál, meri...</td>\n",
       "      <td>0.999443</td>\n",
       "    </tr>\n",
       "  </tbody>\n",
       "</table>\n",
       "<p>401 rows × 3 columns</p>\n",
       "</div>"
      ],
      "text/plain": [
       "                        fecha  \\\n",
       "390 2020-12-07 20:40:52+00:00   \n",
       "208 2020-12-07 22:32:24+00:00   \n",
       "290 2020-12-07 21:46:24+00:00   \n",
       "43  2020-12-13 23:36:17+00:00   \n",
       "232 2020-12-07 22:23:10+00:00   \n",
       "..                        ...   \n",
       "299 2020-12-07 21:42:47+00:00   \n",
       "63  2020-12-11 03:41:42+00:00   \n",
       "45  2020-12-13 23:14:34+00:00   \n",
       "112 2020-12-11 01:49:30+00:00   \n",
       "255 2020-12-07 22:07:24+00:00   \n",
       "\n",
       "                                                    PP  sent_flair  \n",
       "390                          [ligafemeninaxwin, penal]   -0.999871  \n",
       "208  [ganó, americafemenino, llorar, bastardo, inút...   -0.999830  \n",
       "290  [vamos, millos, ligafemeninaxwin, si, puede, v...   -0.999640  \n",
       "43   [ligafemeninaxwin, nadie, vió, penal, balón, s...   -0.999541  \n",
       "232  [ligafemeninaxwin, américa, vamos, bicampenato...   -0.999457  \n",
       "..                                                 ...         ...  \n",
       "299  [ligafemeninaxwin, winsportstv, vamos, embajad...    0.999171  \n",
       "63   [ligafemeninaxwin, gustó, declaraciones, jugad...    0.999298  \n",
       "45   [winsportstv, deberían, esforzarse, narradores...    0.999339  \n",
       "112  [final, primer, tiempo, américa, cali, santa, ...    0.999427  \n",
       "255  [hecho, pegada, jajajaja, entonces, cuál, meri...    0.999443  \n",
       "\n",
       "[401 rows x 3 columns]"
      ]
     },
     "execution_count": 16,
     "metadata": {},
     "output_type": "execute_result"
    }
   ],
   "source": [
    "bd_twitter[['fecha','PP', 'sent_flair']].sort_values('sent_flair')"
   ]
  },
  {
   "cell_type": "markdown",
   "metadata": {},
   "source": [
    "## 6: Visualización de los datos"
   ]
  },
  {
   "cell_type": "markdown",
   "metadata": {},
   "source": [
    "## tuits POSITIVOS"
   ]
  },
  {
   "cell_type": "code",
   "execution_count": 42,
   "metadata": {},
   "outputs": [
    {
     "name": "stdout",
     "output_type": "stream",
     "text": [
      "Requirement already satisfied: plotly in c:\\users\\johan\\anaconda3\\lib\\site-packages (4.14.3)\n",
      "Requirement already satisfied: retrying>=1.3.3 in c:\\users\\johan\\anaconda3\\lib\\site-packages (from plotly) (1.3.3)\n",
      "Requirement already satisfied: six in c:\\users\\johan\\anaconda3\\lib\\site-packages (from plotly) (1.12.0)\n",
      "Note: you may need to restart the kernel to use updated packages.\n"
     ]
    }
   ],
   "source": [
    "pip install plotly"
   ]
  },
  {
   "cell_type": "code",
   "execution_count": 17,
   "metadata": {},
   "outputs": [
    {
     "data": {
      "text/html": [
       "<div>\n",
       "<style scoped>\n",
       "    .dataframe tbody tr th:only-of-type {\n",
       "        vertical-align: middle;\n",
       "    }\n",
       "\n",
       "    .dataframe tbody tr th {\n",
       "        vertical-align: top;\n",
       "    }\n",
       "\n",
       "    .dataframe thead th {\n",
       "        text-align: right;\n",
       "    }\n",
       "</style>\n",
       "<table border=\"1\" class=\"dataframe\">\n",
       "  <thead>\n",
       "    <tr style=\"text-align: right;\">\n",
       "      <th></th>\n",
       "      <th>links</th>\n",
       "      <th>fecha</th>\n",
       "      <th>tweet</th>\n",
       "      <th>PP</th>\n",
       "      <th>sent_flair</th>\n",
       "    </tr>\n",
       "  </thead>\n",
       "  <tbody>\n",
       "    <tr>\n",
       "      <th>0</th>\n",
       "      <td>https://twitter.com/ElCapo711/status/136907694...</td>\n",
       "      <td>2021-03-09 00:05:53+00:00</td>\n",
       "      <td>@WinSportsTV #LigaFemeninaXWin @JFCadavid Juan...</td>\n",
       "      <td>[winsportstv, ligafemeninaxwin, jfcadavid, jua...</td>\n",
       "      <td>0.999068</td>\n",
       "    </tr>\n",
       "    <tr>\n",
       "      <th>1</th>\n",
       "      <td>https://twitter.com/FlorOlarte10/status/136831...</td>\n",
       "      <td>2021-03-06 21:39:15+00:00</td>\n",
       "      <td>#ligafemeninaxwin la mejor  jugadora femenina ...</td>\n",
       "      <td>[ligafemeninaxwin, mejor, jugadora, femenina, ...</td>\n",
       "      <td>0.798522</td>\n",
       "    </tr>\n",
       "    <tr>\n",
       "      <th>2</th>\n",
       "      <td>https://twitter.com/LucenErnesto/status/133828...</td>\n",
       "      <td>2020-12-14 00:42:55+00:00</td>\n",
       "      <td>¡Felicitaciones campeonas! Todo el reconocimie...</td>\n",
       "      <td>[felicitaciones, campeonas, reconocimiento, sa...</td>\n",
       "      <td>0.995355</td>\n",
       "    </tr>\n",
       "    <tr>\n",
       "      <th>3</th>\n",
       "      <td>https://twitter.com/conroca20c09/status/133828...</td>\n",
       "      <td>2020-12-14 00:40:37+00:00</td>\n",
       "      <td>@AmericaCaliFem Para Eso Le Robaron El Partido...</td>\n",
       "      <td>[americacalifem, robaron, partido, mfcfem, cal...</td>\n",
       "      <td>0.902571</td>\n",
       "    </tr>\n",
       "    <tr>\n",
       "      <th>4</th>\n",
       "      <td>https://twitter.com/hatedlifedie/status/133828...</td>\n",
       "      <td>2020-12-14 00:39:44+00:00</td>\n",
       "      <td>#lopagarasumadre #lopagarasumadre #lopagarasum...</td>\n",
       "      <td>[lopagarasumadre, lopagarasumadre, lopagarasum...</td>\n",
       "      <td>0.950064</td>\n",
       "    </tr>\n",
       "    <tr>\n",
       "      <th>...</th>\n",
       "      <td>...</td>\n",
       "      <td>...</td>\n",
       "      <td>...</td>\n",
       "      <td>...</td>\n",
       "      <td>...</td>\n",
       "    </tr>\n",
       "    <tr>\n",
       "      <th>395</th>\n",
       "      <td>https://twitter.com/juanmaoscar/status/1336047...</td>\n",
       "      <td>2020-12-07 20:39:58+00:00</td>\n",
       "      <td>#LIGAFEMENINAxWIN Vamos que vamos Mis Chicas. ...</td>\n",
       "      <td>[ligafemeninaxwin, vamos, vamos, chicas, bicam...</td>\n",
       "      <td>0.607247</td>\n",
       "    </tr>\n",
       "    <tr>\n",
       "      <th>396</th>\n",
       "      <td>https://twitter.com/iOscarParra/status/1336047...</td>\n",
       "      <td>2020-12-07 20:39:57+00:00</td>\n",
       "      <td>#LIGAFEMENINAxWIN  Siguiendo a las embajadoras...</td>\n",
       "      <td>[ligafemeninaxwin, siguiendo, embajadoras, str...</td>\n",
       "      <td>0.668123</td>\n",
       "    </tr>\n",
       "    <tr>\n",
       "      <th>397</th>\n",
       "      <td>https://twitter.com/posso_vivi/status/13360478...</td>\n",
       "      <td>2020-12-07 20:39:53+00:00</td>\n",
       "      <td>#LALIGAxWIN #LigaBetplay #LIGAFEMENINAxWIN  \\n...</td>\n",
       "      <td>[laligaxwin, ligabetplay, ligafemeninaxwin, tu...</td>\n",
       "      <td>0.850130</td>\n",
       "    </tr>\n",
       "    <tr>\n",
       "      <th>398</th>\n",
       "      <td>https://twitter.com/Cristhianboli29/status/133...</td>\n",
       "      <td>2020-12-07 20:39:44+00:00</td>\n",
       "      <td>#LIGAFEMENINAxWIN apoyando a mi Millos desde C...</td>\n",
       "      <td>[ligafemeninaxwin, apoyando, millos, cali, vam...</td>\n",
       "      <td>0.977571</td>\n",
       "    </tr>\n",
       "    <tr>\n",
       "      <th>400</th>\n",
       "      <td>https://twitter.com/ade_fonca/status/133604765...</td>\n",
       "      <td>2020-12-07 20:39:18+00:00</td>\n",
       "      <td>#LIGAFEMENINAxWIN vamos MILLONARIOS vamosss</td>\n",
       "      <td>[ligafemeninaxwin, vamos, millonarios, vamosss]</td>\n",
       "      <td>0.924104</td>\n",
       "    </tr>\n",
       "  </tbody>\n",
       "</table>\n",
       "<p>326 rows × 5 columns</p>\n",
       "</div>"
      ],
      "text/plain": [
       "                                                 links  \\\n",
       "0    https://twitter.com/ElCapo711/status/136907694...   \n",
       "1    https://twitter.com/FlorOlarte10/status/136831...   \n",
       "2    https://twitter.com/LucenErnesto/status/133828...   \n",
       "3    https://twitter.com/conroca20c09/status/133828...   \n",
       "4    https://twitter.com/hatedlifedie/status/133828...   \n",
       "..                                                 ...   \n",
       "395  https://twitter.com/juanmaoscar/status/1336047...   \n",
       "396  https://twitter.com/iOscarParra/status/1336047...   \n",
       "397  https://twitter.com/posso_vivi/status/13360478...   \n",
       "398  https://twitter.com/Cristhianboli29/status/133...   \n",
       "400  https://twitter.com/ade_fonca/status/133604765...   \n",
       "\n",
       "                        fecha  \\\n",
       "0   2021-03-09 00:05:53+00:00   \n",
       "1   2021-03-06 21:39:15+00:00   \n",
       "2   2020-12-14 00:42:55+00:00   \n",
       "3   2020-12-14 00:40:37+00:00   \n",
       "4   2020-12-14 00:39:44+00:00   \n",
       "..                        ...   \n",
       "395 2020-12-07 20:39:58+00:00   \n",
       "396 2020-12-07 20:39:57+00:00   \n",
       "397 2020-12-07 20:39:53+00:00   \n",
       "398 2020-12-07 20:39:44+00:00   \n",
       "400 2020-12-07 20:39:18+00:00   \n",
       "\n",
       "                                                 tweet  \\\n",
       "0    @WinSportsTV #LigaFemeninaXWin @JFCadavid Juan...   \n",
       "1    #ligafemeninaxwin la mejor  jugadora femenina ...   \n",
       "2    ¡Felicitaciones campeonas! Todo el reconocimie...   \n",
       "3    @AmericaCaliFem Para Eso Le Robaron El Partido...   \n",
       "4    #lopagarasumadre #lopagarasumadre #lopagarasum...   \n",
       "..                                                 ...   \n",
       "395  #LIGAFEMENINAxWIN Vamos que vamos Mis Chicas. ...   \n",
       "396  #LIGAFEMENINAxWIN  Siguiendo a las embajadoras...   \n",
       "397  #LALIGAxWIN #LigaBetplay #LIGAFEMENINAxWIN  \\n...   \n",
       "398  #LIGAFEMENINAxWIN apoyando a mi Millos desde C...   \n",
       "400        #LIGAFEMENINAxWIN vamos MILLONARIOS vamosss   \n",
       "\n",
       "                                                    PP  sent_flair  \n",
       "0    [winsportstv, ligafemeninaxwin, jfcadavid, jua...    0.999068  \n",
       "1    [ligafemeninaxwin, mejor, jugadora, femenina, ...    0.798522  \n",
       "2    [felicitaciones, campeonas, reconocimiento, sa...    0.995355  \n",
       "3    [americacalifem, robaron, partido, mfcfem, cal...    0.902571  \n",
       "4    [lopagarasumadre, lopagarasumadre, lopagarasum...    0.950064  \n",
       "..                                                 ...         ...  \n",
       "395  [ligafemeninaxwin, vamos, vamos, chicas, bicam...    0.607247  \n",
       "396  [ligafemeninaxwin, siguiendo, embajadoras, str...    0.668123  \n",
       "397  [laligaxwin, ligabetplay, ligafemeninaxwin, tu...    0.850130  \n",
       "398  [ligafemeninaxwin, apoyando, millos, cali, vam...    0.977571  \n",
       "400    [ligafemeninaxwin, vamos, millonarios, vamosss]    0.924104  \n",
       "\n",
       "[326 rows x 5 columns]"
      ]
     },
     "execution_count": 17,
     "metadata": {},
     "output_type": "execute_result"
    }
   ],
   "source": [
    "positivos= bd_twitter >> filter_by(X.sent_flair>0) \n",
    "positivos"
   ]
  },
  {
   "cell_type": "code",
   "execution_count": 18,
   "metadata": {},
   "outputs": [],
   "source": [
    "import regex\n",
    "import emoji\n",
    "\n",
    "def get_emojis(text):\n",
    "    emoji_list = []\n",
    "    positivos = regex.findall(r'\\X', text)\n",
    "    for word in positivos:\n",
    "        if any(char in emoji.UNICODE_EMOJI['en'] for char in word):\n",
    "            emoji_list.append(word)\n",
    "\n",
    "    return emoji_list\n",
    "\n",
    "positivos['emojis'] = positivos['tweet'].apply(lambda text: get_emojis(text))"
   ]
  },
  {
   "cell_type": "code",
   "execution_count": 19,
   "metadata": {},
   "outputs": [
    {
     "data": {
      "text/html": [
       "<div>\n",
       "<style scoped>\n",
       "    .dataframe tbody tr th:only-of-type {\n",
       "        vertical-align: middle;\n",
       "    }\n",
       "\n",
       "    .dataframe tbody tr th {\n",
       "        vertical-align: top;\n",
       "    }\n",
       "\n",
       "    .dataframe thead th {\n",
       "        text-align: right;\n",
       "    }\n",
       "</style>\n",
       "<table border=\"1\" class=\"dataframe\">\n",
       "  <thead>\n",
       "    <tr style=\"text-align: right;\">\n",
       "      <th></th>\n",
       "      <th>links</th>\n",
       "      <th>fecha</th>\n",
       "      <th>tweet</th>\n",
       "      <th>PP</th>\n",
       "      <th>sent_flair</th>\n",
       "      <th>emojis</th>\n",
       "    </tr>\n",
       "  </thead>\n",
       "  <tbody>\n",
       "    <tr>\n",
       "      <th>0</th>\n",
       "      <td>https://twitter.com/ElCapo711/status/136907694...</td>\n",
       "      <td>2021-03-09 00:05:53+00:00</td>\n",
       "      <td>@WinSportsTV #LigaFemeninaXWin @JFCadavid Juan...</td>\n",
       "      <td>[winsportstv, ligafemeninaxwin, jfcadavid, jua...</td>\n",
       "      <td>0.999068</td>\n",
       "      <td>[😎, 👍]</td>\n",
       "    </tr>\n",
       "    <tr>\n",
       "      <th>1</th>\n",
       "      <td>https://twitter.com/FlorOlarte10/status/136831...</td>\n",
       "      <td>2021-03-06 21:39:15+00:00</td>\n",
       "      <td>#ligafemeninaxwin la mejor  jugadora femenina ...</td>\n",
       "      <td>[ligafemeninaxwin, mejor, jugadora, femenina, ...</td>\n",
       "      <td>0.798522</td>\n",
       "      <td>[]</td>\n",
       "    </tr>\n",
       "    <tr>\n",
       "      <th>2</th>\n",
       "      <td>https://twitter.com/LucenErnesto/status/133828...</td>\n",
       "      <td>2020-12-14 00:42:55+00:00</td>\n",
       "      <td>¡Felicitaciones campeonas! Todo el reconocimie...</td>\n",
       "      <td>[felicitaciones, campeonas, reconocimiento, sa...</td>\n",
       "      <td>0.995355</td>\n",
       "      <td>[👏🏼]</td>\n",
       "    </tr>\n",
       "    <tr>\n",
       "      <th>3</th>\n",
       "      <td>https://twitter.com/conroca20c09/status/133828...</td>\n",
       "      <td>2020-12-14 00:40:37+00:00</td>\n",
       "      <td>@AmericaCaliFem Para Eso Le Robaron El Partido...</td>\n",
       "      <td>[americacalifem, robaron, partido, mfcfem, cal...</td>\n",
       "      <td>0.902571</td>\n",
       "      <td>[]</td>\n",
       "    </tr>\n",
       "    <tr>\n",
       "      <th>4</th>\n",
       "      <td>https://twitter.com/hatedlifedie/status/133828...</td>\n",
       "      <td>2020-12-14 00:39:44+00:00</td>\n",
       "      <td>#lopagarasumadre #lopagarasumadre #lopagarasum...</td>\n",
       "      <td>[lopagarasumadre, lopagarasumadre, lopagarasum...</td>\n",
       "      <td>0.950064</td>\n",
       "      <td>[]</td>\n",
       "    </tr>\n",
       "  </tbody>\n",
       "</table>\n",
       "</div>"
      ],
      "text/plain": [
       "                                               links  \\\n",
       "0  https://twitter.com/ElCapo711/status/136907694...   \n",
       "1  https://twitter.com/FlorOlarte10/status/136831...   \n",
       "2  https://twitter.com/LucenErnesto/status/133828...   \n",
       "3  https://twitter.com/conroca20c09/status/133828...   \n",
       "4  https://twitter.com/hatedlifedie/status/133828...   \n",
       "\n",
       "                      fecha  \\\n",
       "0 2021-03-09 00:05:53+00:00   \n",
       "1 2021-03-06 21:39:15+00:00   \n",
       "2 2020-12-14 00:42:55+00:00   \n",
       "3 2020-12-14 00:40:37+00:00   \n",
       "4 2020-12-14 00:39:44+00:00   \n",
       "\n",
       "                                               tweet  \\\n",
       "0  @WinSportsTV #LigaFemeninaXWin @JFCadavid Juan...   \n",
       "1  #ligafemeninaxwin la mejor  jugadora femenina ...   \n",
       "2  ¡Felicitaciones campeonas! Todo el reconocimie...   \n",
       "3  @AmericaCaliFem Para Eso Le Robaron El Partido...   \n",
       "4  #lopagarasumadre #lopagarasumadre #lopagarasum...   \n",
       "\n",
       "                                                  PP  sent_flair  emojis  \n",
       "0  [winsportstv, ligafemeninaxwin, jfcadavid, jua...    0.999068  [😎, 👍]  \n",
       "1  [ligafemeninaxwin, mejor, jugadora, femenina, ...    0.798522      []  \n",
       "2  [felicitaciones, campeonas, reconocimiento, sa...    0.995355    [👏🏼]  \n",
       "3  [americacalifem, robaron, partido, mfcfem, cal...    0.902571      []  \n",
       "4  [lopagarasumadre, lopagarasumadre, lopagarasum...    0.950064      []  "
      ]
     },
     "execution_count": 19,
     "metadata": {},
     "output_type": "execute_result"
    }
   ],
   "source": [
    "positivos.head()"
   ]
  },
  {
   "cell_type": "code",
   "execution_count": 20,
   "metadata": {},
   "outputs": [
    {
     "data": {
      "text/html": [
       "        <script type=\"text/javascript\">\n",
       "        window.PlotlyConfig = {MathJaxConfig: 'local'};\n",
       "        if (window.MathJax) {MathJax.Hub.Config({SVG: {font: \"STIX-Web\"}});}\n",
       "        if (typeof require !== 'undefined') {\n",
       "        require.undef(\"plotly\");\n",
       "        requirejs.config({\n",
       "            paths: {\n",
       "                'plotly': ['https://cdn.plot.ly/plotly-latest.min']\n",
       "            }\n",
       "        });\n",
       "        require(['plotly'], function(Plotly) {\n",
       "            window._Plotly = Plotly;\n",
       "        });\n",
       "        }\n",
       "        </script>\n",
       "        "
      ]
     },
     "metadata": {},
     "output_type": "display_data"
    }
   ],
   "source": [
    "import plotly.io as pio\n",
    "import plotly.express as px\n",
    "import plotly.graph_objs as go\n",
    "from plotly.offline import download_plotlyjs, init_notebook_mode, plot, iplot\n",
    "\n",
    "import matplotlib.pyplot as plt\n",
    "%matplotlib inline\n",
    "init_notebook_mode(connected=True)"
   ]
  },
  {
   "cell_type": "code",
   "execution_count": 21,
   "metadata": {},
   "outputs": [
    {
     "data": {
      "text/html": [
       "<div>\n",
       "<style scoped>\n",
       "    .dataframe tbody tr th:only-of-type {\n",
       "        vertical-align: middle;\n",
       "    }\n",
       "\n",
       "    .dataframe tbody tr th {\n",
       "        vertical-align: top;\n",
       "    }\n",
       "\n",
       "    .dataframe thead th {\n",
       "        text-align: right;\n",
       "    }\n",
       "</style>\n",
       "<table border=\"1\" class=\"dataframe\">\n",
       "  <thead>\n",
       "    <tr style=\"text-align: right;\">\n",
       "      <th></th>\n",
       "      <th>emoji</th>\n",
       "      <th>cnt</th>\n",
       "    </tr>\n",
       "  </thead>\n",
       "  <tbody>\n",
       "    <tr>\n",
       "      <th>17</th>\n",
       "      <td>⚽️</td>\n",
       "      <td>47</td>\n",
       "    </tr>\n",
       "    <tr>\n",
       "      <th>15</th>\n",
       "      <td>🏆</td>\n",
       "      <td>33</td>\n",
       "    </tr>\n",
       "    <tr>\n",
       "      <th>24</th>\n",
       "      <td>🆚</td>\n",
       "      <td>30</td>\n",
       "    </tr>\n",
       "    <tr>\n",
       "      <th>22</th>\n",
       "      <td>⏱️</td>\n",
       "      <td>29</td>\n",
       "    </tr>\n",
       "    <tr>\n",
       "      <th>18</th>\n",
       "      <td>👹</td>\n",
       "      <td>23</td>\n",
       "    </tr>\n",
       "  </tbody>\n",
       "</table>\n",
       "</div>"
      ],
      "text/plain": [
       "   emoji  cnt\n",
       "17    ⚽️   47\n",
       "15     🏆   33\n",
       "24     🆚   30\n",
       "22    ⏱️   29\n",
       "18     👹   23"
      ]
     },
     "execution_count": 21,
     "metadata": {},
     "output_type": "execute_result"
    }
   ],
   "source": [
    "from collections import Counter\n",
    "\n",
    "temp_emojis = pd.DataFrame(list(zip(Counter(sum(positivos.emojis.values,[])).keys(),Counter(sum(positivos.emojis.values,[])).values())))\n",
    "temp_emojis.columns = ['emoji', 'cnt']\n",
    "temp_emojis.sort_values('cnt', ascending=False, inplace=True)\n",
    "temp_emojis.head(5)"
   ]
  },
  {
   "cell_type": "code",
   "execution_count": 23,
   "metadata": {},
   "outputs": [
    {
     "data": {
      "application/vnd.plotly.v1+json": {
       "config": {
        "linkText": "Export to plot.ly",
        "plotlyServerURL": "https://plot.ly",
        "showLink": false
       },
       "data": [
        {
         "type": "bar",
         "x": [
          "⚽️",
          "🏆",
          "🆚",
          "⏱️",
          "👹"
         ],
         "y": [
          47,
          33,
          30,
          29,
          23
         ]
        }
       ],
       "layout": {
        "template": {
         "data": {
          "bar": [
           {
            "error_x": {
             "color": "#2a3f5f"
            },
            "error_y": {
             "color": "#2a3f5f"
            },
            "marker": {
             "line": {
              "color": "#E5ECF6",
              "width": 0.5
             }
            },
            "type": "bar"
           }
          ],
          "barpolar": [
           {
            "marker": {
             "line": {
              "color": "#E5ECF6",
              "width": 0.5
             }
            },
            "type": "barpolar"
           }
          ],
          "carpet": [
           {
            "aaxis": {
             "endlinecolor": "#2a3f5f",
             "gridcolor": "white",
             "linecolor": "white",
             "minorgridcolor": "white",
             "startlinecolor": "#2a3f5f"
            },
            "baxis": {
             "endlinecolor": "#2a3f5f",
             "gridcolor": "white",
             "linecolor": "white",
             "minorgridcolor": "white",
             "startlinecolor": "#2a3f5f"
            },
            "type": "carpet"
           }
          ],
          "choropleth": [
           {
            "colorbar": {
             "outlinewidth": 0,
             "ticks": ""
            },
            "type": "choropleth"
           }
          ],
          "contour": [
           {
            "colorbar": {
             "outlinewidth": 0,
             "ticks": ""
            },
            "colorscale": [
             [
              0,
              "#0d0887"
             ],
             [
              0.1111111111111111,
              "#46039f"
             ],
             [
              0.2222222222222222,
              "#7201a8"
             ],
             [
              0.3333333333333333,
              "#9c179e"
             ],
             [
              0.4444444444444444,
              "#bd3786"
             ],
             [
              0.5555555555555556,
              "#d8576b"
             ],
             [
              0.6666666666666666,
              "#ed7953"
             ],
             [
              0.7777777777777778,
              "#fb9f3a"
             ],
             [
              0.8888888888888888,
              "#fdca26"
             ],
             [
              1,
              "#f0f921"
             ]
            ],
            "type": "contour"
           }
          ],
          "contourcarpet": [
           {
            "colorbar": {
             "outlinewidth": 0,
             "ticks": ""
            },
            "type": "contourcarpet"
           }
          ],
          "heatmap": [
           {
            "colorbar": {
             "outlinewidth": 0,
             "ticks": ""
            },
            "colorscale": [
             [
              0,
              "#0d0887"
             ],
             [
              0.1111111111111111,
              "#46039f"
             ],
             [
              0.2222222222222222,
              "#7201a8"
             ],
             [
              0.3333333333333333,
              "#9c179e"
             ],
             [
              0.4444444444444444,
              "#bd3786"
             ],
             [
              0.5555555555555556,
              "#d8576b"
             ],
             [
              0.6666666666666666,
              "#ed7953"
             ],
             [
              0.7777777777777778,
              "#fb9f3a"
             ],
             [
              0.8888888888888888,
              "#fdca26"
             ],
             [
              1,
              "#f0f921"
             ]
            ],
            "type": "heatmap"
           }
          ],
          "heatmapgl": [
           {
            "colorbar": {
             "outlinewidth": 0,
             "ticks": ""
            },
            "colorscale": [
             [
              0,
              "#0d0887"
             ],
             [
              0.1111111111111111,
              "#46039f"
             ],
             [
              0.2222222222222222,
              "#7201a8"
             ],
             [
              0.3333333333333333,
              "#9c179e"
             ],
             [
              0.4444444444444444,
              "#bd3786"
             ],
             [
              0.5555555555555556,
              "#d8576b"
             ],
             [
              0.6666666666666666,
              "#ed7953"
             ],
             [
              0.7777777777777778,
              "#fb9f3a"
             ],
             [
              0.8888888888888888,
              "#fdca26"
             ],
             [
              1,
              "#f0f921"
             ]
            ],
            "type": "heatmapgl"
           }
          ],
          "histogram": [
           {
            "marker": {
             "colorbar": {
              "outlinewidth": 0,
              "ticks": ""
             }
            },
            "type": "histogram"
           }
          ],
          "histogram2d": [
           {
            "colorbar": {
             "outlinewidth": 0,
             "ticks": ""
            },
            "colorscale": [
             [
              0,
              "#0d0887"
             ],
             [
              0.1111111111111111,
              "#46039f"
             ],
             [
              0.2222222222222222,
              "#7201a8"
             ],
             [
              0.3333333333333333,
              "#9c179e"
             ],
             [
              0.4444444444444444,
              "#bd3786"
             ],
             [
              0.5555555555555556,
              "#d8576b"
             ],
             [
              0.6666666666666666,
              "#ed7953"
             ],
             [
              0.7777777777777778,
              "#fb9f3a"
             ],
             [
              0.8888888888888888,
              "#fdca26"
             ],
             [
              1,
              "#f0f921"
             ]
            ],
            "type": "histogram2d"
           }
          ],
          "histogram2dcontour": [
           {
            "colorbar": {
             "outlinewidth": 0,
             "ticks": ""
            },
            "colorscale": [
             [
              0,
              "#0d0887"
             ],
             [
              0.1111111111111111,
              "#46039f"
             ],
             [
              0.2222222222222222,
              "#7201a8"
             ],
             [
              0.3333333333333333,
              "#9c179e"
             ],
             [
              0.4444444444444444,
              "#bd3786"
             ],
             [
              0.5555555555555556,
              "#d8576b"
             ],
             [
              0.6666666666666666,
              "#ed7953"
             ],
             [
              0.7777777777777778,
              "#fb9f3a"
             ],
             [
              0.8888888888888888,
              "#fdca26"
             ],
             [
              1,
              "#f0f921"
             ]
            ],
            "type": "histogram2dcontour"
           }
          ],
          "mesh3d": [
           {
            "colorbar": {
             "outlinewidth": 0,
             "ticks": ""
            },
            "type": "mesh3d"
           }
          ],
          "parcoords": [
           {
            "line": {
             "colorbar": {
              "outlinewidth": 0,
              "ticks": ""
             }
            },
            "type": "parcoords"
           }
          ],
          "pie": [
           {
            "automargin": true,
            "type": "pie"
           }
          ],
          "scatter": [
           {
            "marker": {
             "colorbar": {
              "outlinewidth": 0,
              "ticks": ""
             }
            },
            "type": "scatter"
           }
          ],
          "scatter3d": [
           {
            "line": {
             "colorbar": {
              "outlinewidth": 0,
              "ticks": ""
             }
            },
            "marker": {
             "colorbar": {
              "outlinewidth": 0,
              "ticks": ""
             }
            },
            "type": "scatter3d"
           }
          ],
          "scattercarpet": [
           {
            "marker": {
             "colorbar": {
              "outlinewidth": 0,
              "ticks": ""
             }
            },
            "type": "scattercarpet"
           }
          ],
          "scattergeo": [
           {
            "marker": {
             "colorbar": {
              "outlinewidth": 0,
              "ticks": ""
             }
            },
            "type": "scattergeo"
           }
          ],
          "scattergl": [
           {
            "marker": {
             "colorbar": {
              "outlinewidth": 0,
              "ticks": ""
             }
            },
            "type": "scattergl"
           }
          ],
          "scattermapbox": [
           {
            "marker": {
             "colorbar": {
              "outlinewidth": 0,
              "ticks": ""
             }
            },
            "type": "scattermapbox"
           }
          ],
          "scatterpolar": [
           {
            "marker": {
             "colorbar": {
              "outlinewidth": 0,
              "ticks": ""
             }
            },
            "type": "scatterpolar"
           }
          ],
          "scatterpolargl": [
           {
            "marker": {
             "colorbar": {
              "outlinewidth": 0,
              "ticks": ""
             }
            },
            "type": "scatterpolargl"
           }
          ],
          "scatterternary": [
           {
            "marker": {
             "colorbar": {
              "outlinewidth": 0,
              "ticks": ""
             }
            },
            "type": "scatterternary"
           }
          ],
          "surface": [
           {
            "colorbar": {
             "outlinewidth": 0,
             "ticks": ""
            },
            "colorscale": [
             [
              0,
              "#0d0887"
             ],
             [
              0.1111111111111111,
              "#46039f"
             ],
             [
              0.2222222222222222,
              "#7201a8"
             ],
             [
              0.3333333333333333,
              "#9c179e"
             ],
             [
              0.4444444444444444,
              "#bd3786"
             ],
             [
              0.5555555555555556,
              "#d8576b"
             ],
             [
              0.6666666666666666,
              "#ed7953"
             ],
             [
              0.7777777777777778,
              "#fb9f3a"
             ],
             [
              0.8888888888888888,
              "#fdca26"
             ],
             [
              1,
              "#f0f921"
             ]
            ],
            "type": "surface"
           }
          ],
          "table": [
           {
            "cells": {
             "fill": {
              "color": "#EBF0F8"
             },
             "line": {
              "color": "white"
             }
            },
            "header": {
             "fill": {
              "color": "#C8D4E3"
             },
             "line": {
              "color": "white"
             }
            },
            "type": "table"
           }
          ]
         },
         "layout": {
          "annotationdefaults": {
           "arrowcolor": "#2a3f5f",
           "arrowhead": 0,
           "arrowwidth": 1
          },
          "autotypenumbers": "strict",
          "coloraxis": {
           "colorbar": {
            "outlinewidth": 0,
            "ticks": ""
           }
          },
          "colorscale": {
           "diverging": [
            [
             0,
             "#8e0152"
            ],
            [
             0.1,
             "#c51b7d"
            ],
            [
             0.2,
             "#de77ae"
            ],
            [
             0.3,
             "#f1b6da"
            ],
            [
             0.4,
             "#fde0ef"
            ],
            [
             0.5,
             "#f7f7f7"
            ],
            [
             0.6,
             "#e6f5d0"
            ],
            [
             0.7,
             "#b8e186"
            ],
            [
             0.8,
             "#7fbc41"
            ],
            [
             0.9,
             "#4d9221"
            ],
            [
             1,
             "#276419"
            ]
           ],
           "sequential": [
            [
             0,
             "#0d0887"
            ],
            [
             0.1111111111111111,
             "#46039f"
            ],
            [
             0.2222222222222222,
             "#7201a8"
            ],
            [
             0.3333333333333333,
             "#9c179e"
            ],
            [
             0.4444444444444444,
             "#bd3786"
            ],
            [
             0.5555555555555556,
             "#d8576b"
            ],
            [
             0.6666666666666666,
             "#ed7953"
            ],
            [
             0.7777777777777778,
             "#fb9f3a"
            ],
            [
             0.8888888888888888,
             "#fdca26"
            ],
            [
             1,
             "#f0f921"
            ]
           ],
           "sequentialminus": [
            [
             0,
             "#0d0887"
            ],
            [
             0.1111111111111111,
             "#46039f"
            ],
            [
             0.2222222222222222,
             "#7201a8"
            ],
            [
             0.3333333333333333,
             "#9c179e"
            ],
            [
             0.4444444444444444,
             "#bd3786"
            ],
            [
             0.5555555555555556,
             "#d8576b"
            ],
            [
             0.6666666666666666,
             "#ed7953"
            ],
            [
             0.7777777777777778,
             "#fb9f3a"
            ],
            [
             0.8888888888888888,
             "#fdca26"
            ],
            [
             1,
             "#f0f921"
            ]
           ]
          },
          "colorway": [
           "#636efa",
           "#EF553B",
           "#00cc96",
           "#ab63fa",
           "#FFA15A",
           "#19d3f3",
           "#FF6692",
           "#B6E880",
           "#FF97FF",
           "#FECB52"
          ],
          "font": {
           "color": "#2a3f5f"
          },
          "geo": {
           "bgcolor": "white",
           "lakecolor": "white",
           "landcolor": "#E5ECF6",
           "showlakes": true,
           "showland": true,
           "subunitcolor": "white"
          },
          "hoverlabel": {
           "align": "left"
          },
          "hovermode": "closest",
          "mapbox": {
           "style": "light"
          },
          "paper_bgcolor": "white",
          "plot_bgcolor": "#E5ECF6",
          "polar": {
           "angularaxis": {
            "gridcolor": "white",
            "linecolor": "white",
            "ticks": ""
           },
           "bgcolor": "#E5ECF6",
           "radialaxis": {
            "gridcolor": "white",
            "linecolor": "white",
            "ticks": ""
           }
          },
          "scene": {
           "xaxis": {
            "backgroundcolor": "#E5ECF6",
            "gridcolor": "white",
            "gridwidth": 2,
            "linecolor": "white",
            "showbackground": true,
            "ticks": "",
            "zerolinecolor": "white"
           },
           "yaxis": {
            "backgroundcolor": "#E5ECF6",
            "gridcolor": "white",
            "gridwidth": 2,
            "linecolor": "white",
            "showbackground": true,
            "ticks": "",
            "zerolinecolor": "white"
           },
           "zaxis": {
            "backgroundcolor": "#E5ECF6",
            "gridcolor": "white",
            "gridwidth": 2,
            "linecolor": "white",
            "showbackground": true,
            "ticks": "",
            "zerolinecolor": "white"
           }
          },
          "shapedefaults": {
           "line": {
            "color": "#2a3f5f"
           }
          },
          "ternary": {
           "aaxis": {
            "gridcolor": "white",
            "linecolor": "white",
            "ticks": ""
           },
           "baxis": {
            "gridcolor": "white",
            "linecolor": "white",
            "ticks": ""
           },
           "bgcolor": "#E5ECF6",
           "caxis": {
            "gridcolor": "white",
            "linecolor": "white",
            "ticks": ""
           }
          },
          "title": {
           "x": 0.05
          },
          "xaxis": {
           "automargin": true,
           "gridcolor": "white",
           "linecolor": "white",
           "ticks": "",
           "title": {
            "standoff": 15
           },
           "zerolinecolor": "white",
           "zerolinewidth": 2
          },
          "yaxis": {
           "automargin": true,
           "gridcolor": "white",
           "linecolor": "white",
           "ticks": "",
           "title": {
            "standoff": 15
           },
           "zerolinecolor": "white",
           "zerolinewidth": 2
          }
         }
        },
        "title": {
         "text": "Emojis Positivos"
        }
       }
      },
      "text/html": [
       "<div>                            <div id=\"786a6ba7-7132-4d23-9016-994f8ef3aea7\" class=\"plotly-graph-div\" style=\"height:525px; width:100%;\"></div>            <script type=\"text/javascript\">                require([\"plotly\"], function(Plotly) {                    window.PLOTLYENV=window.PLOTLYENV || {};                                    if (document.getElementById(\"786a6ba7-7132-4d23-9016-994f8ef3aea7\")) {                    Plotly.newPlot(                        \"786a6ba7-7132-4d23-9016-994f8ef3aea7\",                        [{\"type\": \"bar\", \"x\": [\"\\u26bd\\ufe0f\", \"\\ud83c\\udfc6\", \"\\ud83c\\udd9a\", \"\\u23f1\\ufe0f\", \"\\ud83d\\udc79\"], \"y\": [47, 33, 30, 29, 23]}],                        {\"template\": {\"data\": {\"bar\": [{\"error_x\": {\"color\": \"#2a3f5f\"}, \"error_y\": {\"color\": \"#2a3f5f\"}, \"marker\": {\"line\": {\"color\": \"#E5ECF6\", \"width\": 0.5}}, \"type\": \"bar\"}], \"barpolar\": [{\"marker\": {\"line\": {\"color\": \"#E5ECF6\", \"width\": 0.5}}, \"type\": \"barpolar\"}], \"carpet\": [{\"aaxis\": {\"endlinecolor\": \"#2a3f5f\", \"gridcolor\": \"white\", \"linecolor\": \"white\", \"minorgridcolor\": \"white\", \"startlinecolor\": \"#2a3f5f\"}, \"baxis\": {\"endlinecolor\": \"#2a3f5f\", \"gridcolor\": \"white\", \"linecolor\": \"white\", \"minorgridcolor\": \"white\", \"startlinecolor\": \"#2a3f5f\"}, \"type\": \"carpet\"}], \"choropleth\": [{\"colorbar\": {\"outlinewidth\": 0, \"ticks\": \"\"}, \"type\": \"choropleth\"}], \"contour\": [{\"colorbar\": {\"outlinewidth\": 0, \"ticks\": \"\"}, \"colorscale\": [[0.0, \"#0d0887\"], [0.1111111111111111, \"#46039f\"], [0.2222222222222222, \"#7201a8\"], [0.3333333333333333, \"#9c179e\"], [0.4444444444444444, \"#bd3786\"], [0.5555555555555556, \"#d8576b\"], [0.6666666666666666, \"#ed7953\"], [0.7777777777777778, \"#fb9f3a\"], [0.8888888888888888, \"#fdca26\"], [1.0, \"#f0f921\"]], \"type\": \"contour\"}], \"contourcarpet\": [{\"colorbar\": {\"outlinewidth\": 0, \"ticks\": \"\"}, \"type\": \"contourcarpet\"}], \"heatmap\": [{\"colorbar\": {\"outlinewidth\": 0, \"ticks\": \"\"}, \"colorscale\": [[0.0, \"#0d0887\"], [0.1111111111111111, \"#46039f\"], [0.2222222222222222, \"#7201a8\"], [0.3333333333333333, \"#9c179e\"], [0.4444444444444444, \"#bd3786\"], [0.5555555555555556, \"#d8576b\"], [0.6666666666666666, \"#ed7953\"], [0.7777777777777778, \"#fb9f3a\"], [0.8888888888888888, \"#fdca26\"], [1.0, \"#f0f921\"]], \"type\": \"heatmap\"}], \"heatmapgl\": [{\"colorbar\": {\"outlinewidth\": 0, \"ticks\": \"\"}, \"colorscale\": [[0.0, \"#0d0887\"], [0.1111111111111111, \"#46039f\"], [0.2222222222222222, \"#7201a8\"], [0.3333333333333333, \"#9c179e\"], [0.4444444444444444, \"#bd3786\"], [0.5555555555555556, \"#d8576b\"], [0.6666666666666666, \"#ed7953\"], [0.7777777777777778, \"#fb9f3a\"], [0.8888888888888888, \"#fdca26\"], [1.0, \"#f0f921\"]], \"type\": \"heatmapgl\"}], \"histogram\": [{\"marker\": {\"colorbar\": {\"outlinewidth\": 0, \"ticks\": \"\"}}, \"type\": \"histogram\"}], \"histogram2d\": [{\"colorbar\": {\"outlinewidth\": 0, \"ticks\": \"\"}, \"colorscale\": [[0.0, \"#0d0887\"], [0.1111111111111111, \"#46039f\"], [0.2222222222222222, \"#7201a8\"], [0.3333333333333333, \"#9c179e\"], [0.4444444444444444, \"#bd3786\"], [0.5555555555555556, \"#d8576b\"], [0.6666666666666666, \"#ed7953\"], [0.7777777777777778, \"#fb9f3a\"], [0.8888888888888888, \"#fdca26\"], [1.0, \"#f0f921\"]], \"type\": \"histogram2d\"}], \"histogram2dcontour\": [{\"colorbar\": {\"outlinewidth\": 0, \"ticks\": \"\"}, \"colorscale\": [[0.0, \"#0d0887\"], [0.1111111111111111, \"#46039f\"], [0.2222222222222222, \"#7201a8\"], [0.3333333333333333, \"#9c179e\"], [0.4444444444444444, \"#bd3786\"], [0.5555555555555556, \"#d8576b\"], [0.6666666666666666, \"#ed7953\"], [0.7777777777777778, \"#fb9f3a\"], [0.8888888888888888, \"#fdca26\"], [1.0, \"#f0f921\"]], \"type\": \"histogram2dcontour\"}], \"mesh3d\": [{\"colorbar\": {\"outlinewidth\": 0, \"ticks\": \"\"}, \"type\": \"mesh3d\"}], \"parcoords\": [{\"line\": {\"colorbar\": {\"outlinewidth\": 0, \"ticks\": \"\"}}, \"type\": \"parcoords\"}], \"pie\": [{\"automargin\": true, \"type\": \"pie\"}], \"scatter\": [{\"marker\": {\"colorbar\": {\"outlinewidth\": 0, \"ticks\": \"\"}}, \"type\": \"scatter\"}], \"scatter3d\": [{\"line\": {\"colorbar\": {\"outlinewidth\": 0, \"ticks\": \"\"}}, \"marker\": {\"colorbar\": {\"outlinewidth\": 0, \"ticks\": \"\"}}, \"type\": \"scatter3d\"}], \"scattercarpet\": [{\"marker\": {\"colorbar\": {\"outlinewidth\": 0, \"ticks\": \"\"}}, \"type\": \"scattercarpet\"}], \"scattergeo\": [{\"marker\": {\"colorbar\": {\"outlinewidth\": 0, \"ticks\": \"\"}}, \"type\": \"scattergeo\"}], \"scattergl\": [{\"marker\": {\"colorbar\": {\"outlinewidth\": 0, \"ticks\": \"\"}}, \"type\": \"scattergl\"}], \"scattermapbox\": [{\"marker\": {\"colorbar\": {\"outlinewidth\": 0, \"ticks\": \"\"}}, \"type\": \"scattermapbox\"}], \"scatterpolar\": [{\"marker\": {\"colorbar\": {\"outlinewidth\": 0, \"ticks\": \"\"}}, \"type\": \"scatterpolar\"}], \"scatterpolargl\": [{\"marker\": {\"colorbar\": {\"outlinewidth\": 0, \"ticks\": \"\"}}, \"type\": \"scatterpolargl\"}], \"scatterternary\": [{\"marker\": {\"colorbar\": {\"outlinewidth\": 0, \"ticks\": \"\"}}, \"type\": \"scatterternary\"}], \"surface\": [{\"colorbar\": {\"outlinewidth\": 0, \"ticks\": \"\"}, \"colorscale\": [[0.0, \"#0d0887\"], [0.1111111111111111, \"#46039f\"], [0.2222222222222222, \"#7201a8\"], [0.3333333333333333, \"#9c179e\"], [0.4444444444444444, \"#bd3786\"], [0.5555555555555556, \"#d8576b\"], [0.6666666666666666, \"#ed7953\"], [0.7777777777777778, \"#fb9f3a\"], [0.8888888888888888, \"#fdca26\"], [1.0, \"#f0f921\"]], \"type\": \"surface\"}], \"table\": [{\"cells\": {\"fill\": {\"color\": \"#EBF0F8\"}, \"line\": {\"color\": \"white\"}}, \"header\": {\"fill\": {\"color\": \"#C8D4E3\"}, \"line\": {\"color\": \"white\"}}, \"type\": \"table\"}]}, \"layout\": {\"annotationdefaults\": {\"arrowcolor\": \"#2a3f5f\", \"arrowhead\": 0, \"arrowwidth\": 1}, \"autotypenumbers\": \"strict\", \"coloraxis\": {\"colorbar\": {\"outlinewidth\": 0, \"ticks\": \"\"}}, \"colorscale\": {\"diverging\": [[0, \"#8e0152\"], [0.1, \"#c51b7d\"], [0.2, \"#de77ae\"], [0.3, \"#f1b6da\"], [0.4, \"#fde0ef\"], [0.5, \"#f7f7f7\"], [0.6, \"#e6f5d0\"], [0.7, \"#b8e186\"], [0.8, \"#7fbc41\"], [0.9, \"#4d9221\"], [1, \"#276419\"]], \"sequential\": [[0.0, \"#0d0887\"], [0.1111111111111111, \"#46039f\"], [0.2222222222222222, \"#7201a8\"], [0.3333333333333333, \"#9c179e\"], [0.4444444444444444, \"#bd3786\"], [0.5555555555555556, \"#d8576b\"], [0.6666666666666666, \"#ed7953\"], [0.7777777777777778, \"#fb9f3a\"], [0.8888888888888888, \"#fdca26\"], [1.0, \"#f0f921\"]], \"sequentialminus\": [[0.0, \"#0d0887\"], [0.1111111111111111, \"#46039f\"], [0.2222222222222222, \"#7201a8\"], [0.3333333333333333, \"#9c179e\"], [0.4444444444444444, \"#bd3786\"], [0.5555555555555556, \"#d8576b\"], [0.6666666666666666, \"#ed7953\"], [0.7777777777777778, \"#fb9f3a\"], [0.8888888888888888, \"#fdca26\"], [1.0, \"#f0f921\"]]}, \"colorway\": [\"#636efa\", \"#EF553B\", \"#00cc96\", \"#ab63fa\", \"#FFA15A\", \"#19d3f3\", \"#FF6692\", \"#B6E880\", \"#FF97FF\", \"#FECB52\"], \"font\": {\"color\": \"#2a3f5f\"}, \"geo\": {\"bgcolor\": \"white\", \"lakecolor\": \"white\", \"landcolor\": \"#E5ECF6\", \"showlakes\": true, \"showland\": true, \"subunitcolor\": \"white\"}, \"hoverlabel\": {\"align\": \"left\"}, \"hovermode\": \"closest\", \"mapbox\": {\"style\": \"light\"}, \"paper_bgcolor\": \"white\", \"plot_bgcolor\": \"#E5ECF6\", \"polar\": {\"angularaxis\": {\"gridcolor\": \"white\", \"linecolor\": \"white\", \"ticks\": \"\"}, \"bgcolor\": \"#E5ECF6\", \"radialaxis\": {\"gridcolor\": \"white\", \"linecolor\": \"white\", \"ticks\": \"\"}}, \"scene\": {\"xaxis\": {\"backgroundcolor\": \"#E5ECF6\", \"gridcolor\": \"white\", \"gridwidth\": 2, \"linecolor\": \"white\", \"showbackground\": true, \"ticks\": \"\", \"zerolinecolor\": \"white\"}, \"yaxis\": {\"backgroundcolor\": \"#E5ECF6\", \"gridcolor\": \"white\", \"gridwidth\": 2, \"linecolor\": \"white\", \"showbackground\": true, \"ticks\": \"\", \"zerolinecolor\": \"white\"}, \"zaxis\": {\"backgroundcolor\": \"#E5ECF6\", \"gridcolor\": \"white\", \"gridwidth\": 2, \"linecolor\": \"white\", \"showbackground\": true, \"ticks\": \"\", \"zerolinecolor\": \"white\"}}, \"shapedefaults\": {\"line\": {\"color\": \"#2a3f5f\"}}, \"ternary\": {\"aaxis\": {\"gridcolor\": \"white\", \"linecolor\": \"white\", \"ticks\": \"\"}, \"baxis\": {\"gridcolor\": \"white\", \"linecolor\": \"white\", \"ticks\": \"\"}, \"bgcolor\": \"#E5ECF6\", \"caxis\": {\"gridcolor\": \"white\", \"linecolor\": \"white\", \"ticks\": \"\"}}, \"title\": {\"x\": 0.05}, \"xaxis\": {\"automargin\": true, \"gridcolor\": \"white\", \"linecolor\": \"white\", \"ticks\": \"\", \"title\": {\"standoff\": 15}, \"zerolinecolor\": \"white\", \"zerolinewidth\": 2}, \"yaxis\": {\"automargin\": true, \"gridcolor\": \"white\", \"linecolor\": \"white\", \"ticks\": \"\", \"title\": {\"standoff\": 15}, \"zerolinecolor\": \"white\", \"zerolinewidth\": 2}}}, \"title\": {\"text\": \"Emojis Positivos\"}},                        {\"responsive\": true}                    ).then(function(){\n",
       "                            \n",
       "var gd = document.getElementById('786a6ba7-7132-4d23-9016-994f8ef3aea7');\n",
       "var x = new MutationObserver(function (mutations, observer) {{\n",
       "        var display = window.getComputedStyle(gd).display;\n",
       "        if (!display || display === 'none') {{\n",
       "            console.log([gd, 'removed!']);\n",
       "            Plotly.purge(gd);\n",
       "            observer.disconnect();\n",
       "        }}\n",
       "}});\n",
       "\n",
       "// Listen for the removal of the full notebook cells\n",
       "var notebookContainer = gd.closest('#notebook-container');\n",
       "if (notebookContainer) {{\n",
       "    x.observe(notebookContainer, {childList: true});\n",
       "}}\n",
       "\n",
       "// Listen for the clearing of the current output cell\n",
       "var outputEl = gd.closest('.output');\n",
       "if (outputEl) {{\n",
       "    x.observe(outputEl, {childList: true});\n",
       "}}\n",
       "\n",
       "                        })                };                });            </script>        </div>"
      ]
     },
     "metadata": {},
     "output_type": "display_data"
    }
   ],
   "source": [
    "trace = go.Bar(x=temp_emojis.emoji.values[:5],\n",
    "               y=temp_emojis.cnt.values[:5])\n",
    "\n",
    "layout = go.Layout(title='Emojis Positivos')\n",
    "\n",
    "fig = go.Figure(data=[trace], layout=layout)\n",
    "iplot(fig)"
   ]
  },
  {
   "cell_type": "code",
   "execution_count": 36,
   "metadata": {},
   "outputs": [
    {
     "data": {
      "text/html": [
       "<div>\n",
       "<style scoped>\n",
       "    .dataframe tbody tr th:only-of-type {\n",
       "        vertical-align: middle;\n",
       "    }\n",
       "\n",
       "    .dataframe tbody tr th {\n",
       "        vertical-align: top;\n",
       "    }\n",
       "\n",
       "    .dataframe thead th {\n",
       "        text-align: right;\n",
       "    }\n",
       "</style>\n",
       "<table border=\"1\" class=\"dataframe\">\n",
       "  <thead>\n",
       "    <tr style=\"text-align: right;\">\n",
       "      <th></th>\n",
       "      <th>fecha</th>\n",
       "      <th>cnt</th>\n",
       "    </tr>\n",
       "  </thead>\n",
       "  <tbody>\n",
       "    <tr>\n",
       "      <th>0</th>\n",
       "      <td>2020-12-07</td>\n",
       "      <td>158</td>\n",
       "    </tr>\n",
       "    <tr>\n",
       "      <th>5</th>\n",
       "      <td>2020-12-08</td>\n",
       "      <td>7</td>\n",
       "    </tr>\n",
       "    <tr>\n",
       "      <th>4</th>\n",
       "      <td>2020-12-09</td>\n",
       "      <td>10</td>\n",
       "    </tr>\n",
       "    <tr>\n",
       "      <th>6</th>\n",
       "      <td>2020-12-10</td>\n",
       "      <td>2</td>\n",
       "    </tr>\n",
       "    <tr>\n",
       "      <th>1</th>\n",
       "      <td>2020-12-11</td>\n",
       "      <td>96</td>\n",
       "    </tr>\n",
       "    <tr>\n",
       "      <th>2</th>\n",
       "      <td>2020-12-13</td>\n",
       "      <td>31</td>\n",
       "    </tr>\n",
       "    <tr>\n",
       "      <th>3</th>\n",
       "      <td>2020-12-14</td>\n",
       "      <td>20</td>\n",
       "    </tr>\n",
       "    <tr>\n",
       "      <th>8</th>\n",
       "      <td>2021-03-06</td>\n",
       "      <td>1</td>\n",
       "    </tr>\n",
       "    <tr>\n",
       "      <th>7</th>\n",
       "      <td>2021-03-09</td>\n",
       "      <td>1</td>\n",
       "    </tr>\n",
       "  </tbody>\n",
       "</table>\n",
       "</div>"
      ],
      "text/plain": [
       "        fecha  cnt\n",
       "0  2020-12-07  158\n",
       "5  2020-12-08    7\n",
       "4  2020-12-09   10\n",
       "6  2020-12-10    2\n",
       "1  2020-12-11   96\n",
       "2  2020-12-13   31\n",
       "3  2020-12-14   20\n",
       "8  2021-03-06    1\n",
       "7  2021-03-09    1"
      ]
     },
     "execution_count": 36,
     "metadata": {},
     "output_type": "execute_result"
    }
   ],
   "source": [
    "positivos['fecha'] = positivos.fecha\n",
    "temp = pd.DataFrame(positivos.fecha.value_counts()).reset_index()\n",
    "temp.columns = ['fecha', 'cnt']\n",
    "temp = temp.sort_values('fecha')\n",
    "temp"
   ]
  },
  {
   "cell_type": "code",
   "execution_count": 38,
   "metadata": {},
   "outputs": [
    {
     "data": {
      "text/html": [
       "        <script type=\"text/javascript\">\n",
       "        window.PlotlyConfig = {MathJaxConfig: 'local'};\n",
       "        if (window.MathJax) {MathJax.Hub.Config({SVG: {font: \"STIX-Web\"}});}\n",
       "        if (typeof require !== 'undefined') {\n",
       "        require.undef(\"plotly\");\n",
       "        requirejs.config({\n",
       "            paths: {\n",
       "                'plotly': ['https://cdn.plot.ly/plotly-latest.min']\n",
       "            }\n",
       "        });\n",
       "        require(['plotly'], function(Plotly) {\n",
       "            window._Plotly = Plotly;\n",
       "        });\n",
       "        }\n",
       "        </script>\n",
       "        "
      ]
     },
     "metadata": {},
     "output_type": "display_data"
    }
   ],
   "source": [
    "import plotly.io as pio\n",
    "import plotly.express as px\n",
    "import plotly.graph_objs as go\n",
    "from plotly.offline import download_plotlyjs, init_notebook_mode, plot, iplot\n",
    "\n",
    "import matplotlib.pyplot as plt\n",
    "%matplotlib inline\n",
    "init_notebook_mode(connected=True)"
   ]
  },
  {
   "cell_type": "code",
   "execution_count": 44,
   "metadata": {},
   "outputs": [
    {
     "data": {
      "application/vnd.plotly.v1+json": {
       "config": {
        "linkText": "Export to plot.ly",
        "plotlyServerURL": "https://plot.ly",
        "showLink": false
       },
       "data": [
        {
         "hoverinfo": "text",
         "line": {
          "color": "#1DA1F2"
         },
         "mode": "lines+markers",
         "name": "Días",
         "text": [
          "Fecha: 2020-12-07<br>Tuits: 158",
          "Fecha: 2020-12-08<br>Tuits: 7",
          "Fecha: 2020-12-09<br>Tuits: 10",
          "Fecha: 2020-12-10<br>Tuits: 2",
          "Fecha: 2020-12-11<br>Tuits: 96",
          "Fecha: 2020-12-13<br>Tuits: 31",
          "Fecha: 2020-12-14<br>Tuits: 20",
          "Fecha: 2021-03-06<br>Tuits: 1",
          "Fecha: 2021-03-09<br>Tuits: 1"
         ],
         "type": "scatter",
         "x": [
          "2020-12-07",
          "2020-12-08",
          "2020-12-09",
          "2020-12-10",
          "2020-12-11",
          "2020-12-13",
          "2020-12-14",
          "2021-03-06",
          "2021-03-09"
         ],
         "y": [
          158,
          7,
          10,
          2,
          96,
          31,
          20,
          1,
          1
         ]
        }
       ],
       "layout": {
        "template": {
         "data": {
          "bar": [
           {
            "error_x": {
             "color": "#2a3f5f"
            },
            "error_y": {
             "color": "#2a3f5f"
            },
            "marker": {
             "line": {
              "color": "#E5ECF6",
              "width": 0.5
             }
            },
            "type": "bar"
           }
          ],
          "barpolar": [
           {
            "marker": {
             "line": {
              "color": "#E5ECF6",
              "width": 0.5
             }
            },
            "type": "barpolar"
           }
          ],
          "carpet": [
           {
            "aaxis": {
             "endlinecolor": "#2a3f5f",
             "gridcolor": "white",
             "linecolor": "white",
             "minorgridcolor": "white",
             "startlinecolor": "#2a3f5f"
            },
            "baxis": {
             "endlinecolor": "#2a3f5f",
             "gridcolor": "white",
             "linecolor": "white",
             "minorgridcolor": "white",
             "startlinecolor": "#2a3f5f"
            },
            "type": "carpet"
           }
          ],
          "choropleth": [
           {
            "colorbar": {
             "outlinewidth": 0,
             "ticks": ""
            },
            "type": "choropleth"
           }
          ],
          "contour": [
           {
            "colorbar": {
             "outlinewidth": 0,
             "ticks": ""
            },
            "colorscale": [
             [
              0,
              "#0d0887"
             ],
             [
              0.1111111111111111,
              "#46039f"
             ],
             [
              0.2222222222222222,
              "#7201a8"
             ],
             [
              0.3333333333333333,
              "#9c179e"
             ],
             [
              0.4444444444444444,
              "#bd3786"
             ],
             [
              0.5555555555555556,
              "#d8576b"
             ],
             [
              0.6666666666666666,
              "#ed7953"
             ],
             [
              0.7777777777777778,
              "#fb9f3a"
             ],
             [
              0.8888888888888888,
              "#fdca26"
             ],
             [
              1,
              "#f0f921"
             ]
            ],
            "type": "contour"
           }
          ],
          "contourcarpet": [
           {
            "colorbar": {
             "outlinewidth": 0,
             "ticks": ""
            },
            "type": "contourcarpet"
           }
          ],
          "heatmap": [
           {
            "colorbar": {
             "outlinewidth": 0,
             "ticks": ""
            },
            "colorscale": [
             [
              0,
              "#0d0887"
             ],
             [
              0.1111111111111111,
              "#46039f"
             ],
             [
              0.2222222222222222,
              "#7201a8"
             ],
             [
              0.3333333333333333,
              "#9c179e"
             ],
             [
              0.4444444444444444,
              "#bd3786"
             ],
             [
              0.5555555555555556,
              "#d8576b"
             ],
             [
              0.6666666666666666,
              "#ed7953"
             ],
             [
              0.7777777777777778,
              "#fb9f3a"
             ],
             [
              0.8888888888888888,
              "#fdca26"
             ],
             [
              1,
              "#f0f921"
             ]
            ],
            "type": "heatmap"
           }
          ],
          "heatmapgl": [
           {
            "colorbar": {
             "outlinewidth": 0,
             "ticks": ""
            },
            "colorscale": [
             [
              0,
              "#0d0887"
             ],
             [
              0.1111111111111111,
              "#46039f"
             ],
             [
              0.2222222222222222,
              "#7201a8"
             ],
             [
              0.3333333333333333,
              "#9c179e"
             ],
             [
              0.4444444444444444,
              "#bd3786"
             ],
             [
              0.5555555555555556,
              "#d8576b"
             ],
             [
              0.6666666666666666,
              "#ed7953"
             ],
             [
              0.7777777777777778,
              "#fb9f3a"
             ],
             [
              0.8888888888888888,
              "#fdca26"
             ],
             [
              1,
              "#f0f921"
             ]
            ],
            "type": "heatmapgl"
           }
          ],
          "histogram": [
           {
            "marker": {
             "colorbar": {
              "outlinewidth": 0,
              "ticks": ""
             }
            },
            "type": "histogram"
           }
          ],
          "histogram2d": [
           {
            "colorbar": {
             "outlinewidth": 0,
             "ticks": ""
            },
            "colorscale": [
             [
              0,
              "#0d0887"
             ],
             [
              0.1111111111111111,
              "#46039f"
             ],
             [
              0.2222222222222222,
              "#7201a8"
             ],
             [
              0.3333333333333333,
              "#9c179e"
             ],
             [
              0.4444444444444444,
              "#bd3786"
             ],
             [
              0.5555555555555556,
              "#d8576b"
             ],
             [
              0.6666666666666666,
              "#ed7953"
             ],
             [
              0.7777777777777778,
              "#fb9f3a"
             ],
             [
              0.8888888888888888,
              "#fdca26"
             ],
             [
              1,
              "#f0f921"
             ]
            ],
            "type": "histogram2d"
           }
          ],
          "histogram2dcontour": [
           {
            "colorbar": {
             "outlinewidth": 0,
             "ticks": ""
            },
            "colorscale": [
             [
              0,
              "#0d0887"
             ],
             [
              0.1111111111111111,
              "#46039f"
             ],
             [
              0.2222222222222222,
              "#7201a8"
             ],
             [
              0.3333333333333333,
              "#9c179e"
             ],
             [
              0.4444444444444444,
              "#bd3786"
             ],
             [
              0.5555555555555556,
              "#d8576b"
             ],
             [
              0.6666666666666666,
              "#ed7953"
             ],
             [
              0.7777777777777778,
              "#fb9f3a"
             ],
             [
              0.8888888888888888,
              "#fdca26"
             ],
             [
              1,
              "#f0f921"
             ]
            ],
            "type": "histogram2dcontour"
           }
          ],
          "mesh3d": [
           {
            "colorbar": {
             "outlinewidth": 0,
             "ticks": ""
            },
            "type": "mesh3d"
           }
          ],
          "parcoords": [
           {
            "line": {
             "colorbar": {
              "outlinewidth": 0,
              "ticks": ""
             }
            },
            "type": "parcoords"
           }
          ],
          "pie": [
           {
            "automargin": true,
            "type": "pie"
           }
          ],
          "scatter": [
           {
            "marker": {
             "colorbar": {
              "outlinewidth": 0,
              "ticks": ""
             }
            },
            "type": "scatter"
           }
          ],
          "scatter3d": [
           {
            "line": {
             "colorbar": {
              "outlinewidth": 0,
              "ticks": ""
             }
            },
            "marker": {
             "colorbar": {
              "outlinewidth": 0,
              "ticks": ""
             }
            },
            "type": "scatter3d"
           }
          ],
          "scattercarpet": [
           {
            "marker": {
             "colorbar": {
              "outlinewidth": 0,
              "ticks": ""
             }
            },
            "type": "scattercarpet"
           }
          ],
          "scattergeo": [
           {
            "marker": {
             "colorbar": {
              "outlinewidth": 0,
              "ticks": ""
             }
            },
            "type": "scattergeo"
           }
          ],
          "scattergl": [
           {
            "marker": {
             "colorbar": {
              "outlinewidth": 0,
              "ticks": ""
             }
            },
            "type": "scattergl"
           }
          ],
          "scattermapbox": [
           {
            "marker": {
             "colorbar": {
              "outlinewidth": 0,
              "ticks": ""
             }
            },
            "type": "scattermapbox"
           }
          ],
          "scatterpolar": [
           {
            "marker": {
             "colorbar": {
              "outlinewidth": 0,
              "ticks": ""
             }
            },
            "type": "scatterpolar"
           }
          ],
          "scatterpolargl": [
           {
            "marker": {
             "colorbar": {
              "outlinewidth": 0,
              "ticks": ""
             }
            },
            "type": "scatterpolargl"
           }
          ],
          "scatterternary": [
           {
            "marker": {
             "colorbar": {
              "outlinewidth": 0,
              "ticks": ""
             }
            },
            "type": "scatterternary"
           }
          ],
          "surface": [
           {
            "colorbar": {
             "outlinewidth": 0,
             "ticks": ""
            },
            "colorscale": [
             [
              0,
              "#0d0887"
             ],
             [
              0.1111111111111111,
              "#46039f"
             ],
             [
              0.2222222222222222,
              "#7201a8"
             ],
             [
              0.3333333333333333,
              "#9c179e"
             ],
             [
              0.4444444444444444,
              "#bd3786"
             ],
             [
              0.5555555555555556,
              "#d8576b"
             ],
             [
              0.6666666666666666,
              "#ed7953"
             ],
             [
              0.7777777777777778,
              "#fb9f3a"
             ],
             [
              0.8888888888888888,
              "#fdca26"
             ],
             [
              1,
              "#f0f921"
             ]
            ],
            "type": "surface"
           }
          ],
          "table": [
           {
            "cells": {
             "fill": {
              "color": "#EBF0F8"
             },
             "line": {
              "color": "white"
             }
            },
            "header": {
             "fill": {
              "color": "#C8D4E3"
             },
             "line": {
              "color": "white"
             }
            },
            "type": "table"
           }
          ]
         },
         "layout": {
          "annotationdefaults": {
           "arrowcolor": "#2a3f5f",
           "arrowhead": 0,
           "arrowwidth": 1
          },
          "autotypenumbers": "strict",
          "coloraxis": {
           "colorbar": {
            "outlinewidth": 0,
            "ticks": ""
           }
          },
          "colorscale": {
           "diverging": [
            [
             0,
             "#8e0152"
            ],
            [
             0.1,
             "#c51b7d"
            ],
            [
             0.2,
             "#de77ae"
            ],
            [
             0.3,
             "#f1b6da"
            ],
            [
             0.4,
             "#fde0ef"
            ],
            [
             0.5,
             "#f7f7f7"
            ],
            [
             0.6,
             "#e6f5d0"
            ],
            [
             0.7,
             "#b8e186"
            ],
            [
             0.8,
             "#7fbc41"
            ],
            [
             0.9,
             "#4d9221"
            ],
            [
             1,
             "#276419"
            ]
           ],
           "sequential": [
            [
             0,
             "#0d0887"
            ],
            [
             0.1111111111111111,
             "#46039f"
            ],
            [
             0.2222222222222222,
             "#7201a8"
            ],
            [
             0.3333333333333333,
             "#9c179e"
            ],
            [
             0.4444444444444444,
             "#bd3786"
            ],
            [
             0.5555555555555556,
             "#d8576b"
            ],
            [
             0.6666666666666666,
             "#ed7953"
            ],
            [
             0.7777777777777778,
             "#fb9f3a"
            ],
            [
             0.8888888888888888,
             "#fdca26"
            ],
            [
             1,
             "#f0f921"
            ]
           ],
           "sequentialminus": [
            [
             0,
             "#0d0887"
            ],
            [
             0.1111111111111111,
             "#46039f"
            ],
            [
             0.2222222222222222,
             "#7201a8"
            ],
            [
             0.3333333333333333,
             "#9c179e"
            ],
            [
             0.4444444444444444,
             "#bd3786"
            ],
            [
             0.5555555555555556,
             "#d8576b"
            ],
            [
             0.6666666666666666,
             "#ed7953"
            ],
            [
             0.7777777777777778,
             "#fb9f3a"
            ],
            [
             0.8888888888888888,
             "#fdca26"
            ],
            [
             1,
             "#f0f921"
            ]
           ]
          },
          "colorway": [
           "#636efa",
           "#EF553B",
           "#00cc96",
           "#ab63fa",
           "#FFA15A",
           "#19d3f3",
           "#FF6692",
           "#B6E880",
           "#FF97FF",
           "#FECB52"
          ],
          "font": {
           "color": "#2a3f5f"
          },
          "geo": {
           "bgcolor": "white",
           "lakecolor": "white",
           "landcolor": "#E5ECF6",
           "showlakes": true,
           "showland": true,
           "subunitcolor": "white"
          },
          "hoverlabel": {
           "align": "left"
          },
          "hovermode": "closest",
          "mapbox": {
           "style": "light"
          },
          "paper_bgcolor": "white",
          "plot_bgcolor": "#E5ECF6",
          "polar": {
           "angularaxis": {
            "gridcolor": "white",
            "linecolor": "white",
            "ticks": ""
           },
           "bgcolor": "#E5ECF6",
           "radialaxis": {
            "gridcolor": "white",
            "linecolor": "white",
            "ticks": ""
           }
          },
          "scene": {
           "xaxis": {
            "backgroundcolor": "#E5ECF6",
            "gridcolor": "white",
            "gridwidth": 2,
            "linecolor": "white",
            "showbackground": true,
            "ticks": "",
            "zerolinecolor": "white"
           },
           "yaxis": {
            "backgroundcolor": "#E5ECF6",
            "gridcolor": "white",
            "gridwidth": 2,
            "linecolor": "white",
            "showbackground": true,
            "ticks": "",
            "zerolinecolor": "white"
           },
           "zaxis": {
            "backgroundcolor": "#E5ECF6",
            "gridcolor": "white",
            "gridwidth": 2,
            "linecolor": "white",
            "showbackground": true,
            "ticks": "",
            "zerolinecolor": "white"
           }
          },
          "shapedefaults": {
           "line": {
            "color": "#2a3f5f"
           }
          },
          "ternary": {
           "aaxis": {
            "gridcolor": "white",
            "linecolor": "white",
            "ticks": ""
           },
           "baxis": {
            "gridcolor": "white",
            "linecolor": "white",
            "ticks": ""
           },
           "bgcolor": "#E5ECF6",
           "caxis": {
            "gridcolor": "white",
            "linecolor": "white",
            "ticks": ""
           }
          },
          "title": {
           "x": 0.05
          },
          "xaxis": {
           "automargin": true,
           "gridcolor": "white",
           "linecolor": "white",
           "ticks": "",
           "title": {
            "standoff": 15
           },
           "zerolinecolor": "white",
           "zerolinewidth": 2
          },
          "yaxis": {
           "automargin": true,
           "gridcolor": "white",
           "linecolor": "white",
           "ticks": "",
           "title": {
            "standoff": 15
           },
           "zerolinecolor": "white",
           "zerolinewidth": 2
          }
         }
        },
        "title": {
         "text": "Número de tuits por día"
        }
       }
      },
      "text/html": [
       "<div>                            <div id=\"23c44dca-29fc-4fce-ae70-aa1677df6d61\" class=\"plotly-graph-div\" style=\"height:525px; width:100%;\"></div>            <script type=\"text/javascript\">                require([\"plotly\"], function(Plotly) {                    window.PLOTLYENV=window.PLOTLYENV || {};                                    if (document.getElementById(\"23c44dca-29fc-4fce-ae70-aa1677df6d61\")) {                    Plotly.newPlot(                        \"23c44dca-29fc-4fce-ae70-aa1677df6d61\",                        [{\"hoverinfo\": \"text\", \"line\": {\"color\": \"#1DA1F2\"}, \"mode\": \"lines+markers\", \"name\": \"D\\u00edas\", \"text\": [\"Fecha: 2020-12-07<br>Tuits: 158\", \"Fecha: 2020-12-08<br>Tuits: 7\", \"Fecha: 2020-12-09<br>Tuits: 10\", \"Fecha: 2020-12-10<br>Tuits: 2\", \"Fecha: 2020-12-11<br>Tuits: 96\", \"Fecha: 2020-12-13<br>Tuits: 31\", \"Fecha: 2020-12-14<br>Tuits: 20\", \"Fecha: 2021-03-06<br>Tuits: 1\", \"Fecha: 2021-03-09<br>Tuits: 1\"], \"type\": \"scatter\", \"x\": [\"2020-12-07\", \"2020-12-08\", \"2020-12-09\", \"2020-12-10\", \"2020-12-11\", \"2020-12-13\", \"2020-12-14\", \"2021-03-06\", \"2021-03-09\"], \"y\": [158, 7, 10, 2, 96, 31, 20, 1, 1]}],                        {\"template\": {\"data\": {\"bar\": [{\"error_x\": {\"color\": \"#2a3f5f\"}, \"error_y\": {\"color\": \"#2a3f5f\"}, \"marker\": {\"line\": {\"color\": \"#E5ECF6\", \"width\": 0.5}}, \"type\": \"bar\"}], \"barpolar\": [{\"marker\": {\"line\": {\"color\": \"#E5ECF6\", \"width\": 0.5}}, \"type\": \"barpolar\"}], \"carpet\": [{\"aaxis\": {\"endlinecolor\": \"#2a3f5f\", \"gridcolor\": \"white\", \"linecolor\": \"white\", \"minorgridcolor\": \"white\", \"startlinecolor\": \"#2a3f5f\"}, \"baxis\": {\"endlinecolor\": \"#2a3f5f\", \"gridcolor\": \"white\", \"linecolor\": \"white\", \"minorgridcolor\": \"white\", \"startlinecolor\": \"#2a3f5f\"}, \"type\": \"carpet\"}], \"choropleth\": [{\"colorbar\": {\"outlinewidth\": 0, \"ticks\": \"\"}, \"type\": \"choropleth\"}], \"contour\": [{\"colorbar\": {\"outlinewidth\": 0, \"ticks\": \"\"}, \"colorscale\": [[0.0, \"#0d0887\"], [0.1111111111111111, \"#46039f\"], [0.2222222222222222, \"#7201a8\"], [0.3333333333333333, \"#9c179e\"], [0.4444444444444444, \"#bd3786\"], [0.5555555555555556, \"#d8576b\"], [0.6666666666666666, \"#ed7953\"], [0.7777777777777778, \"#fb9f3a\"], [0.8888888888888888, \"#fdca26\"], [1.0, \"#f0f921\"]], \"type\": \"contour\"}], \"contourcarpet\": [{\"colorbar\": {\"outlinewidth\": 0, \"ticks\": \"\"}, \"type\": \"contourcarpet\"}], \"heatmap\": [{\"colorbar\": {\"outlinewidth\": 0, \"ticks\": \"\"}, \"colorscale\": [[0.0, \"#0d0887\"], [0.1111111111111111, \"#46039f\"], [0.2222222222222222, \"#7201a8\"], [0.3333333333333333, \"#9c179e\"], [0.4444444444444444, \"#bd3786\"], [0.5555555555555556, \"#d8576b\"], [0.6666666666666666, \"#ed7953\"], [0.7777777777777778, \"#fb9f3a\"], [0.8888888888888888, \"#fdca26\"], [1.0, \"#f0f921\"]], \"type\": \"heatmap\"}], \"heatmapgl\": [{\"colorbar\": {\"outlinewidth\": 0, \"ticks\": \"\"}, \"colorscale\": [[0.0, \"#0d0887\"], [0.1111111111111111, \"#46039f\"], [0.2222222222222222, \"#7201a8\"], [0.3333333333333333, \"#9c179e\"], [0.4444444444444444, \"#bd3786\"], [0.5555555555555556, \"#d8576b\"], [0.6666666666666666, \"#ed7953\"], [0.7777777777777778, \"#fb9f3a\"], [0.8888888888888888, \"#fdca26\"], [1.0, \"#f0f921\"]], \"type\": \"heatmapgl\"}], \"histogram\": [{\"marker\": {\"colorbar\": {\"outlinewidth\": 0, \"ticks\": \"\"}}, \"type\": \"histogram\"}], \"histogram2d\": [{\"colorbar\": {\"outlinewidth\": 0, \"ticks\": \"\"}, \"colorscale\": [[0.0, \"#0d0887\"], [0.1111111111111111, \"#46039f\"], [0.2222222222222222, \"#7201a8\"], [0.3333333333333333, \"#9c179e\"], [0.4444444444444444, \"#bd3786\"], [0.5555555555555556, \"#d8576b\"], [0.6666666666666666, \"#ed7953\"], [0.7777777777777778, \"#fb9f3a\"], [0.8888888888888888, \"#fdca26\"], [1.0, \"#f0f921\"]], \"type\": \"histogram2d\"}], \"histogram2dcontour\": [{\"colorbar\": {\"outlinewidth\": 0, \"ticks\": \"\"}, \"colorscale\": [[0.0, \"#0d0887\"], [0.1111111111111111, \"#46039f\"], [0.2222222222222222, \"#7201a8\"], [0.3333333333333333, \"#9c179e\"], [0.4444444444444444, \"#bd3786\"], [0.5555555555555556, \"#d8576b\"], [0.6666666666666666, \"#ed7953\"], [0.7777777777777778, \"#fb9f3a\"], [0.8888888888888888, \"#fdca26\"], [1.0, \"#f0f921\"]], \"type\": \"histogram2dcontour\"}], \"mesh3d\": [{\"colorbar\": {\"outlinewidth\": 0, \"ticks\": \"\"}, \"type\": \"mesh3d\"}], \"parcoords\": [{\"line\": {\"colorbar\": {\"outlinewidth\": 0, \"ticks\": \"\"}}, \"type\": \"parcoords\"}], \"pie\": [{\"automargin\": true, \"type\": \"pie\"}], \"scatter\": [{\"marker\": {\"colorbar\": {\"outlinewidth\": 0, \"ticks\": \"\"}}, \"type\": \"scatter\"}], \"scatter3d\": [{\"line\": {\"colorbar\": {\"outlinewidth\": 0, \"ticks\": \"\"}}, \"marker\": {\"colorbar\": {\"outlinewidth\": 0, \"ticks\": \"\"}}, \"type\": \"scatter3d\"}], \"scattercarpet\": [{\"marker\": {\"colorbar\": {\"outlinewidth\": 0, \"ticks\": \"\"}}, \"type\": \"scattercarpet\"}], \"scattergeo\": [{\"marker\": {\"colorbar\": {\"outlinewidth\": 0, \"ticks\": \"\"}}, \"type\": \"scattergeo\"}], \"scattergl\": [{\"marker\": {\"colorbar\": {\"outlinewidth\": 0, \"ticks\": \"\"}}, \"type\": \"scattergl\"}], \"scattermapbox\": [{\"marker\": {\"colorbar\": {\"outlinewidth\": 0, \"ticks\": \"\"}}, \"type\": \"scattermapbox\"}], \"scatterpolar\": [{\"marker\": {\"colorbar\": {\"outlinewidth\": 0, \"ticks\": \"\"}}, \"type\": \"scatterpolar\"}], \"scatterpolargl\": [{\"marker\": {\"colorbar\": {\"outlinewidth\": 0, \"ticks\": \"\"}}, \"type\": \"scatterpolargl\"}], \"scatterternary\": [{\"marker\": {\"colorbar\": {\"outlinewidth\": 0, \"ticks\": \"\"}}, \"type\": \"scatterternary\"}], \"surface\": [{\"colorbar\": {\"outlinewidth\": 0, \"ticks\": \"\"}, \"colorscale\": [[0.0, \"#0d0887\"], [0.1111111111111111, \"#46039f\"], [0.2222222222222222, \"#7201a8\"], [0.3333333333333333, \"#9c179e\"], [0.4444444444444444, \"#bd3786\"], [0.5555555555555556, \"#d8576b\"], [0.6666666666666666, \"#ed7953\"], [0.7777777777777778, \"#fb9f3a\"], [0.8888888888888888, \"#fdca26\"], [1.0, \"#f0f921\"]], \"type\": \"surface\"}], \"table\": [{\"cells\": {\"fill\": {\"color\": \"#EBF0F8\"}, \"line\": {\"color\": \"white\"}}, \"header\": {\"fill\": {\"color\": \"#C8D4E3\"}, \"line\": {\"color\": \"white\"}}, \"type\": \"table\"}]}, \"layout\": {\"annotationdefaults\": {\"arrowcolor\": \"#2a3f5f\", \"arrowhead\": 0, \"arrowwidth\": 1}, \"autotypenumbers\": \"strict\", \"coloraxis\": {\"colorbar\": {\"outlinewidth\": 0, \"ticks\": \"\"}}, \"colorscale\": {\"diverging\": [[0, \"#8e0152\"], [0.1, \"#c51b7d\"], [0.2, \"#de77ae\"], [0.3, \"#f1b6da\"], [0.4, \"#fde0ef\"], [0.5, \"#f7f7f7\"], [0.6, \"#e6f5d0\"], [0.7, \"#b8e186\"], [0.8, \"#7fbc41\"], [0.9, \"#4d9221\"], [1, \"#276419\"]], \"sequential\": [[0.0, \"#0d0887\"], [0.1111111111111111, \"#46039f\"], [0.2222222222222222, \"#7201a8\"], [0.3333333333333333, \"#9c179e\"], [0.4444444444444444, \"#bd3786\"], [0.5555555555555556, \"#d8576b\"], [0.6666666666666666, \"#ed7953\"], [0.7777777777777778, \"#fb9f3a\"], [0.8888888888888888, \"#fdca26\"], [1.0, \"#f0f921\"]], \"sequentialminus\": [[0.0, \"#0d0887\"], [0.1111111111111111, \"#46039f\"], [0.2222222222222222, \"#7201a8\"], [0.3333333333333333, \"#9c179e\"], [0.4444444444444444, \"#bd3786\"], [0.5555555555555556, \"#d8576b\"], [0.6666666666666666, \"#ed7953\"], [0.7777777777777778, \"#fb9f3a\"], [0.8888888888888888, \"#fdca26\"], [1.0, \"#f0f921\"]]}, \"colorway\": [\"#636efa\", \"#EF553B\", \"#00cc96\", \"#ab63fa\", \"#FFA15A\", \"#19d3f3\", \"#FF6692\", \"#B6E880\", \"#FF97FF\", \"#FECB52\"], \"font\": {\"color\": \"#2a3f5f\"}, \"geo\": {\"bgcolor\": \"white\", \"lakecolor\": \"white\", \"landcolor\": \"#E5ECF6\", \"showlakes\": true, \"showland\": true, \"subunitcolor\": \"white\"}, \"hoverlabel\": {\"align\": \"left\"}, \"hovermode\": \"closest\", \"mapbox\": {\"style\": \"light\"}, \"paper_bgcolor\": \"white\", \"plot_bgcolor\": \"#E5ECF6\", \"polar\": {\"angularaxis\": {\"gridcolor\": \"white\", \"linecolor\": \"white\", \"ticks\": \"\"}, \"bgcolor\": \"#E5ECF6\", \"radialaxis\": {\"gridcolor\": \"white\", \"linecolor\": \"white\", \"ticks\": \"\"}}, \"scene\": {\"xaxis\": {\"backgroundcolor\": \"#E5ECF6\", \"gridcolor\": \"white\", \"gridwidth\": 2, \"linecolor\": \"white\", \"showbackground\": true, \"ticks\": \"\", \"zerolinecolor\": \"white\"}, \"yaxis\": {\"backgroundcolor\": \"#E5ECF6\", \"gridcolor\": \"white\", \"gridwidth\": 2, \"linecolor\": \"white\", \"showbackground\": true, \"ticks\": \"\", \"zerolinecolor\": \"white\"}, \"zaxis\": {\"backgroundcolor\": \"#E5ECF6\", \"gridcolor\": \"white\", \"gridwidth\": 2, \"linecolor\": \"white\", \"showbackground\": true, \"ticks\": \"\", \"zerolinecolor\": \"white\"}}, \"shapedefaults\": {\"line\": {\"color\": \"#2a3f5f\"}}, \"ternary\": {\"aaxis\": {\"gridcolor\": \"white\", \"linecolor\": \"white\", \"ticks\": \"\"}, \"baxis\": {\"gridcolor\": \"white\", \"linecolor\": \"white\", \"ticks\": \"\"}, \"bgcolor\": \"#E5ECF6\", \"caxis\": {\"gridcolor\": \"white\", \"linecolor\": \"white\", \"ticks\": \"\"}}, \"title\": {\"x\": 0.05}, \"xaxis\": {\"automargin\": true, \"gridcolor\": \"white\", \"linecolor\": \"white\", \"ticks\": \"\", \"title\": {\"standoff\": 15}, \"zerolinecolor\": \"white\", \"zerolinewidth\": 2}, \"yaxis\": {\"automargin\": true, \"gridcolor\": \"white\", \"linecolor\": \"white\", \"ticks\": \"\", \"title\": {\"standoff\": 15}, \"zerolinecolor\": \"white\", \"zerolinewidth\": 2}}}, \"title\": {\"text\": \"N\\u00famero de tuits por d\\u00eda\"}},                        {\"responsive\": true}                    ).then(function(){\n",
       "                            \n",
       "var gd = document.getElementById('23c44dca-29fc-4fce-ae70-aa1677df6d61');\n",
       "var x = new MutationObserver(function (mutations, observer) {{\n",
       "        var display = window.getComputedStyle(gd).display;\n",
       "        if (!display || display === 'none') {{\n",
       "            console.log([gd, 'removed!']);\n",
       "            Plotly.purge(gd);\n",
       "            observer.disconnect();\n",
       "        }}\n",
       "}});\n",
       "\n",
       "// Listen for the removal of the full notebook cells\n",
       "var notebookContainer = gd.closest('#notebook-container');\n",
       "if (notebookContainer) {{\n",
       "    x.observe(notebookContainer, {childList: true});\n",
       "}}\n",
       "\n",
       "// Listen for the clearing of the current output cell\n",
       "var outputEl = gd.closest('.output');\n",
       "if (outputEl) {{\n",
       "    x.observe(outputEl, {childList: true});\n",
       "}}\n",
       "\n",
       "                        })                };                });            </script>        </div>"
      ]
     },
     "metadata": {},
     "output_type": "display_data"
    }
   ],
   "source": [
    "trace = go.Scatter(x=temp.fecha.values,\n",
    "                   y=temp.cnt.values,\n",
    "                   text=[f\"Fecha: {f}<br>Tuits: {c}\" for f,c in zip(temp.fecha.values,temp.cnt.values)],\n",
    "                   hoverinfo='text',\n",
    "                   mode='lines+markers',\n",
    "                   name='Días',\n",
    "                   line={'color':'#1DA1F2'})\n",
    "\n",
    "layout = go.Layout(title='Número de tuits por día')\n",
    "\n",
    "fig = go.Figure(data=[trace], layout=layout)\n",
    "iplot(fig)"
   ]
  },
  {
   "cell_type": "markdown",
   "metadata": {},
   "source": [
    "## tuits NEGATIVOS"
   ]
  },
  {
   "cell_type": "code",
   "execution_count": 24,
   "metadata": {},
   "outputs": [
    {
     "data": {
      "text/html": [
       "<div>\n",
       "<style scoped>\n",
       "    .dataframe tbody tr th:only-of-type {\n",
       "        vertical-align: middle;\n",
       "    }\n",
       "\n",
       "    .dataframe tbody tr th {\n",
       "        vertical-align: top;\n",
       "    }\n",
       "\n",
       "    .dataframe thead th {\n",
       "        text-align: right;\n",
       "    }\n",
       "</style>\n",
       "<table border=\"1\" class=\"dataframe\">\n",
       "  <thead>\n",
       "    <tr style=\"text-align: right;\">\n",
       "      <th></th>\n",
       "      <th>links</th>\n",
       "      <th>fecha</th>\n",
       "      <th>tweet</th>\n",
       "      <th>PP</th>\n",
       "      <th>sent_flair</th>\n",
       "    </tr>\n",
       "  </thead>\n",
       "  <tbody>\n",
       "    <tr>\n",
       "      <th>8</th>\n",
       "      <td>https://twitter.com/issa_ave/status/1338279904...</td>\n",
       "      <td>2020-12-14 00:29:27+00:00</td>\n",
       "      <td>Yo te quiero @SantaFe ♥️🦁🔥 #LIGAFEMENINAxWIN h...</td>\n",
       "      <td>[quiero, santafe, ligafemeninaxwin, https, t, ...</td>\n",
       "      <td>-0.930527</td>\n",
       "    </tr>\n",
       "    <tr>\n",
       "      <th>14</th>\n",
       "      <td>https://twitter.com/DeportesTotal8/status/1338...</td>\n",
       "      <td>2020-12-14 00:16:29+00:00</td>\n",
       "      <td>🥳🥳🥳CAMPEONAS🥳🥳🥳\\nIndependiente Santa Fe femeni...</td>\n",
       "      <td>[campeonas, independiente, santa, fe, femenino...</td>\n",
       "      <td>-0.946711</td>\n",
       "    </tr>\n",
       "    <tr>\n",
       "      <th>28</th>\n",
       "      <td>https://twitter.com/soniaramirezad/status/1338...</td>\n",
       "      <td>2020-12-13 23:55:28+00:00</td>\n",
       "      <td>@fpcwin \\nVamos LEONAS a ser CAMPEONAS como la...</td>\n",
       "      <td>[fpcwin, vamos, leonas, ser, campeonas, primer...</td>\n",
       "      <td>-0.568177</td>\n",
       "    </tr>\n",
       "    <tr>\n",
       "      <th>41</th>\n",
       "      <td>https://twitter.com/CRISTHIANBAR/status/133826...</td>\n",
       "      <td>2020-12-13 23:39:16+00:00</td>\n",
       "      <td>#LIGAFEMENINAxWIN Vamos Santa Fe, queremos la ...</td>\n",
       "      <td>[ligafemeninaxwin, vamos, santa, fe, queremos,...</td>\n",
       "      <td>-0.633194</td>\n",
       "    </tr>\n",
       "    <tr>\n",
       "      <th>43</th>\n",
       "      <td>https://twitter.com/aldobeltrancx/status/13382...</td>\n",
       "      <td>2020-12-13 23:36:17+00:00</td>\n",
       "      <td>#LIGAFEMENINAxWIN Nadie vió el penal sin balón...</td>\n",
       "      <td>[ligafemeninaxwin, nadie, vió, penal, balón, s...</td>\n",
       "      <td>-0.999541</td>\n",
       "    </tr>\n",
       "  </tbody>\n",
       "</table>\n",
       "</div>"
      ],
      "text/plain": [
       "                                                links  \\\n",
       "8   https://twitter.com/issa_ave/status/1338279904...   \n",
       "14  https://twitter.com/DeportesTotal8/status/1338...   \n",
       "28  https://twitter.com/soniaramirezad/status/1338...   \n",
       "41  https://twitter.com/CRISTHIANBAR/status/133826...   \n",
       "43  https://twitter.com/aldobeltrancx/status/13382...   \n",
       "\n",
       "                       fecha  \\\n",
       "8  2020-12-14 00:29:27+00:00   \n",
       "14 2020-12-14 00:16:29+00:00   \n",
       "28 2020-12-13 23:55:28+00:00   \n",
       "41 2020-12-13 23:39:16+00:00   \n",
       "43 2020-12-13 23:36:17+00:00   \n",
       "\n",
       "                                                tweet  \\\n",
       "8   Yo te quiero @SantaFe ♥️🦁🔥 #LIGAFEMENINAxWIN h...   \n",
       "14  🥳🥳🥳CAMPEONAS🥳🥳🥳\\nIndependiente Santa Fe femeni...   \n",
       "28  @fpcwin \\nVamos LEONAS a ser CAMPEONAS como la...   \n",
       "41  #LIGAFEMENINAxWIN Vamos Santa Fe, queremos la ...   \n",
       "43  #LIGAFEMENINAxWIN Nadie vió el penal sin balón...   \n",
       "\n",
       "                                                   PP  sent_flair  \n",
       "8   [quiero, santafe, ligafemeninaxwin, https, t, ...   -0.930527  \n",
       "14  [campeonas, independiente, santa, fe, femenino...   -0.946711  \n",
       "28  [fpcwin, vamos, leonas, ser, campeonas, primer...   -0.568177  \n",
       "41  [ligafemeninaxwin, vamos, santa, fe, queremos,...   -0.633194  \n",
       "43  [ligafemeninaxwin, nadie, vió, penal, balón, s...   -0.999541  "
      ]
     },
     "execution_count": 24,
     "metadata": {},
     "output_type": "execute_result"
    }
   ],
   "source": [
    "negativos= bd_twitter >> filter_by(X.sent_flair<0) \n",
    "negativos.head()"
   ]
  },
  {
   "cell_type": "code",
   "execution_count": 25,
   "metadata": {},
   "outputs": [],
   "source": [
    "import regex\n",
    "import emoji\n",
    "\n",
    "def get_emojis(text):\n",
    "    emoji_list = []\n",
    "    negativos = regex.findall(r'\\X', text)\n",
    "    for word in negativos:\n",
    "        if any(char in emoji.UNICODE_EMOJI['en'] for char in word):\n",
    "            emoji_list.append(word)\n",
    "\n",
    "    return emoji_list\n",
    "\n",
    "negativos['emojis'] = negativos['tweet'].apply(lambda text: get_emojis(text))"
   ]
  },
  {
   "cell_type": "code",
   "execution_count": 26,
   "metadata": {},
   "outputs": [
    {
     "data": {
      "text/html": [
       "<div>\n",
       "<style scoped>\n",
       "    .dataframe tbody tr th:only-of-type {\n",
       "        vertical-align: middle;\n",
       "    }\n",
       "\n",
       "    .dataframe tbody tr th {\n",
       "        vertical-align: top;\n",
       "    }\n",
       "\n",
       "    .dataframe thead th {\n",
       "        text-align: right;\n",
       "    }\n",
       "</style>\n",
       "<table border=\"1\" class=\"dataframe\">\n",
       "  <thead>\n",
       "    <tr style=\"text-align: right;\">\n",
       "      <th></th>\n",
       "      <th>links</th>\n",
       "      <th>fecha</th>\n",
       "      <th>tweet</th>\n",
       "      <th>PP</th>\n",
       "      <th>sent_flair</th>\n",
       "      <th>emojis</th>\n",
       "    </tr>\n",
       "  </thead>\n",
       "  <tbody>\n",
       "    <tr>\n",
       "      <th>8</th>\n",
       "      <td>https://twitter.com/issa_ave/status/1338279904...</td>\n",
       "      <td>2020-12-14 00:29:27+00:00</td>\n",
       "      <td>Yo te quiero @SantaFe ♥️🦁🔥 #LIGAFEMENINAxWIN h...</td>\n",
       "      <td>[quiero, santafe, ligafemeninaxwin, https, t, ...</td>\n",
       "      <td>-0.930527</td>\n",
       "      <td>[♥️, 🦁, 🔥]</td>\n",
       "    </tr>\n",
       "    <tr>\n",
       "      <th>14</th>\n",
       "      <td>https://twitter.com/DeportesTotal8/status/1338...</td>\n",
       "      <td>2020-12-14 00:16:29+00:00</td>\n",
       "      <td>🥳🥳🥳CAMPEONAS🥳🥳🥳\\nIndependiente Santa Fe femeni...</td>\n",
       "      <td>[campeonas, independiente, santa, fe, femenino...</td>\n",
       "      <td>-0.946711</td>\n",
       "      <td>[🥳, 🥳, 🥳, 🥳, 🥳, 🥳]</td>\n",
       "    </tr>\n",
       "    <tr>\n",
       "      <th>28</th>\n",
       "      <td>https://twitter.com/soniaramirezad/status/1338...</td>\n",
       "      <td>2020-12-13 23:55:28+00:00</td>\n",
       "      <td>@fpcwin \\nVamos LEONAS a ser CAMPEONAS como la...</td>\n",
       "      <td>[fpcwin, vamos, leonas, ser, campeonas, primer...</td>\n",
       "      <td>-0.568177</td>\n",
       "      <td>[]</td>\n",
       "    </tr>\n",
       "    <tr>\n",
       "      <th>41</th>\n",
       "      <td>https://twitter.com/CRISTHIANBAR/status/133826...</td>\n",
       "      <td>2020-12-13 23:39:16+00:00</td>\n",
       "      <td>#LIGAFEMENINAxWIN Vamos Santa Fe, queremos la ...</td>\n",
       "      <td>[ligafemeninaxwin, vamos, santa, fe, queremos,...</td>\n",
       "      <td>-0.633194</td>\n",
       "      <td>[]</td>\n",
       "    </tr>\n",
       "    <tr>\n",
       "      <th>43</th>\n",
       "      <td>https://twitter.com/aldobeltrancx/status/13382...</td>\n",
       "      <td>2020-12-13 23:36:17+00:00</td>\n",
       "      <td>#LIGAFEMENINAxWIN Nadie vió el penal sin balón...</td>\n",
       "      <td>[ligafemeninaxwin, nadie, vió, penal, balón, s...</td>\n",
       "      <td>-0.999541</td>\n",
       "      <td>[]</td>\n",
       "    </tr>\n",
       "  </tbody>\n",
       "</table>\n",
       "</div>"
      ],
      "text/plain": [
       "                                                links  \\\n",
       "8   https://twitter.com/issa_ave/status/1338279904...   \n",
       "14  https://twitter.com/DeportesTotal8/status/1338...   \n",
       "28  https://twitter.com/soniaramirezad/status/1338...   \n",
       "41  https://twitter.com/CRISTHIANBAR/status/133826...   \n",
       "43  https://twitter.com/aldobeltrancx/status/13382...   \n",
       "\n",
       "                       fecha  \\\n",
       "8  2020-12-14 00:29:27+00:00   \n",
       "14 2020-12-14 00:16:29+00:00   \n",
       "28 2020-12-13 23:55:28+00:00   \n",
       "41 2020-12-13 23:39:16+00:00   \n",
       "43 2020-12-13 23:36:17+00:00   \n",
       "\n",
       "                                                tweet  \\\n",
       "8   Yo te quiero @SantaFe ♥️🦁🔥 #LIGAFEMENINAxWIN h...   \n",
       "14  🥳🥳🥳CAMPEONAS🥳🥳🥳\\nIndependiente Santa Fe femeni...   \n",
       "28  @fpcwin \\nVamos LEONAS a ser CAMPEONAS como la...   \n",
       "41  #LIGAFEMENINAxWIN Vamos Santa Fe, queremos la ...   \n",
       "43  #LIGAFEMENINAxWIN Nadie vió el penal sin balón...   \n",
       "\n",
       "                                                   PP  sent_flair  \\\n",
       "8   [quiero, santafe, ligafemeninaxwin, https, t, ...   -0.930527   \n",
       "14  [campeonas, independiente, santa, fe, femenino...   -0.946711   \n",
       "28  [fpcwin, vamos, leonas, ser, campeonas, primer...   -0.568177   \n",
       "41  [ligafemeninaxwin, vamos, santa, fe, queremos,...   -0.633194   \n",
       "43  [ligafemeninaxwin, nadie, vió, penal, balón, s...   -0.999541   \n",
       "\n",
       "                emojis  \n",
       "8           [♥️, 🦁, 🔥]  \n",
       "14  [🥳, 🥳, 🥳, 🥳, 🥳, 🥳]  \n",
       "28                  []  \n",
       "41                  []  \n",
       "43                  []  "
      ]
     },
     "execution_count": 26,
     "metadata": {},
     "output_type": "execute_result"
    }
   ],
   "source": [
    "negativos.head()"
   ]
  },
  {
   "cell_type": "code",
   "execution_count": 27,
   "metadata": {},
   "outputs": [
    {
     "data": {
      "text/html": [
       "        <script type=\"text/javascript\">\n",
       "        window.PlotlyConfig = {MathJaxConfig: 'local'};\n",
       "        if (window.MathJax) {MathJax.Hub.Config({SVG: {font: \"STIX-Web\"}});}\n",
       "        if (typeof require !== 'undefined') {\n",
       "        require.undef(\"plotly\");\n",
       "        requirejs.config({\n",
       "            paths: {\n",
       "                'plotly': ['https://cdn.plot.ly/plotly-latest.min']\n",
       "            }\n",
       "        });\n",
       "        require(['plotly'], function(Plotly) {\n",
       "            window._Plotly = Plotly;\n",
       "        });\n",
       "        }\n",
       "        </script>\n",
       "        "
      ]
     },
     "metadata": {},
     "output_type": "display_data"
    }
   ],
   "source": [
    "import plotly.io as pio\n",
    "import plotly.express as px\n",
    "import plotly.graph_objs as go\n",
    "from plotly.offline import download_plotlyjs, init_notebook_mode, plot, iplot\n",
    "\n",
    "import matplotlib.pyplot as plt\n",
    "%matplotlib inline\n",
    "init_notebook_mode(connected=True)"
   ]
  },
  {
   "cell_type": "code",
   "execution_count": 29,
   "metadata": {},
   "outputs": [
    {
     "data": {
      "text/html": [
       "<div>\n",
       "<style scoped>\n",
       "    .dataframe tbody tr th:only-of-type {\n",
       "        vertical-align: middle;\n",
       "    }\n",
       "\n",
       "    .dataframe tbody tr th {\n",
       "        vertical-align: top;\n",
       "    }\n",
       "\n",
       "    .dataframe thead th {\n",
       "        text-align: right;\n",
       "    }\n",
       "</style>\n",
       "<table border=\"1\" class=\"dataframe\">\n",
       "  <thead>\n",
       "    <tr style=\"text-align: right;\">\n",
       "      <th></th>\n",
       "      <th>emoji</th>\n",
       "      <th>cnt</th>\n",
       "    </tr>\n",
       "  </thead>\n",
       "  <tbody>\n",
       "    <tr>\n",
       "      <th>3</th>\n",
       "      <td>🥳</td>\n",
       "      <td>6</td>\n",
       "    </tr>\n",
       "    <tr>\n",
       "      <th>5</th>\n",
       "      <td>👹</td>\n",
       "      <td>4</td>\n",
       "    </tr>\n",
       "    <tr>\n",
       "      <th>19</th>\n",
       "      <td>💙</td>\n",
       "      <td>4</td>\n",
       "    </tr>\n",
       "    <tr>\n",
       "      <th>13</th>\n",
       "      <td>⚽</td>\n",
       "      <td>4</td>\n",
       "    </tr>\n",
       "    <tr>\n",
       "      <th>18</th>\n",
       "      <td>😍</td>\n",
       "      <td>3</td>\n",
       "    </tr>\n",
       "  </tbody>\n",
       "</table>\n",
       "</div>"
      ],
      "text/plain": [
       "   emoji  cnt\n",
       "3      🥳    6\n",
       "5      👹    4\n",
       "19     💙    4\n",
       "13     ⚽    4\n",
       "18     😍    3"
      ]
     },
     "execution_count": 29,
     "metadata": {},
     "output_type": "execute_result"
    }
   ],
   "source": [
    "from collections import Counter\n",
    "\n",
    "temp_emojis = pd.DataFrame(list(zip(Counter(sum(negativos.emojis.values,[])).keys(),Counter(sum(negativos.emojis.values,[])).values())))\n",
    "temp_emojis.columns = ['emoji', 'cnt']\n",
    "temp_emojis.sort_values('cnt', ascending=False, inplace=True)\n",
    "temp_emojis.head()"
   ]
  },
  {
   "cell_type": "code",
   "execution_count": 30,
   "metadata": {},
   "outputs": [
    {
     "data": {
      "application/vnd.plotly.v1+json": {
       "config": {
        "linkText": "Export to plot.ly",
        "plotlyServerURL": "https://plot.ly",
        "showLink": false
       },
       "data": [
        {
         "type": "bar",
         "x": [
          "🥳",
          "👹",
          "💙",
          "⚽",
          "😍",
          "➕",
          "🌕",
          "🔥",
          "💪🏼",
          "⚽️"
         ],
         "y": [
          6,
          4,
          4,
          4,
          3,
          3,
          2,
          2,
          2,
          2
         ]
        }
       ],
       "layout": {
        "template": {
         "data": {
          "bar": [
           {
            "error_x": {
             "color": "#2a3f5f"
            },
            "error_y": {
             "color": "#2a3f5f"
            },
            "marker": {
             "line": {
              "color": "#E5ECF6",
              "width": 0.5
             }
            },
            "type": "bar"
           }
          ],
          "barpolar": [
           {
            "marker": {
             "line": {
              "color": "#E5ECF6",
              "width": 0.5
             }
            },
            "type": "barpolar"
           }
          ],
          "carpet": [
           {
            "aaxis": {
             "endlinecolor": "#2a3f5f",
             "gridcolor": "white",
             "linecolor": "white",
             "minorgridcolor": "white",
             "startlinecolor": "#2a3f5f"
            },
            "baxis": {
             "endlinecolor": "#2a3f5f",
             "gridcolor": "white",
             "linecolor": "white",
             "minorgridcolor": "white",
             "startlinecolor": "#2a3f5f"
            },
            "type": "carpet"
           }
          ],
          "choropleth": [
           {
            "colorbar": {
             "outlinewidth": 0,
             "ticks": ""
            },
            "type": "choropleth"
           }
          ],
          "contour": [
           {
            "colorbar": {
             "outlinewidth": 0,
             "ticks": ""
            },
            "colorscale": [
             [
              0,
              "#0d0887"
             ],
             [
              0.1111111111111111,
              "#46039f"
             ],
             [
              0.2222222222222222,
              "#7201a8"
             ],
             [
              0.3333333333333333,
              "#9c179e"
             ],
             [
              0.4444444444444444,
              "#bd3786"
             ],
             [
              0.5555555555555556,
              "#d8576b"
             ],
             [
              0.6666666666666666,
              "#ed7953"
             ],
             [
              0.7777777777777778,
              "#fb9f3a"
             ],
             [
              0.8888888888888888,
              "#fdca26"
             ],
             [
              1,
              "#f0f921"
             ]
            ],
            "type": "contour"
           }
          ],
          "contourcarpet": [
           {
            "colorbar": {
             "outlinewidth": 0,
             "ticks": ""
            },
            "type": "contourcarpet"
           }
          ],
          "heatmap": [
           {
            "colorbar": {
             "outlinewidth": 0,
             "ticks": ""
            },
            "colorscale": [
             [
              0,
              "#0d0887"
             ],
             [
              0.1111111111111111,
              "#46039f"
             ],
             [
              0.2222222222222222,
              "#7201a8"
             ],
             [
              0.3333333333333333,
              "#9c179e"
             ],
             [
              0.4444444444444444,
              "#bd3786"
             ],
             [
              0.5555555555555556,
              "#d8576b"
             ],
             [
              0.6666666666666666,
              "#ed7953"
             ],
             [
              0.7777777777777778,
              "#fb9f3a"
             ],
             [
              0.8888888888888888,
              "#fdca26"
             ],
             [
              1,
              "#f0f921"
             ]
            ],
            "type": "heatmap"
           }
          ],
          "heatmapgl": [
           {
            "colorbar": {
             "outlinewidth": 0,
             "ticks": ""
            },
            "colorscale": [
             [
              0,
              "#0d0887"
             ],
             [
              0.1111111111111111,
              "#46039f"
             ],
             [
              0.2222222222222222,
              "#7201a8"
             ],
             [
              0.3333333333333333,
              "#9c179e"
             ],
             [
              0.4444444444444444,
              "#bd3786"
             ],
             [
              0.5555555555555556,
              "#d8576b"
             ],
             [
              0.6666666666666666,
              "#ed7953"
             ],
             [
              0.7777777777777778,
              "#fb9f3a"
             ],
             [
              0.8888888888888888,
              "#fdca26"
             ],
             [
              1,
              "#f0f921"
             ]
            ],
            "type": "heatmapgl"
           }
          ],
          "histogram": [
           {
            "marker": {
             "colorbar": {
              "outlinewidth": 0,
              "ticks": ""
             }
            },
            "type": "histogram"
           }
          ],
          "histogram2d": [
           {
            "colorbar": {
             "outlinewidth": 0,
             "ticks": ""
            },
            "colorscale": [
             [
              0,
              "#0d0887"
             ],
             [
              0.1111111111111111,
              "#46039f"
             ],
             [
              0.2222222222222222,
              "#7201a8"
             ],
             [
              0.3333333333333333,
              "#9c179e"
             ],
             [
              0.4444444444444444,
              "#bd3786"
             ],
             [
              0.5555555555555556,
              "#d8576b"
             ],
             [
              0.6666666666666666,
              "#ed7953"
             ],
             [
              0.7777777777777778,
              "#fb9f3a"
             ],
             [
              0.8888888888888888,
              "#fdca26"
             ],
             [
              1,
              "#f0f921"
             ]
            ],
            "type": "histogram2d"
           }
          ],
          "histogram2dcontour": [
           {
            "colorbar": {
             "outlinewidth": 0,
             "ticks": ""
            },
            "colorscale": [
             [
              0,
              "#0d0887"
             ],
             [
              0.1111111111111111,
              "#46039f"
             ],
             [
              0.2222222222222222,
              "#7201a8"
             ],
             [
              0.3333333333333333,
              "#9c179e"
             ],
             [
              0.4444444444444444,
              "#bd3786"
             ],
             [
              0.5555555555555556,
              "#d8576b"
             ],
             [
              0.6666666666666666,
              "#ed7953"
             ],
             [
              0.7777777777777778,
              "#fb9f3a"
             ],
             [
              0.8888888888888888,
              "#fdca26"
             ],
             [
              1,
              "#f0f921"
             ]
            ],
            "type": "histogram2dcontour"
           }
          ],
          "mesh3d": [
           {
            "colorbar": {
             "outlinewidth": 0,
             "ticks": ""
            },
            "type": "mesh3d"
           }
          ],
          "parcoords": [
           {
            "line": {
             "colorbar": {
              "outlinewidth": 0,
              "ticks": ""
             }
            },
            "type": "parcoords"
           }
          ],
          "pie": [
           {
            "automargin": true,
            "type": "pie"
           }
          ],
          "scatter": [
           {
            "marker": {
             "colorbar": {
              "outlinewidth": 0,
              "ticks": ""
             }
            },
            "type": "scatter"
           }
          ],
          "scatter3d": [
           {
            "line": {
             "colorbar": {
              "outlinewidth": 0,
              "ticks": ""
             }
            },
            "marker": {
             "colorbar": {
              "outlinewidth": 0,
              "ticks": ""
             }
            },
            "type": "scatter3d"
           }
          ],
          "scattercarpet": [
           {
            "marker": {
             "colorbar": {
              "outlinewidth": 0,
              "ticks": ""
             }
            },
            "type": "scattercarpet"
           }
          ],
          "scattergeo": [
           {
            "marker": {
             "colorbar": {
              "outlinewidth": 0,
              "ticks": ""
             }
            },
            "type": "scattergeo"
           }
          ],
          "scattergl": [
           {
            "marker": {
             "colorbar": {
              "outlinewidth": 0,
              "ticks": ""
             }
            },
            "type": "scattergl"
           }
          ],
          "scattermapbox": [
           {
            "marker": {
             "colorbar": {
              "outlinewidth": 0,
              "ticks": ""
             }
            },
            "type": "scattermapbox"
           }
          ],
          "scatterpolar": [
           {
            "marker": {
             "colorbar": {
              "outlinewidth": 0,
              "ticks": ""
             }
            },
            "type": "scatterpolar"
           }
          ],
          "scatterpolargl": [
           {
            "marker": {
             "colorbar": {
              "outlinewidth": 0,
              "ticks": ""
             }
            },
            "type": "scatterpolargl"
           }
          ],
          "scatterternary": [
           {
            "marker": {
             "colorbar": {
              "outlinewidth": 0,
              "ticks": ""
             }
            },
            "type": "scatterternary"
           }
          ],
          "surface": [
           {
            "colorbar": {
             "outlinewidth": 0,
             "ticks": ""
            },
            "colorscale": [
             [
              0,
              "#0d0887"
             ],
             [
              0.1111111111111111,
              "#46039f"
             ],
             [
              0.2222222222222222,
              "#7201a8"
             ],
             [
              0.3333333333333333,
              "#9c179e"
             ],
             [
              0.4444444444444444,
              "#bd3786"
             ],
             [
              0.5555555555555556,
              "#d8576b"
             ],
             [
              0.6666666666666666,
              "#ed7953"
             ],
             [
              0.7777777777777778,
              "#fb9f3a"
             ],
             [
              0.8888888888888888,
              "#fdca26"
             ],
             [
              1,
              "#f0f921"
             ]
            ],
            "type": "surface"
           }
          ],
          "table": [
           {
            "cells": {
             "fill": {
              "color": "#EBF0F8"
             },
             "line": {
              "color": "white"
             }
            },
            "header": {
             "fill": {
              "color": "#C8D4E3"
             },
             "line": {
              "color": "white"
             }
            },
            "type": "table"
           }
          ]
         },
         "layout": {
          "annotationdefaults": {
           "arrowcolor": "#2a3f5f",
           "arrowhead": 0,
           "arrowwidth": 1
          },
          "autotypenumbers": "strict",
          "coloraxis": {
           "colorbar": {
            "outlinewidth": 0,
            "ticks": ""
           }
          },
          "colorscale": {
           "diverging": [
            [
             0,
             "#8e0152"
            ],
            [
             0.1,
             "#c51b7d"
            ],
            [
             0.2,
             "#de77ae"
            ],
            [
             0.3,
             "#f1b6da"
            ],
            [
             0.4,
             "#fde0ef"
            ],
            [
             0.5,
             "#f7f7f7"
            ],
            [
             0.6,
             "#e6f5d0"
            ],
            [
             0.7,
             "#b8e186"
            ],
            [
             0.8,
             "#7fbc41"
            ],
            [
             0.9,
             "#4d9221"
            ],
            [
             1,
             "#276419"
            ]
           ],
           "sequential": [
            [
             0,
             "#0d0887"
            ],
            [
             0.1111111111111111,
             "#46039f"
            ],
            [
             0.2222222222222222,
             "#7201a8"
            ],
            [
             0.3333333333333333,
             "#9c179e"
            ],
            [
             0.4444444444444444,
             "#bd3786"
            ],
            [
             0.5555555555555556,
             "#d8576b"
            ],
            [
             0.6666666666666666,
             "#ed7953"
            ],
            [
             0.7777777777777778,
             "#fb9f3a"
            ],
            [
             0.8888888888888888,
             "#fdca26"
            ],
            [
             1,
             "#f0f921"
            ]
           ],
           "sequentialminus": [
            [
             0,
             "#0d0887"
            ],
            [
             0.1111111111111111,
             "#46039f"
            ],
            [
             0.2222222222222222,
             "#7201a8"
            ],
            [
             0.3333333333333333,
             "#9c179e"
            ],
            [
             0.4444444444444444,
             "#bd3786"
            ],
            [
             0.5555555555555556,
             "#d8576b"
            ],
            [
             0.6666666666666666,
             "#ed7953"
            ],
            [
             0.7777777777777778,
             "#fb9f3a"
            ],
            [
             0.8888888888888888,
             "#fdca26"
            ],
            [
             1,
             "#f0f921"
            ]
           ]
          },
          "colorway": [
           "#636efa",
           "#EF553B",
           "#00cc96",
           "#ab63fa",
           "#FFA15A",
           "#19d3f3",
           "#FF6692",
           "#B6E880",
           "#FF97FF",
           "#FECB52"
          ],
          "font": {
           "color": "#2a3f5f"
          },
          "geo": {
           "bgcolor": "white",
           "lakecolor": "white",
           "landcolor": "#E5ECF6",
           "showlakes": true,
           "showland": true,
           "subunitcolor": "white"
          },
          "hoverlabel": {
           "align": "left"
          },
          "hovermode": "closest",
          "mapbox": {
           "style": "light"
          },
          "paper_bgcolor": "white",
          "plot_bgcolor": "#E5ECF6",
          "polar": {
           "angularaxis": {
            "gridcolor": "white",
            "linecolor": "white",
            "ticks": ""
           },
           "bgcolor": "#E5ECF6",
           "radialaxis": {
            "gridcolor": "white",
            "linecolor": "white",
            "ticks": ""
           }
          },
          "scene": {
           "xaxis": {
            "backgroundcolor": "#E5ECF6",
            "gridcolor": "white",
            "gridwidth": 2,
            "linecolor": "white",
            "showbackground": true,
            "ticks": "",
            "zerolinecolor": "white"
           },
           "yaxis": {
            "backgroundcolor": "#E5ECF6",
            "gridcolor": "white",
            "gridwidth": 2,
            "linecolor": "white",
            "showbackground": true,
            "ticks": "",
            "zerolinecolor": "white"
           },
           "zaxis": {
            "backgroundcolor": "#E5ECF6",
            "gridcolor": "white",
            "gridwidth": 2,
            "linecolor": "white",
            "showbackground": true,
            "ticks": "",
            "zerolinecolor": "white"
           }
          },
          "shapedefaults": {
           "line": {
            "color": "#2a3f5f"
           }
          },
          "ternary": {
           "aaxis": {
            "gridcolor": "white",
            "linecolor": "white",
            "ticks": ""
           },
           "baxis": {
            "gridcolor": "white",
            "linecolor": "white",
            "ticks": ""
           },
           "bgcolor": "#E5ECF6",
           "caxis": {
            "gridcolor": "white",
            "linecolor": "white",
            "ticks": ""
           }
          },
          "title": {
           "x": 0.05
          },
          "xaxis": {
           "automargin": true,
           "gridcolor": "white",
           "linecolor": "white",
           "ticks": "",
           "title": {
            "standoff": 15
           },
           "zerolinecolor": "white",
           "zerolinewidth": 2
          },
          "yaxis": {
           "automargin": true,
           "gridcolor": "white",
           "linecolor": "white",
           "ticks": "",
           "title": {
            "standoff": 15
           },
           "zerolinecolor": "white",
           "zerolinewidth": 2
          }
         }
        },
        "title": {
         "text": "Emojis Negativos"
        }
       }
      },
      "text/html": [
       "<div>                            <div id=\"fbfa10dc-dfbc-4a4e-b456-eb012456d3ba\" class=\"plotly-graph-div\" style=\"height:525px; width:100%;\"></div>            <script type=\"text/javascript\">                require([\"plotly\"], function(Plotly) {                    window.PLOTLYENV=window.PLOTLYENV || {};                                    if (document.getElementById(\"fbfa10dc-dfbc-4a4e-b456-eb012456d3ba\")) {                    Plotly.newPlot(                        \"fbfa10dc-dfbc-4a4e-b456-eb012456d3ba\",                        [{\"type\": \"bar\", \"x\": [\"\\ud83e\\udd73\", \"\\ud83d\\udc79\", \"\\ud83d\\udc99\", \"\\u26bd\", \"\\ud83d\\ude0d\", \"\\u2795\", \"\\ud83c\\udf15\", \"\\ud83d\\udd25\", \"\\ud83d\\udcaa\\ud83c\\udffc\", \"\\u26bd\\ufe0f\"], \"y\": [6, 4, 4, 4, 3, 3, 2, 2, 2, 2]}],                        {\"template\": {\"data\": {\"bar\": [{\"error_x\": {\"color\": \"#2a3f5f\"}, \"error_y\": {\"color\": \"#2a3f5f\"}, \"marker\": {\"line\": {\"color\": \"#E5ECF6\", \"width\": 0.5}}, \"type\": \"bar\"}], \"barpolar\": [{\"marker\": {\"line\": {\"color\": \"#E5ECF6\", \"width\": 0.5}}, \"type\": \"barpolar\"}], \"carpet\": [{\"aaxis\": {\"endlinecolor\": \"#2a3f5f\", \"gridcolor\": \"white\", \"linecolor\": \"white\", \"minorgridcolor\": \"white\", \"startlinecolor\": \"#2a3f5f\"}, \"baxis\": {\"endlinecolor\": \"#2a3f5f\", \"gridcolor\": \"white\", \"linecolor\": \"white\", \"minorgridcolor\": \"white\", \"startlinecolor\": \"#2a3f5f\"}, \"type\": \"carpet\"}], \"choropleth\": [{\"colorbar\": {\"outlinewidth\": 0, \"ticks\": \"\"}, \"type\": \"choropleth\"}], \"contour\": [{\"colorbar\": {\"outlinewidth\": 0, \"ticks\": \"\"}, \"colorscale\": [[0.0, \"#0d0887\"], [0.1111111111111111, \"#46039f\"], [0.2222222222222222, \"#7201a8\"], [0.3333333333333333, \"#9c179e\"], [0.4444444444444444, \"#bd3786\"], [0.5555555555555556, \"#d8576b\"], [0.6666666666666666, \"#ed7953\"], [0.7777777777777778, \"#fb9f3a\"], [0.8888888888888888, \"#fdca26\"], [1.0, \"#f0f921\"]], \"type\": \"contour\"}], \"contourcarpet\": [{\"colorbar\": {\"outlinewidth\": 0, \"ticks\": \"\"}, \"type\": \"contourcarpet\"}], \"heatmap\": [{\"colorbar\": {\"outlinewidth\": 0, \"ticks\": \"\"}, \"colorscale\": [[0.0, \"#0d0887\"], [0.1111111111111111, \"#46039f\"], [0.2222222222222222, \"#7201a8\"], [0.3333333333333333, \"#9c179e\"], [0.4444444444444444, \"#bd3786\"], [0.5555555555555556, \"#d8576b\"], [0.6666666666666666, \"#ed7953\"], [0.7777777777777778, \"#fb9f3a\"], [0.8888888888888888, \"#fdca26\"], [1.0, \"#f0f921\"]], \"type\": \"heatmap\"}], \"heatmapgl\": [{\"colorbar\": {\"outlinewidth\": 0, \"ticks\": \"\"}, \"colorscale\": [[0.0, \"#0d0887\"], [0.1111111111111111, \"#46039f\"], [0.2222222222222222, \"#7201a8\"], [0.3333333333333333, \"#9c179e\"], [0.4444444444444444, \"#bd3786\"], [0.5555555555555556, \"#d8576b\"], [0.6666666666666666, \"#ed7953\"], [0.7777777777777778, \"#fb9f3a\"], [0.8888888888888888, \"#fdca26\"], [1.0, \"#f0f921\"]], \"type\": \"heatmapgl\"}], \"histogram\": [{\"marker\": {\"colorbar\": {\"outlinewidth\": 0, \"ticks\": \"\"}}, \"type\": \"histogram\"}], \"histogram2d\": [{\"colorbar\": {\"outlinewidth\": 0, \"ticks\": \"\"}, \"colorscale\": [[0.0, \"#0d0887\"], [0.1111111111111111, \"#46039f\"], [0.2222222222222222, \"#7201a8\"], [0.3333333333333333, \"#9c179e\"], [0.4444444444444444, \"#bd3786\"], [0.5555555555555556, \"#d8576b\"], [0.6666666666666666, \"#ed7953\"], [0.7777777777777778, \"#fb9f3a\"], [0.8888888888888888, \"#fdca26\"], [1.0, \"#f0f921\"]], \"type\": \"histogram2d\"}], \"histogram2dcontour\": [{\"colorbar\": {\"outlinewidth\": 0, \"ticks\": \"\"}, \"colorscale\": [[0.0, \"#0d0887\"], [0.1111111111111111, \"#46039f\"], [0.2222222222222222, \"#7201a8\"], [0.3333333333333333, \"#9c179e\"], [0.4444444444444444, \"#bd3786\"], [0.5555555555555556, \"#d8576b\"], [0.6666666666666666, \"#ed7953\"], [0.7777777777777778, \"#fb9f3a\"], [0.8888888888888888, \"#fdca26\"], [1.0, \"#f0f921\"]], \"type\": \"histogram2dcontour\"}], \"mesh3d\": [{\"colorbar\": {\"outlinewidth\": 0, \"ticks\": \"\"}, \"type\": \"mesh3d\"}], \"parcoords\": [{\"line\": {\"colorbar\": {\"outlinewidth\": 0, \"ticks\": \"\"}}, \"type\": \"parcoords\"}], \"pie\": [{\"automargin\": true, \"type\": \"pie\"}], \"scatter\": [{\"marker\": {\"colorbar\": {\"outlinewidth\": 0, \"ticks\": \"\"}}, \"type\": \"scatter\"}], \"scatter3d\": [{\"line\": {\"colorbar\": {\"outlinewidth\": 0, \"ticks\": \"\"}}, \"marker\": {\"colorbar\": {\"outlinewidth\": 0, \"ticks\": \"\"}}, \"type\": \"scatter3d\"}], \"scattercarpet\": [{\"marker\": {\"colorbar\": {\"outlinewidth\": 0, \"ticks\": \"\"}}, \"type\": \"scattercarpet\"}], \"scattergeo\": [{\"marker\": {\"colorbar\": {\"outlinewidth\": 0, \"ticks\": \"\"}}, \"type\": \"scattergeo\"}], \"scattergl\": [{\"marker\": {\"colorbar\": {\"outlinewidth\": 0, \"ticks\": \"\"}}, \"type\": \"scattergl\"}], \"scattermapbox\": [{\"marker\": {\"colorbar\": {\"outlinewidth\": 0, \"ticks\": \"\"}}, \"type\": \"scattermapbox\"}], \"scatterpolar\": [{\"marker\": {\"colorbar\": {\"outlinewidth\": 0, \"ticks\": \"\"}}, \"type\": \"scatterpolar\"}], \"scatterpolargl\": [{\"marker\": {\"colorbar\": {\"outlinewidth\": 0, \"ticks\": \"\"}}, \"type\": \"scatterpolargl\"}], \"scatterternary\": [{\"marker\": {\"colorbar\": {\"outlinewidth\": 0, \"ticks\": \"\"}}, \"type\": \"scatterternary\"}], \"surface\": [{\"colorbar\": {\"outlinewidth\": 0, \"ticks\": \"\"}, \"colorscale\": [[0.0, \"#0d0887\"], [0.1111111111111111, \"#46039f\"], [0.2222222222222222, \"#7201a8\"], [0.3333333333333333, \"#9c179e\"], [0.4444444444444444, \"#bd3786\"], [0.5555555555555556, \"#d8576b\"], [0.6666666666666666, \"#ed7953\"], [0.7777777777777778, \"#fb9f3a\"], [0.8888888888888888, \"#fdca26\"], [1.0, \"#f0f921\"]], \"type\": \"surface\"}], \"table\": [{\"cells\": {\"fill\": {\"color\": \"#EBF0F8\"}, \"line\": {\"color\": \"white\"}}, \"header\": {\"fill\": {\"color\": \"#C8D4E3\"}, \"line\": {\"color\": \"white\"}}, \"type\": \"table\"}]}, \"layout\": {\"annotationdefaults\": {\"arrowcolor\": \"#2a3f5f\", \"arrowhead\": 0, \"arrowwidth\": 1}, \"autotypenumbers\": \"strict\", \"coloraxis\": {\"colorbar\": {\"outlinewidth\": 0, \"ticks\": \"\"}}, \"colorscale\": {\"diverging\": [[0, \"#8e0152\"], [0.1, \"#c51b7d\"], [0.2, \"#de77ae\"], [0.3, \"#f1b6da\"], [0.4, \"#fde0ef\"], [0.5, \"#f7f7f7\"], [0.6, \"#e6f5d0\"], [0.7, \"#b8e186\"], [0.8, \"#7fbc41\"], [0.9, \"#4d9221\"], [1, \"#276419\"]], \"sequential\": [[0.0, \"#0d0887\"], [0.1111111111111111, \"#46039f\"], [0.2222222222222222, \"#7201a8\"], [0.3333333333333333, \"#9c179e\"], [0.4444444444444444, \"#bd3786\"], [0.5555555555555556, \"#d8576b\"], [0.6666666666666666, \"#ed7953\"], [0.7777777777777778, \"#fb9f3a\"], [0.8888888888888888, \"#fdca26\"], [1.0, \"#f0f921\"]], \"sequentialminus\": [[0.0, \"#0d0887\"], [0.1111111111111111, \"#46039f\"], [0.2222222222222222, \"#7201a8\"], [0.3333333333333333, \"#9c179e\"], [0.4444444444444444, \"#bd3786\"], [0.5555555555555556, \"#d8576b\"], [0.6666666666666666, \"#ed7953\"], [0.7777777777777778, \"#fb9f3a\"], [0.8888888888888888, \"#fdca26\"], [1.0, \"#f0f921\"]]}, \"colorway\": [\"#636efa\", \"#EF553B\", \"#00cc96\", \"#ab63fa\", \"#FFA15A\", \"#19d3f3\", \"#FF6692\", \"#B6E880\", \"#FF97FF\", \"#FECB52\"], \"font\": {\"color\": \"#2a3f5f\"}, \"geo\": {\"bgcolor\": \"white\", \"lakecolor\": \"white\", \"landcolor\": \"#E5ECF6\", \"showlakes\": true, \"showland\": true, \"subunitcolor\": \"white\"}, \"hoverlabel\": {\"align\": \"left\"}, \"hovermode\": \"closest\", \"mapbox\": {\"style\": \"light\"}, \"paper_bgcolor\": \"white\", \"plot_bgcolor\": \"#E5ECF6\", \"polar\": {\"angularaxis\": {\"gridcolor\": \"white\", \"linecolor\": \"white\", \"ticks\": \"\"}, \"bgcolor\": \"#E5ECF6\", \"radialaxis\": {\"gridcolor\": \"white\", \"linecolor\": \"white\", \"ticks\": \"\"}}, \"scene\": {\"xaxis\": {\"backgroundcolor\": \"#E5ECF6\", \"gridcolor\": \"white\", \"gridwidth\": 2, \"linecolor\": \"white\", \"showbackground\": true, \"ticks\": \"\", \"zerolinecolor\": \"white\"}, \"yaxis\": {\"backgroundcolor\": \"#E5ECF6\", \"gridcolor\": \"white\", \"gridwidth\": 2, \"linecolor\": \"white\", \"showbackground\": true, \"ticks\": \"\", \"zerolinecolor\": \"white\"}, \"zaxis\": {\"backgroundcolor\": \"#E5ECF6\", \"gridcolor\": \"white\", \"gridwidth\": 2, \"linecolor\": \"white\", \"showbackground\": true, \"ticks\": \"\", \"zerolinecolor\": \"white\"}}, \"shapedefaults\": {\"line\": {\"color\": \"#2a3f5f\"}}, \"ternary\": {\"aaxis\": {\"gridcolor\": \"white\", \"linecolor\": \"white\", \"ticks\": \"\"}, \"baxis\": {\"gridcolor\": \"white\", \"linecolor\": \"white\", \"ticks\": \"\"}, \"bgcolor\": \"#E5ECF6\", \"caxis\": {\"gridcolor\": \"white\", \"linecolor\": \"white\", \"ticks\": \"\"}}, \"title\": {\"x\": 0.05}, \"xaxis\": {\"automargin\": true, \"gridcolor\": \"white\", \"linecolor\": \"white\", \"ticks\": \"\", \"title\": {\"standoff\": 15}, \"zerolinecolor\": \"white\", \"zerolinewidth\": 2}, \"yaxis\": {\"automargin\": true, \"gridcolor\": \"white\", \"linecolor\": \"white\", \"ticks\": \"\", \"title\": {\"standoff\": 15}, \"zerolinecolor\": \"white\", \"zerolinewidth\": 2}}}, \"title\": {\"text\": \"Emojis Negativos\"}},                        {\"responsive\": true}                    ).then(function(){\n",
       "                            \n",
       "var gd = document.getElementById('fbfa10dc-dfbc-4a4e-b456-eb012456d3ba');\n",
       "var x = new MutationObserver(function (mutations, observer) {{\n",
       "        var display = window.getComputedStyle(gd).display;\n",
       "        if (!display || display === 'none') {{\n",
       "            console.log([gd, 'removed!']);\n",
       "            Plotly.purge(gd);\n",
       "            observer.disconnect();\n",
       "        }}\n",
       "}});\n",
       "\n",
       "// Listen for the removal of the full notebook cells\n",
       "var notebookContainer = gd.closest('#notebook-container');\n",
       "if (notebookContainer) {{\n",
       "    x.observe(notebookContainer, {childList: true});\n",
       "}}\n",
       "\n",
       "// Listen for the clearing of the current output cell\n",
       "var outputEl = gd.closest('.output');\n",
       "if (outputEl) {{\n",
       "    x.observe(outputEl, {childList: true});\n",
       "}}\n",
       "\n",
       "                        })                };                });            </script>        </div>"
      ]
     },
     "metadata": {},
     "output_type": "display_data"
    }
   ],
   "source": [
    "trace = go.Bar(x=temp_emojis.emoji.values[:10],\n",
    "               y=temp_emojis.cnt.values[:10])\n",
    "\n",
    "layout = go.Layout(title='Emojis Negativos')\n",
    "\n",
    "fig = go.Figure(data=[trace], layout=layout)\n",
    "iplot(fig)"
   ]
  },
  {
   "cell_type": "code",
   "execution_count": 48,
   "metadata": {},
   "outputs": [
    {
     "data": {
      "text/html": [
       "<div>\n",
       "<style scoped>\n",
       "    .dataframe tbody tr th:only-of-type {\n",
       "        vertical-align: middle;\n",
       "    }\n",
       "\n",
       "    .dataframe tbody tr th {\n",
       "        vertical-align: top;\n",
       "    }\n",
       "\n",
       "    .dataframe thead th {\n",
       "        text-align: right;\n",
       "    }\n",
       "</style>\n",
       "<table border=\"1\" class=\"dataframe\">\n",
       "  <thead>\n",
       "    <tr style=\"text-align: right;\">\n",
       "      <th></th>\n",
       "      <th>fecha</th>\n",
       "      <th>cnt</th>\n",
       "    </tr>\n",
       "  </thead>\n",
       "  <tbody>\n",
       "    <tr>\n",
       "      <th>0</th>\n",
       "      <td>2020-12-07</td>\n",
       "      <td>54</td>\n",
       "    </tr>\n",
       "    <tr>\n",
       "      <th>6</th>\n",
       "      <td>2020-12-08</td>\n",
       "      <td>1</td>\n",
       "    </tr>\n",
       "    <tr>\n",
       "      <th>3</th>\n",
       "      <td>2020-12-09</td>\n",
       "      <td>4</td>\n",
       "    </tr>\n",
       "    <tr>\n",
       "      <th>4</th>\n",
       "      <td>2020-12-10</td>\n",
       "      <td>3</td>\n",
       "    </tr>\n",
       "    <tr>\n",
       "      <th>2</th>\n",
       "      <td>2020-12-11</td>\n",
       "      <td>5</td>\n",
       "    </tr>\n",
       "    <tr>\n",
       "      <th>1</th>\n",
       "      <td>2020-12-13</td>\n",
       "      <td>6</td>\n",
       "    </tr>\n",
       "    <tr>\n",
       "      <th>5</th>\n",
       "      <td>2020-12-14</td>\n",
       "      <td>2</td>\n",
       "    </tr>\n",
       "  </tbody>\n",
       "</table>\n",
       "</div>"
      ],
      "text/plain": [
       "        fecha  cnt\n",
       "0  2020-12-07   54\n",
       "6  2020-12-08    1\n",
       "3  2020-12-09    4\n",
       "4  2020-12-10    3\n",
       "2  2020-12-11    5\n",
       "1  2020-12-13    6\n",
       "5  2020-12-14    2"
      ]
     },
     "execution_count": 48,
     "metadata": {},
     "output_type": "execute_result"
    }
   ],
   "source": [
    "negativos['fecha'] = negativos.fecha\n",
    "temp = pd.DataFrame(negativos.fecha.value_counts()).reset_index()\n",
    "temp.columns = ['fecha', 'cnt']\n",
    "temp = temp.sort_values('fecha')\n",
    "temp"
   ]
  },
  {
   "cell_type": "code",
   "execution_count": 49,
   "metadata": {},
   "outputs": [
    {
     "data": {
      "text/html": [
       "        <script type=\"text/javascript\">\n",
       "        window.PlotlyConfig = {MathJaxConfig: 'local'};\n",
       "        if (window.MathJax) {MathJax.Hub.Config({SVG: {font: \"STIX-Web\"}});}\n",
       "        if (typeof require !== 'undefined') {\n",
       "        require.undef(\"plotly\");\n",
       "        requirejs.config({\n",
       "            paths: {\n",
       "                'plotly': ['https://cdn.plot.ly/plotly-latest.min']\n",
       "            }\n",
       "        });\n",
       "        require(['plotly'], function(Plotly) {\n",
       "            window._Plotly = Plotly;\n",
       "        });\n",
       "        }\n",
       "        </script>\n",
       "        "
      ]
     },
     "metadata": {},
     "output_type": "display_data"
    }
   ],
   "source": [
    "import plotly.io as pio\n",
    "import plotly.express as px\n",
    "import plotly.graph_objs as go\n",
    "from plotly.offline import download_plotlyjs, init_notebook_mode, plot, iplot\n",
    "\n",
    "import matplotlib.pyplot as plt\n",
    "%matplotlib inline\n",
    "init_notebook_mode(connected=True)"
   ]
  },
  {
   "cell_type": "code",
   "execution_count": 50,
   "metadata": {},
   "outputs": [
    {
     "data": {
      "application/vnd.plotly.v1+json": {
       "config": {
        "linkText": "Export to plot.ly",
        "plotlyServerURL": "https://plot.ly",
        "showLink": false
       },
       "data": [
        {
         "hoverinfo": "text",
         "line": {
          "color": "#1DA1F2"
         },
         "mode": "lines+markers",
         "name": "Días",
         "text": [
          "Fecha: 2020-12-07<br>Tuits: 54",
          "Fecha: 2020-12-08<br>Tuits: 1",
          "Fecha: 2020-12-09<br>Tuits: 4",
          "Fecha: 2020-12-10<br>Tuits: 3",
          "Fecha: 2020-12-11<br>Tuits: 5",
          "Fecha: 2020-12-13<br>Tuits: 6",
          "Fecha: 2020-12-14<br>Tuits: 2"
         ],
         "type": "scatter",
         "x": [
          "2020-12-07",
          "2020-12-08",
          "2020-12-09",
          "2020-12-10",
          "2020-12-11",
          "2020-12-13",
          "2020-12-14"
         ],
         "y": [
          54,
          1,
          4,
          3,
          5,
          6,
          2
         ]
        }
       ],
       "layout": {
        "template": {
         "data": {
          "bar": [
           {
            "error_x": {
             "color": "#2a3f5f"
            },
            "error_y": {
             "color": "#2a3f5f"
            },
            "marker": {
             "line": {
              "color": "#E5ECF6",
              "width": 0.5
             }
            },
            "type": "bar"
           }
          ],
          "barpolar": [
           {
            "marker": {
             "line": {
              "color": "#E5ECF6",
              "width": 0.5
             }
            },
            "type": "barpolar"
           }
          ],
          "carpet": [
           {
            "aaxis": {
             "endlinecolor": "#2a3f5f",
             "gridcolor": "white",
             "linecolor": "white",
             "minorgridcolor": "white",
             "startlinecolor": "#2a3f5f"
            },
            "baxis": {
             "endlinecolor": "#2a3f5f",
             "gridcolor": "white",
             "linecolor": "white",
             "minorgridcolor": "white",
             "startlinecolor": "#2a3f5f"
            },
            "type": "carpet"
           }
          ],
          "choropleth": [
           {
            "colorbar": {
             "outlinewidth": 0,
             "ticks": ""
            },
            "type": "choropleth"
           }
          ],
          "contour": [
           {
            "colorbar": {
             "outlinewidth": 0,
             "ticks": ""
            },
            "colorscale": [
             [
              0,
              "#0d0887"
             ],
             [
              0.1111111111111111,
              "#46039f"
             ],
             [
              0.2222222222222222,
              "#7201a8"
             ],
             [
              0.3333333333333333,
              "#9c179e"
             ],
             [
              0.4444444444444444,
              "#bd3786"
             ],
             [
              0.5555555555555556,
              "#d8576b"
             ],
             [
              0.6666666666666666,
              "#ed7953"
             ],
             [
              0.7777777777777778,
              "#fb9f3a"
             ],
             [
              0.8888888888888888,
              "#fdca26"
             ],
             [
              1,
              "#f0f921"
             ]
            ],
            "type": "contour"
           }
          ],
          "contourcarpet": [
           {
            "colorbar": {
             "outlinewidth": 0,
             "ticks": ""
            },
            "type": "contourcarpet"
           }
          ],
          "heatmap": [
           {
            "colorbar": {
             "outlinewidth": 0,
             "ticks": ""
            },
            "colorscale": [
             [
              0,
              "#0d0887"
             ],
             [
              0.1111111111111111,
              "#46039f"
             ],
             [
              0.2222222222222222,
              "#7201a8"
             ],
             [
              0.3333333333333333,
              "#9c179e"
             ],
             [
              0.4444444444444444,
              "#bd3786"
             ],
             [
              0.5555555555555556,
              "#d8576b"
             ],
             [
              0.6666666666666666,
              "#ed7953"
             ],
             [
              0.7777777777777778,
              "#fb9f3a"
             ],
             [
              0.8888888888888888,
              "#fdca26"
             ],
             [
              1,
              "#f0f921"
             ]
            ],
            "type": "heatmap"
           }
          ],
          "heatmapgl": [
           {
            "colorbar": {
             "outlinewidth": 0,
             "ticks": ""
            },
            "colorscale": [
             [
              0,
              "#0d0887"
             ],
             [
              0.1111111111111111,
              "#46039f"
             ],
             [
              0.2222222222222222,
              "#7201a8"
             ],
             [
              0.3333333333333333,
              "#9c179e"
             ],
             [
              0.4444444444444444,
              "#bd3786"
             ],
             [
              0.5555555555555556,
              "#d8576b"
             ],
             [
              0.6666666666666666,
              "#ed7953"
             ],
             [
              0.7777777777777778,
              "#fb9f3a"
             ],
             [
              0.8888888888888888,
              "#fdca26"
             ],
             [
              1,
              "#f0f921"
             ]
            ],
            "type": "heatmapgl"
           }
          ],
          "histogram": [
           {
            "marker": {
             "colorbar": {
              "outlinewidth": 0,
              "ticks": ""
             }
            },
            "type": "histogram"
           }
          ],
          "histogram2d": [
           {
            "colorbar": {
             "outlinewidth": 0,
             "ticks": ""
            },
            "colorscale": [
             [
              0,
              "#0d0887"
             ],
             [
              0.1111111111111111,
              "#46039f"
             ],
             [
              0.2222222222222222,
              "#7201a8"
             ],
             [
              0.3333333333333333,
              "#9c179e"
             ],
             [
              0.4444444444444444,
              "#bd3786"
             ],
             [
              0.5555555555555556,
              "#d8576b"
             ],
             [
              0.6666666666666666,
              "#ed7953"
             ],
             [
              0.7777777777777778,
              "#fb9f3a"
             ],
             [
              0.8888888888888888,
              "#fdca26"
             ],
             [
              1,
              "#f0f921"
             ]
            ],
            "type": "histogram2d"
           }
          ],
          "histogram2dcontour": [
           {
            "colorbar": {
             "outlinewidth": 0,
             "ticks": ""
            },
            "colorscale": [
             [
              0,
              "#0d0887"
             ],
             [
              0.1111111111111111,
              "#46039f"
             ],
             [
              0.2222222222222222,
              "#7201a8"
             ],
             [
              0.3333333333333333,
              "#9c179e"
             ],
             [
              0.4444444444444444,
              "#bd3786"
             ],
             [
              0.5555555555555556,
              "#d8576b"
             ],
             [
              0.6666666666666666,
              "#ed7953"
             ],
             [
              0.7777777777777778,
              "#fb9f3a"
             ],
             [
              0.8888888888888888,
              "#fdca26"
             ],
             [
              1,
              "#f0f921"
             ]
            ],
            "type": "histogram2dcontour"
           }
          ],
          "mesh3d": [
           {
            "colorbar": {
             "outlinewidth": 0,
             "ticks": ""
            },
            "type": "mesh3d"
           }
          ],
          "parcoords": [
           {
            "line": {
             "colorbar": {
              "outlinewidth": 0,
              "ticks": ""
             }
            },
            "type": "parcoords"
           }
          ],
          "pie": [
           {
            "automargin": true,
            "type": "pie"
           }
          ],
          "scatter": [
           {
            "marker": {
             "colorbar": {
              "outlinewidth": 0,
              "ticks": ""
             }
            },
            "type": "scatter"
           }
          ],
          "scatter3d": [
           {
            "line": {
             "colorbar": {
              "outlinewidth": 0,
              "ticks": ""
             }
            },
            "marker": {
             "colorbar": {
              "outlinewidth": 0,
              "ticks": ""
             }
            },
            "type": "scatter3d"
           }
          ],
          "scattercarpet": [
           {
            "marker": {
             "colorbar": {
              "outlinewidth": 0,
              "ticks": ""
             }
            },
            "type": "scattercarpet"
           }
          ],
          "scattergeo": [
           {
            "marker": {
             "colorbar": {
              "outlinewidth": 0,
              "ticks": ""
             }
            },
            "type": "scattergeo"
           }
          ],
          "scattergl": [
           {
            "marker": {
             "colorbar": {
              "outlinewidth": 0,
              "ticks": ""
             }
            },
            "type": "scattergl"
           }
          ],
          "scattermapbox": [
           {
            "marker": {
             "colorbar": {
              "outlinewidth": 0,
              "ticks": ""
             }
            },
            "type": "scattermapbox"
           }
          ],
          "scatterpolar": [
           {
            "marker": {
             "colorbar": {
              "outlinewidth": 0,
              "ticks": ""
             }
            },
            "type": "scatterpolar"
           }
          ],
          "scatterpolargl": [
           {
            "marker": {
             "colorbar": {
              "outlinewidth": 0,
              "ticks": ""
             }
            },
            "type": "scatterpolargl"
           }
          ],
          "scatterternary": [
           {
            "marker": {
             "colorbar": {
              "outlinewidth": 0,
              "ticks": ""
             }
            },
            "type": "scatterternary"
           }
          ],
          "surface": [
           {
            "colorbar": {
             "outlinewidth": 0,
             "ticks": ""
            },
            "colorscale": [
             [
              0,
              "#0d0887"
             ],
             [
              0.1111111111111111,
              "#46039f"
             ],
             [
              0.2222222222222222,
              "#7201a8"
             ],
             [
              0.3333333333333333,
              "#9c179e"
             ],
             [
              0.4444444444444444,
              "#bd3786"
             ],
             [
              0.5555555555555556,
              "#d8576b"
             ],
             [
              0.6666666666666666,
              "#ed7953"
             ],
             [
              0.7777777777777778,
              "#fb9f3a"
             ],
             [
              0.8888888888888888,
              "#fdca26"
             ],
             [
              1,
              "#f0f921"
             ]
            ],
            "type": "surface"
           }
          ],
          "table": [
           {
            "cells": {
             "fill": {
              "color": "#EBF0F8"
             },
             "line": {
              "color": "white"
             }
            },
            "header": {
             "fill": {
              "color": "#C8D4E3"
             },
             "line": {
              "color": "white"
             }
            },
            "type": "table"
           }
          ]
         },
         "layout": {
          "annotationdefaults": {
           "arrowcolor": "#2a3f5f",
           "arrowhead": 0,
           "arrowwidth": 1
          },
          "autotypenumbers": "strict",
          "coloraxis": {
           "colorbar": {
            "outlinewidth": 0,
            "ticks": ""
           }
          },
          "colorscale": {
           "diverging": [
            [
             0,
             "#8e0152"
            ],
            [
             0.1,
             "#c51b7d"
            ],
            [
             0.2,
             "#de77ae"
            ],
            [
             0.3,
             "#f1b6da"
            ],
            [
             0.4,
             "#fde0ef"
            ],
            [
             0.5,
             "#f7f7f7"
            ],
            [
             0.6,
             "#e6f5d0"
            ],
            [
             0.7,
             "#b8e186"
            ],
            [
             0.8,
             "#7fbc41"
            ],
            [
             0.9,
             "#4d9221"
            ],
            [
             1,
             "#276419"
            ]
           ],
           "sequential": [
            [
             0,
             "#0d0887"
            ],
            [
             0.1111111111111111,
             "#46039f"
            ],
            [
             0.2222222222222222,
             "#7201a8"
            ],
            [
             0.3333333333333333,
             "#9c179e"
            ],
            [
             0.4444444444444444,
             "#bd3786"
            ],
            [
             0.5555555555555556,
             "#d8576b"
            ],
            [
             0.6666666666666666,
             "#ed7953"
            ],
            [
             0.7777777777777778,
             "#fb9f3a"
            ],
            [
             0.8888888888888888,
             "#fdca26"
            ],
            [
             1,
             "#f0f921"
            ]
           ],
           "sequentialminus": [
            [
             0,
             "#0d0887"
            ],
            [
             0.1111111111111111,
             "#46039f"
            ],
            [
             0.2222222222222222,
             "#7201a8"
            ],
            [
             0.3333333333333333,
             "#9c179e"
            ],
            [
             0.4444444444444444,
             "#bd3786"
            ],
            [
             0.5555555555555556,
             "#d8576b"
            ],
            [
             0.6666666666666666,
             "#ed7953"
            ],
            [
             0.7777777777777778,
             "#fb9f3a"
            ],
            [
             0.8888888888888888,
             "#fdca26"
            ],
            [
             1,
             "#f0f921"
            ]
           ]
          },
          "colorway": [
           "#636efa",
           "#EF553B",
           "#00cc96",
           "#ab63fa",
           "#FFA15A",
           "#19d3f3",
           "#FF6692",
           "#B6E880",
           "#FF97FF",
           "#FECB52"
          ],
          "font": {
           "color": "#2a3f5f"
          },
          "geo": {
           "bgcolor": "white",
           "lakecolor": "white",
           "landcolor": "#E5ECF6",
           "showlakes": true,
           "showland": true,
           "subunitcolor": "white"
          },
          "hoverlabel": {
           "align": "left"
          },
          "hovermode": "closest",
          "mapbox": {
           "style": "light"
          },
          "paper_bgcolor": "white",
          "plot_bgcolor": "#E5ECF6",
          "polar": {
           "angularaxis": {
            "gridcolor": "white",
            "linecolor": "white",
            "ticks": ""
           },
           "bgcolor": "#E5ECF6",
           "radialaxis": {
            "gridcolor": "white",
            "linecolor": "white",
            "ticks": ""
           }
          },
          "scene": {
           "xaxis": {
            "backgroundcolor": "#E5ECF6",
            "gridcolor": "white",
            "gridwidth": 2,
            "linecolor": "white",
            "showbackground": true,
            "ticks": "",
            "zerolinecolor": "white"
           },
           "yaxis": {
            "backgroundcolor": "#E5ECF6",
            "gridcolor": "white",
            "gridwidth": 2,
            "linecolor": "white",
            "showbackground": true,
            "ticks": "",
            "zerolinecolor": "white"
           },
           "zaxis": {
            "backgroundcolor": "#E5ECF6",
            "gridcolor": "white",
            "gridwidth": 2,
            "linecolor": "white",
            "showbackground": true,
            "ticks": "",
            "zerolinecolor": "white"
           }
          },
          "shapedefaults": {
           "line": {
            "color": "#2a3f5f"
           }
          },
          "ternary": {
           "aaxis": {
            "gridcolor": "white",
            "linecolor": "white",
            "ticks": ""
           },
           "baxis": {
            "gridcolor": "white",
            "linecolor": "white",
            "ticks": ""
           },
           "bgcolor": "#E5ECF6",
           "caxis": {
            "gridcolor": "white",
            "linecolor": "white",
            "ticks": ""
           }
          },
          "title": {
           "x": 0.05
          },
          "xaxis": {
           "automargin": true,
           "gridcolor": "white",
           "linecolor": "white",
           "ticks": "",
           "title": {
            "standoff": 15
           },
           "zerolinecolor": "white",
           "zerolinewidth": 2
          },
          "yaxis": {
           "automargin": true,
           "gridcolor": "white",
           "linecolor": "white",
           "ticks": "",
           "title": {
            "standoff": 15
           },
           "zerolinecolor": "white",
           "zerolinewidth": 2
          }
         }
        },
        "title": {
         "text": "Número de tuits por día"
        }
       }
      },
      "text/html": [
       "<div>                            <div id=\"c8e57186-eaff-4d9d-8cce-9e74c6d19271\" class=\"plotly-graph-div\" style=\"height:525px; width:100%;\"></div>            <script type=\"text/javascript\">                require([\"plotly\"], function(Plotly) {                    window.PLOTLYENV=window.PLOTLYENV || {};                                    if (document.getElementById(\"c8e57186-eaff-4d9d-8cce-9e74c6d19271\")) {                    Plotly.newPlot(                        \"c8e57186-eaff-4d9d-8cce-9e74c6d19271\",                        [{\"hoverinfo\": \"text\", \"line\": {\"color\": \"#1DA1F2\"}, \"mode\": \"lines+markers\", \"name\": \"D\\u00edas\", \"text\": [\"Fecha: 2020-12-07<br>Tuits: 54\", \"Fecha: 2020-12-08<br>Tuits: 1\", \"Fecha: 2020-12-09<br>Tuits: 4\", \"Fecha: 2020-12-10<br>Tuits: 3\", \"Fecha: 2020-12-11<br>Tuits: 5\", \"Fecha: 2020-12-13<br>Tuits: 6\", \"Fecha: 2020-12-14<br>Tuits: 2\"], \"type\": \"scatter\", \"x\": [\"2020-12-07\", \"2020-12-08\", \"2020-12-09\", \"2020-12-10\", \"2020-12-11\", \"2020-12-13\", \"2020-12-14\"], \"y\": [54, 1, 4, 3, 5, 6, 2]}],                        {\"template\": {\"data\": {\"bar\": [{\"error_x\": {\"color\": \"#2a3f5f\"}, \"error_y\": {\"color\": \"#2a3f5f\"}, \"marker\": {\"line\": {\"color\": \"#E5ECF6\", \"width\": 0.5}}, \"type\": \"bar\"}], \"barpolar\": [{\"marker\": {\"line\": {\"color\": \"#E5ECF6\", \"width\": 0.5}}, \"type\": \"barpolar\"}], \"carpet\": [{\"aaxis\": {\"endlinecolor\": \"#2a3f5f\", \"gridcolor\": \"white\", \"linecolor\": \"white\", \"minorgridcolor\": \"white\", \"startlinecolor\": \"#2a3f5f\"}, \"baxis\": {\"endlinecolor\": \"#2a3f5f\", \"gridcolor\": \"white\", \"linecolor\": \"white\", \"minorgridcolor\": \"white\", \"startlinecolor\": \"#2a3f5f\"}, \"type\": \"carpet\"}], \"choropleth\": [{\"colorbar\": {\"outlinewidth\": 0, \"ticks\": \"\"}, \"type\": \"choropleth\"}], \"contour\": [{\"colorbar\": {\"outlinewidth\": 0, \"ticks\": \"\"}, \"colorscale\": [[0.0, \"#0d0887\"], [0.1111111111111111, \"#46039f\"], [0.2222222222222222, \"#7201a8\"], [0.3333333333333333, \"#9c179e\"], [0.4444444444444444, \"#bd3786\"], [0.5555555555555556, \"#d8576b\"], [0.6666666666666666, \"#ed7953\"], [0.7777777777777778, \"#fb9f3a\"], [0.8888888888888888, \"#fdca26\"], [1.0, \"#f0f921\"]], \"type\": \"contour\"}], \"contourcarpet\": [{\"colorbar\": {\"outlinewidth\": 0, \"ticks\": \"\"}, \"type\": \"contourcarpet\"}], \"heatmap\": [{\"colorbar\": {\"outlinewidth\": 0, \"ticks\": \"\"}, \"colorscale\": [[0.0, \"#0d0887\"], [0.1111111111111111, \"#46039f\"], [0.2222222222222222, \"#7201a8\"], [0.3333333333333333, \"#9c179e\"], [0.4444444444444444, \"#bd3786\"], [0.5555555555555556, \"#d8576b\"], [0.6666666666666666, \"#ed7953\"], [0.7777777777777778, \"#fb9f3a\"], [0.8888888888888888, \"#fdca26\"], [1.0, \"#f0f921\"]], \"type\": \"heatmap\"}], \"heatmapgl\": [{\"colorbar\": {\"outlinewidth\": 0, \"ticks\": \"\"}, \"colorscale\": [[0.0, \"#0d0887\"], [0.1111111111111111, \"#46039f\"], [0.2222222222222222, \"#7201a8\"], [0.3333333333333333, \"#9c179e\"], [0.4444444444444444, \"#bd3786\"], [0.5555555555555556, \"#d8576b\"], [0.6666666666666666, \"#ed7953\"], [0.7777777777777778, \"#fb9f3a\"], [0.8888888888888888, \"#fdca26\"], [1.0, \"#f0f921\"]], \"type\": \"heatmapgl\"}], \"histogram\": [{\"marker\": {\"colorbar\": {\"outlinewidth\": 0, \"ticks\": \"\"}}, \"type\": \"histogram\"}], \"histogram2d\": [{\"colorbar\": {\"outlinewidth\": 0, \"ticks\": \"\"}, \"colorscale\": [[0.0, \"#0d0887\"], [0.1111111111111111, \"#46039f\"], [0.2222222222222222, \"#7201a8\"], [0.3333333333333333, \"#9c179e\"], [0.4444444444444444, \"#bd3786\"], [0.5555555555555556, \"#d8576b\"], [0.6666666666666666, \"#ed7953\"], [0.7777777777777778, \"#fb9f3a\"], [0.8888888888888888, \"#fdca26\"], [1.0, \"#f0f921\"]], \"type\": \"histogram2d\"}], \"histogram2dcontour\": [{\"colorbar\": {\"outlinewidth\": 0, \"ticks\": \"\"}, \"colorscale\": [[0.0, \"#0d0887\"], [0.1111111111111111, \"#46039f\"], [0.2222222222222222, \"#7201a8\"], [0.3333333333333333, \"#9c179e\"], [0.4444444444444444, \"#bd3786\"], [0.5555555555555556, \"#d8576b\"], [0.6666666666666666, \"#ed7953\"], [0.7777777777777778, \"#fb9f3a\"], [0.8888888888888888, \"#fdca26\"], [1.0, \"#f0f921\"]], \"type\": \"histogram2dcontour\"}], \"mesh3d\": [{\"colorbar\": {\"outlinewidth\": 0, \"ticks\": \"\"}, \"type\": \"mesh3d\"}], \"parcoords\": [{\"line\": {\"colorbar\": {\"outlinewidth\": 0, \"ticks\": \"\"}}, \"type\": \"parcoords\"}], \"pie\": [{\"automargin\": true, \"type\": \"pie\"}], \"scatter\": [{\"marker\": {\"colorbar\": {\"outlinewidth\": 0, \"ticks\": \"\"}}, \"type\": \"scatter\"}], \"scatter3d\": [{\"line\": {\"colorbar\": {\"outlinewidth\": 0, \"ticks\": \"\"}}, \"marker\": {\"colorbar\": {\"outlinewidth\": 0, \"ticks\": \"\"}}, \"type\": \"scatter3d\"}], \"scattercarpet\": [{\"marker\": {\"colorbar\": {\"outlinewidth\": 0, \"ticks\": \"\"}}, \"type\": \"scattercarpet\"}], \"scattergeo\": [{\"marker\": {\"colorbar\": {\"outlinewidth\": 0, \"ticks\": \"\"}}, \"type\": \"scattergeo\"}], \"scattergl\": [{\"marker\": {\"colorbar\": {\"outlinewidth\": 0, \"ticks\": \"\"}}, \"type\": \"scattergl\"}], \"scattermapbox\": [{\"marker\": {\"colorbar\": {\"outlinewidth\": 0, \"ticks\": \"\"}}, \"type\": \"scattermapbox\"}], \"scatterpolar\": [{\"marker\": {\"colorbar\": {\"outlinewidth\": 0, \"ticks\": \"\"}}, \"type\": \"scatterpolar\"}], \"scatterpolargl\": [{\"marker\": {\"colorbar\": {\"outlinewidth\": 0, \"ticks\": \"\"}}, \"type\": \"scatterpolargl\"}], \"scatterternary\": [{\"marker\": {\"colorbar\": {\"outlinewidth\": 0, \"ticks\": \"\"}}, \"type\": \"scatterternary\"}], \"surface\": [{\"colorbar\": {\"outlinewidth\": 0, \"ticks\": \"\"}, \"colorscale\": [[0.0, \"#0d0887\"], [0.1111111111111111, \"#46039f\"], [0.2222222222222222, \"#7201a8\"], [0.3333333333333333, \"#9c179e\"], [0.4444444444444444, \"#bd3786\"], [0.5555555555555556, \"#d8576b\"], [0.6666666666666666, \"#ed7953\"], [0.7777777777777778, \"#fb9f3a\"], [0.8888888888888888, \"#fdca26\"], [1.0, \"#f0f921\"]], \"type\": \"surface\"}], \"table\": [{\"cells\": {\"fill\": {\"color\": \"#EBF0F8\"}, \"line\": {\"color\": \"white\"}}, \"header\": {\"fill\": {\"color\": \"#C8D4E3\"}, \"line\": {\"color\": \"white\"}}, \"type\": \"table\"}]}, \"layout\": {\"annotationdefaults\": {\"arrowcolor\": \"#2a3f5f\", \"arrowhead\": 0, \"arrowwidth\": 1}, \"autotypenumbers\": \"strict\", \"coloraxis\": {\"colorbar\": {\"outlinewidth\": 0, \"ticks\": \"\"}}, \"colorscale\": {\"diverging\": [[0, \"#8e0152\"], [0.1, \"#c51b7d\"], [0.2, \"#de77ae\"], [0.3, \"#f1b6da\"], [0.4, \"#fde0ef\"], [0.5, \"#f7f7f7\"], [0.6, \"#e6f5d0\"], [0.7, \"#b8e186\"], [0.8, \"#7fbc41\"], [0.9, \"#4d9221\"], [1, \"#276419\"]], \"sequential\": [[0.0, \"#0d0887\"], [0.1111111111111111, \"#46039f\"], [0.2222222222222222, \"#7201a8\"], [0.3333333333333333, \"#9c179e\"], [0.4444444444444444, \"#bd3786\"], [0.5555555555555556, \"#d8576b\"], [0.6666666666666666, \"#ed7953\"], [0.7777777777777778, \"#fb9f3a\"], [0.8888888888888888, \"#fdca26\"], [1.0, \"#f0f921\"]], \"sequentialminus\": [[0.0, \"#0d0887\"], [0.1111111111111111, \"#46039f\"], [0.2222222222222222, \"#7201a8\"], [0.3333333333333333, \"#9c179e\"], [0.4444444444444444, \"#bd3786\"], [0.5555555555555556, \"#d8576b\"], [0.6666666666666666, \"#ed7953\"], [0.7777777777777778, \"#fb9f3a\"], [0.8888888888888888, \"#fdca26\"], [1.0, \"#f0f921\"]]}, \"colorway\": [\"#636efa\", \"#EF553B\", \"#00cc96\", \"#ab63fa\", \"#FFA15A\", \"#19d3f3\", \"#FF6692\", \"#B6E880\", \"#FF97FF\", \"#FECB52\"], \"font\": {\"color\": \"#2a3f5f\"}, \"geo\": {\"bgcolor\": \"white\", \"lakecolor\": \"white\", \"landcolor\": \"#E5ECF6\", \"showlakes\": true, \"showland\": true, \"subunitcolor\": \"white\"}, \"hoverlabel\": {\"align\": \"left\"}, \"hovermode\": \"closest\", \"mapbox\": {\"style\": \"light\"}, \"paper_bgcolor\": \"white\", \"plot_bgcolor\": \"#E5ECF6\", \"polar\": {\"angularaxis\": {\"gridcolor\": \"white\", \"linecolor\": \"white\", \"ticks\": \"\"}, \"bgcolor\": \"#E5ECF6\", \"radialaxis\": {\"gridcolor\": \"white\", \"linecolor\": \"white\", \"ticks\": \"\"}}, \"scene\": {\"xaxis\": {\"backgroundcolor\": \"#E5ECF6\", \"gridcolor\": \"white\", \"gridwidth\": 2, \"linecolor\": \"white\", \"showbackground\": true, \"ticks\": \"\", \"zerolinecolor\": \"white\"}, \"yaxis\": {\"backgroundcolor\": \"#E5ECF6\", \"gridcolor\": \"white\", \"gridwidth\": 2, \"linecolor\": \"white\", \"showbackground\": true, \"ticks\": \"\", \"zerolinecolor\": \"white\"}, \"zaxis\": {\"backgroundcolor\": \"#E5ECF6\", \"gridcolor\": \"white\", \"gridwidth\": 2, \"linecolor\": \"white\", \"showbackground\": true, \"ticks\": \"\", \"zerolinecolor\": \"white\"}}, \"shapedefaults\": {\"line\": {\"color\": \"#2a3f5f\"}}, \"ternary\": {\"aaxis\": {\"gridcolor\": \"white\", \"linecolor\": \"white\", \"ticks\": \"\"}, \"baxis\": {\"gridcolor\": \"white\", \"linecolor\": \"white\", \"ticks\": \"\"}, \"bgcolor\": \"#E5ECF6\", \"caxis\": {\"gridcolor\": \"white\", \"linecolor\": \"white\", \"ticks\": \"\"}}, \"title\": {\"x\": 0.05}, \"xaxis\": {\"automargin\": true, \"gridcolor\": \"white\", \"linecolor\": \"white\", \"ticks\": \"\", \"title\": {\"standoff\": 15}, \"zerolinecolor\": \"white\", \"zerolinewidth\": 2}, \"yaxis\": {\"automargin\": true, \"gridcolor\": \"white\", \"linecolor\": \"white\", \"ticks\": \"\", \"title\": {\"standoff\": 15}, \"zerolinecolor\": \"white\", \"zerolinewidth\": 2}}}, \"title\": {\"text\": \"N\\u00famero de tuits por d\\u00eda\"}},                        {\"responsive\": true}                    ).then(function(){\n",
       "                            \n",
       "var gd = document.getElementById('c8e57186-eaff-4d9d-8cce-9e74c6d19271');\n",
       "var x = new MutationObserver(function (mutations, observer) {{\n",
       "        var display = window.getComputedStyle(gd).display;\n",
       "        if (!display || display === 'none') {{\n",
       "            console.log([gd, 'removed!']);\n",
       "            Plotly.purge(gd);\n",
       "            observer.disconnect();\n",
       "        }}\n",
       "}});\n",
       "\n",
       "// Listen for the removal of the full notebook cells\n",
       "var notebookContainer = gd.closest('#notebook-container');\n",
       "if (notebookContainer) {{\n",
       "    x.observe(notebookContainer, {childList: true});\n",
       "}}\n",
       "\n",
       "// Listen for the clearing of the current output cell\n",
       "var outputEl = gd.closest('.output');\n",
       "if (outputEl) {{\n",
       "    x.observe(outputEl, {childList: true});\n",
       "}}\n",
       "\n",
       "                        })                };                });            </script>        </div>"
      ]
     },
     "metadata": {},
     "output_type": "display_data"
    }
   ],
   "source": [
    "trace = go.Scatter(x=temp.fecha.values,\n",
    "                   y=temp.cnt.values,\n",
    "                   text=[f\"Fecha: {f}<br>Tuits: {c}\" for f,c in zip(temp.fecha.values,temp.cnt.values)],\n",
    "                   hoverinfo='text',\n",
    "                   mode='lines+markers',\n",
    "                   name='Días',\n",
    "                   line={'color':'#1DA1F2'})\n",
    "\n",
    "layout = go.Layout(title='Número de tuits por día')\n",
    "\n",
    "fig = go.Figure(data=[trace], layout=layout)\n",
    "iplot(fig)"
   ]
  }
 ],
 "metadata": {
  "kernelspec": {
   "display_name": "Python 3",
   "language": "python",
   "name": "python3"
  },
  "language_info": {
   "codemirror_mode": {
    "name": "ipython",
    "version": 3
   },
   "file_extension": ".py",
   "mimetype": "text/x-python",
   "name": "python",
   "nbconvert_exporter": "python",
   "pygments_lexer": "ipython3",
   "version": "3.7.4"
  }
 },
 "nbformat": 4,
 "nbformat_minor": 2
}
